{
  "nbformat": 4,
  "nbformat_minor": 0,
  "metadata": {
    "colab": {
      "name": "Craiglist-Sales-Prediction.ipynb",
      "provenance": [],
      "collapsed_sections": [
        "kdM_eJwFE480",
        "goIaVNsVu7-w",
        "Tju8CQM7wB4J",
        "5Iuw4Kh_4LLR",
        "HmLHEn4s5rfz",
        "7Wwh9e8G4hXe",
        "GtG96yKbxPo8"
      ],
      "toc_visible": true,
      "mount_file_id": "1OHkTOs6g3lKMq8Nuod4s3gP9OcSVqQJ8",
      "authorship_tag": "ABX9TyO0uag/JV6aOfAxfnqqjuGM",
      "include_colab_link": true
    },
    "kernelspec": {
      "name": "python3",
      "display_name": "Python 3"
    },
    "language_info": {
      "name": "python"
    },
    "accelerator": "GPU",
    "gpuClass": "standard"
  },
  "cells": [
    {
      "cell_type": "markdown",
      "metadata": {
        "id": "view-in-github",
        "colab_type": "text"
      },
      "source": [
        "<a href=\"https://colab.research.google.com/github/danielfsimangunsong/craiglist-sales-prediction/blob/main/Craiglist_Sales_Prediction.ipynb\" target=\"_parent\"><img src=\"https://colab.research.google.com/assets/colab-badge.svg\" alt=\"Open In Colab\"/></a>"
      ]
    },
    {
      "cell_type": "markdown",
      "source": [
        "# **Craiglist Sales Prediction**\n",
        "by: [Daniel Fernando Parulian Simangunsong](https://github.com/danielfsimangunsong) | \n",
        "[Github Repository](https://github.com/danielfsimangunsong/craiglist-sales-prediction)\n",
        "\n",
        "---\n",
        "\n",
        "## **Taks List**\n",
        "1. Explore the dataset with the following conditions:\n",
        "  1. The most popular vehicle types by state (Sort by manufacturer, model, fuel, transmission, drive, size, type and paint_color)\n",
        "  2. The most frequently used car status (Hint: use the year column and odometer)\n",
        "  3. State that post the most ads\n",
        "2. Preprocess the dataset\n",
        "3. Make predictions:\n",
        "  1. Prices of used vehicles of certain types\n",
        "  2. Fraud advertisements"
      ],
      "metadata": {
        "id": "imQ90RWnBVRg"
      }
    },
    {
      "cell_type": "markdown",
      "source": [
        "# Set-up"
      ],
      "metadata": {
        "id": "ONhSkR4HET7r"
      }
    },
    {
      "cell_type": "code",
      "source": [
        "! pip install -q kaggle"
      ],
      "metadata": {
        "id": "kB3NYJLMM5cg"
      },
      "execution_count": 1,
      "outputs": []
    },
    {
      "cell_type": "code",
      "source": [
        "from google.colab import files\n",
        "\n",
        "files.upload()"
      ],
      "metadata": {
        "colab": {
          "resources": {
            "http://localhost:8080/nbextensions/google.colab/files.js": {
              "data": "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",
              "ok": true,
              "headers": [
                [
                  "content-type",
                  "application/javascript"
                ]
              ],
              "status": 200,
              "status_text": ""
            }
          },
          "base_uri": "https://localhost:8080/",
          "height": 90
        },
        "id": "5G9lE0huM9uv",
        "outputId": "7939646f-1da7-4fe5-e85b-9d656bcfe6fe"
      },
      "execution_count": 2,
      "outputs": [
        {
          "output_type": "display_data",
          "data": {
            "text/plain": [
              "<IPython.core.display.HTML object>"
            ],
            "text/html": [
              "\n",
              "     <input type=\"file\" id=\"files-c0988c7d-3a45-47d5-af67-fb1f111876d8\" name=\"files[]\" multiple disabled\n",
              "        style=\"border:none\" />\n",
              "     <output id=\"result-c0988c7d-3a45-47d5-af67-fb1f111876d8\">\n",
              "      Upload widget is only available when the cell has been executed in the\n",
              "      current browser session. Please rerun this cell to enable.\n",
              "      </output>\n",
              "      <script src=\"/nbextensions/google.colab/files.js\"></script> "
            ]
          },
          "metadata": {}
        },
        {
          "output_type": "stream",
          "name": "stdout",
          "text": [
            "Saving kaggle.json to kaggle.json\n"
          ]
        },
        {
          "output_type": "execute_result",
          "data": {
            "text/plain": [
              "{'kaggle.json': b'{\"username\":\"danielfernandops\",\"key\":\"24cc724d18fe992359b37824aeea83f1\"}'}"
            ]
          },
          "metadata": {},
          "execution_count": 2
        }
      ]
    },
    {
      "cell_type": "code",
      "source": [
        "! mkdir ~/.kaggle"
      ],
      "metadata": {
        "id": "_L1EVNQIAE1a"
      },
      "execution_count": 4,
      "outputs": []
    },
    {
      "cell_type": "code",
      "source": [
        "! cp kaggle.json ~/.kaggle/"
      ],
      "metadata": {
        "id": "XmMWXcJxNOsj"
      },
      "execution_count": 5,
      "outputs": []
    },
    {
      "cell_type": "code",
      "source": [
        "! chmod 600 ~/.kaggle/kaggle.json"
      ],
      "metadata": {
        "id": "sXqnb631AMdf"
      },
      "execution_count": 6,
      "outputs": []
    },
    {
      "cell_type": "code",
      "source": [
        "! kaggle datasets download austinreese/craigslist-carstrucks-data"
      ],
      "metadata": {
        "colab": {
          "base_uri": "https://localhost:8080/"
        },
        "id": "v6NRt4amAPzd",
        "outputId": "be8c71ad-cfa6-4a65-d7ba-6b74e8482380"
      },
      "execution_count": 7,
      "outputs": [
        {
          "output_type": "stream",
          "name": "stdout",
          "text": [
            "Downloading craigslist-carstrucks-data.zip to /content\n",
            " 96% 251M/262M [00:02<00:00, 121MB/s]\n",
            "100% 262M/262M [00:02<00:00, 99.9MB/s]\n"
          ]
        }
      ]
    },
    {
      "cell_type": "code",
      "source": [
        "# Import libraries\n",
        "import numpy as np\n",
        "import pandas as pd\n",
        "import seaborn as sns\n",
        "import matplotlib.pyplot as plt"
      ],
      "metadata": {
        "id": "GoeAuQpFAp6c"
      },
      "execution_count": 8,
      "outputs": []
    },
    {
      "cell_type": "code",
      "source": [
        "# Import dataset\n",
        "raw_data = pd.read_csv(\"craigslist-carstrucks-data.zip\")"
      ],
      "metadata": {
        "id": "Gu5D5IyeA5MY"
      },
      "execution_count": 9,
      "outputs": []
    },
    {
      "cell_type": "markdown",
      "source": [
        "# Dataset Checking and Exploration"
      ],
      "metadata": {
        "id": "kdM_eJwFE480"
      }
    },
    {
      "cell_type": "code",
      "source": [
        "# First five rows of dataset\n",
        "raw_data.head()"
      ],
      "metadata": {
        "colab": {
          "base_uri": "https://localhost:8080/",
          "height": 305
        },
        "id": "T4c7W6-cBAxI",
        "outputId": "67ad0a81-2aed-40c5-91e8-938267d6b2de"
      },
      "execution_count": null,
      "outputs": [
        {
          "output_type": "execute_result",
          "data": {
            "text/html": [
              "\n",
              "  <div id=\"df-3b20abf1-84d9-4fda-a331-149c212954dc\">\n",
              "    <div class=\"colab-df-container\">\n",
              "      <div>\n",
              "<style scoped>\n",
              "    .dataframe tbody tr th:only-of-type {\n",
              "        vertical-align: middle;\n",
              "    }\n",
              "\n",
              "    .dataframe tbody tr th {\n",
              "        vertical-align: top;\n",
              "    }\n",
              "\n",
              "    .dataframe thead th {\n",
              "        text-align: right;\n",
              "    }\n",
              "</style>\n",
              "<table border=\"1\" class=\"dataframe\">\n",
              "  <thead>\n",
              "    <tr style=\"text-align: right;\">\n",
              "      <th></th>\n",
              "      <th>id</th>\n",
              "      <th>url</th>\n",
              "      <th>region</th>\n",
              "      <th>region_url</th>\n",
              "      <th>price</th>\n",
              "      <th>year</th>\n",
              "      <th>manufacturer</th>\n",
              "      <th>model</th>\n",
              "      <th>condition</th>\n",
              "      <th>cylinders</th>\n",
              "      <th>fuel</th>\n",
              "      <th>odometer</th>\n",
              "      <th>title_status</th>\n",
              "      <th>transmission</th>\n",
              "      <th>VIN</th>\n",
              "      <th>drive</th>\n",
              "      <th>size</th>\n",
              "      <th>type</th>\n",
              "      <th>paint_color</th>\n",
              "      <th>image_url</th>\n",
              "      <th>description</th>\n",
              "      <th>county</th>\n",
              "      <th>state</th>\n",
              "      <th>lat</th>\n",
              "      <th>long</th>\n",
              "      <th>posting_date</th>\n",
              "    </tr>\n",
              "  </thead>\n",
              "  <tbody>\n",
              "    <tr>\n",
              "      <th>0</th>\n",
              "      <td>7222695916</td>\n",
              "      <td>https://prescott.craigslist.org/cto/d/prescott...</td>\n",
              "      <td>prescott</td>\n",
              "      <td>https://prescott.craigslist.org</td>\n",
              "      <td>6000</td>\n",
              "      <td>NaN</td>\n",
              "      <td>NaN</td>\n",
              "      <td>NaN</td>\n",
              "      <td>NaN</td>\n",
              "      <td>NaN</td>\n",
              "      <td>NaN</td>\n",
              "      <td>NaN</td>\n",
              "      <td>NaN</td>\n",
              "      <td>NaN</td>\n",
              "      <td>NaN</td>\n",
              "      <td>NaN</td>\n",
              "      <td>NaN</td>\n",
              "      <td>NaN</td>\n",
              "      <td>NaN</td>\n",
              "      <td>NaN</td>\n",
              "      <td>NaN</td>\n",
              "      <td>NaN</td>\n",
              "      <td>az</td>\n",
              "      <td>NaN</td>\n",
              "      <td>NaN</td>\n",
              "      <td>NaN</td>\n",
              "    </tr>\n",
              "    <tr>\n",
              "      <th>1</th>\n",
              "      <td>7218891961</td>\n",
              "      <td>https://fayar.craigslist.org/ctd/d/bentonville...</td>\n",
              "      <td>fayetteville</td>\n",
              "      <td>https://fayar.craigslist.org</td>\n",
              "      <td>11900</td>\n",
              "      <td>NaN</td>\n",
              "      <td>NaN</td>\n",
              "      <td>NaN</td>\n",
              "      <td>NaN</td>\n",
              "      <td>NaN</td>\n",
              "      <td>NaN</td>\n",
              "      <td>NaN</td>\n",
              "      <td>NaN</td>\n",
              "      <td>NaN</td>\n",
              "      <td>NaN</td>\n",
              "      <td>NaN</td>\n",
              "      <td>NaN</td>\n",
              "      <td>NaN</td>\n",
              "      <td>NaN</td>\n",
              "      <td>NaN</td>\n",
              "      <td>NaN</td>\n",
              "      <td>NaN</td>\n",
              "      <td>ar</td>\n",
              "      <td>NaN</td>\n",
              "      <td>NaN</td>\n",
              "      <td>NaN</td>\n",
              "    </tr>\n",
              "    <tr>\n",
              "      <th>2</th>\n",
              "      <td>7221797935</td>\n",
              "      <td>https://keys.craigslist.org/cto/d/summerland-k...</td>\n",
              "      <td>florida keys</td>\n",
              "      <td>https://keys.craigslist.org</td>\n",
              "      <td>21000</td>\n",
              "      <td>NaN</td>\n",
              "      <td>NaN</td>\n",
              "      <td>NaN</td>\n",
              "      <td>NaN</td>\n",
              "      <td>NaN</td>\n",
              "      <td>NaN</td>\n",
              "      <td>NaN</td>\n",
              "      <td>NaN</td>\n",
              "      <td>NaN</td>\n",
              "      <td>NaN</td>\n",
              "      <td>NaN</td>\n",
              "      <td>NaN</td>\n",
              "      <td>NaN</td>\n",
              "      <td>NaN</td>\n",
              "      <td>NaN</td>\n",
              "      <td>NaN</td>\n",
              "      <td>NaN</td>\n",
              "      <td>fl</td>\n",
              "      <td>NaN</td>\n",
              "      <td>NaN</td>\n",
              "      <td>NaN</td>\n",
              "    </tr>\n",
              "    <tr>\n",
              "      <th>3</th>\n",
              "      <td>7222270760</td>\n",
              "      <td>https://worcester.craigslist.org/cto/d/west-br...</td>\n",
              "      <td>worcester / central MA</td>\n",
              "      <td>https://worcester.craigslist.org</td>\n",
              "      <td>1500</td>\n",
              "      <td>NaN</td>\n",
              "      <td>NaN</td>\n",
              "      <td>NaN</td>\n",
              "      <td>NaN</td>\n",
              "      <td>NaN</td>\n",
              "      <td>NaN</td>\n",
              "      <td>NaN</td>\n",
              "      <td>NaN</td>\n",
              "      <td>NaN</td>\n",
              "      <td>NaN</td>\n",
              "      <td>NaN</td>\n",
              "      <td>NaN</td>\n",
              "      <td>NaN</td>\n",
              "      <td>NaN</td>\n",
              "      <td>NaN</td>\n",
              "      <td>NaN</td>\n",
              "      <td>NaN</td>\n",
              "      <td>ma</td>\n",
              "      <td>NaN</td>\n",
              "      <td>NaN</td>\n",
              "      <td>NaN</td>\n",
              "    </tr>\n",
              "    <tr>\n",
              "      <th>4</th>\n",
              "      <td>7210384030</td>\n",
              "      <td>https://greensboro.craigslist.org/cto/d/trinit...</td>\n",
              "      <td>greensboro</td>\n",
              "      <td>https://greensboro.craigslist.org</td>\n",
              "      <td>4900</td>\n",
              "      <td>NaN</td>\n",
              "      <td>NaN</td>\n",
              "      <td>NaN</td>\n",
              "      <td>NaN</td>\n",
              "      <td>NaN</td>\n",
              "      <td>NaN</td>\n",
              "      <td>NaN</td>\n",
              "      <td>NaN</td>\n",
              "      <td>NaN</td>\n",
              "      <td>NaN</td>\n",
              "      <td>NaN</td>\n",
              "      <td>NaN</td>\n",
              "      <td>NaN</td>\n",
              "      <td>NaN</td>\n",
              "      <td>NaN</td>\n",
              "      <td>NaN</td>\n",
              "      <td>NaN</td>\n",
              "      <td>nc</td>\n",
              "      <td>NaN</td>\n",
              "      <td>NaN</td>\n",
              "      <td>NaN</td>\n",
              "    </tr>\n",
              "  </tbody>\n",
              "</table>\n",
              "</div>\n",
              "      <button class=\"colab-df-convert\" onclick=\"convertToInteractive('df-3b20abf1-84d9-4fda-a331-149c212954dc')\"\n",
              "              title=\"Convert this dataframe to an interactive table.\"\n",
              "              style=\"display:none;\">\n",
              "        \n",
              "  <svg xmlns=\"http://www.w3.org/2000/svg\" height=\"24px\"viewBox=\"0 0 24 24\"\n",
              "       width=\"24px\">\n",
              "    <path d=\"M0 0h24v24H0V0z\" fill=\"none\"/>\n",
              "    <path d=\"M18.56 5.44l.94 2.06.94-2.06 2.06-.94-2.06-.94-.94-2.06-.94 2.06-2.06.94zm-11 1L8.5 8.5l.94-2.06 2.06-.94-2.06-.94L8.5 2.5l-.94 2.06-2.06.94zm10 10l.94 2.06.94-2.06 2.06-.94-2.06-.94-.94-2.06-.94 2.06-2.06.94z\"/><path d=\"M17.41 7.96l-1.37-1.37c-.4-.4-.92-.59-1.43-.59-.52 0-1.04.2-1.43.59L10.3 9.45l-7.72 7.72c-.78.78-.78 2.05 0 2.83L4 21.41c.39.39.9.59 1.41.59.51 0 1.02-.2 1.41-.59l7.78-7.78 2.81-2.81c.8-.78.8-2.07 0-2.86zM5.41 20L4 18.59l7.72-7.72 1.47 1.35L5.41 20z\"/>\n",
              "  </svg>\n",
              "      </button>\n",
              "      \n",
              "  <style>\n",
              "    .colab-df-container {\n",
              "      display:flex;\n",
              "      flex-wrap:wrap;\n",
              "      gap: 12px;\n",
              "    }\n",
              "\n",
              "    .colab-df-convert {\n",
              "      background-color: #E8F0FE;\n",
              "      border: none;\n",
              "      border-radius: 50%;\n",
              "      cursor: pointer;\n",
              "      display: none;\n",
              "      fill: #1967D2;\n",
              "      height: 32px;\n",
              "      padding: 0 0 0 0;\n",
              "      width: 32px;\n",
              "    }\n",
              "\n",
              "    .colab-df-convert:hover {\n",
              "      background-color: #E2EBFA;\n",
              "      box-shadow: 0px 1px 2px rgba(60, 64, 67, 0.3), 0px 1px 3px 1px rgba(60, 64, 67, 0.15);\n",
              "      fill: #174EA6;\n",
              "    }\n",
              "\n",
              "    [theme=dark] .colab-df-convert {\n",
              "      background-color: #3B4455;\n",
              "      fill: #D2E3FC;\n",
              "    }\n",
              "\n",
              "    [theme=dark] .colab-df-convert:hover {\n",
              "      background-color: #434B5C;\n",
              "      box-shadow: 0px 1px 3px 1px rgba(0, 0, 0, 0.15);\n",
              "      filter: drop-shadow(0px 1px 2px rgba(0, 0, 0, 0.3));\n",
              "      fill: #FFFFFF;\n",
              "    }\n",
              "  </style>\n",
              "\n",
              "      <script>\n",
              "        const buttonEl =\n",
              "          document.querySelector('#df-3b20abf1-84d9-4fda-a331-149c212954dc button.colab-df-convert');\n",
              "        buttonEl.style.display =\n",
              "          google.colab.kernel.accessAllowed ? 'block' : 'none';\n",
              "\n",
              "        async function convertToInteractive(key) {\n",
              "          const element = document.querySelector('#df-3b20abf1-84d9-4fda-a331-149c212954dc');\n",
              "          const dataTable =\n",
              "            await google.colab.kernel.invokeFunction('convertToInteractive',\n",
              "                                                     [key], {});\n",
              "          if (!dataTable) return;\n",
              "\n",
              "          const docLinkHtml = 'Like what you see? Visit the ' +\n",
              "            '<a target=\"_blank\" href=https://colab.research.google.com/notebooks/data_table.ipynb>data table notebook</a>'\n",
              "            + ' to learn more about interactive tables.';\n",
              "          element.innerHTML = '';\n",
              "          dataTable['output_type'] = 'display_data';\n",
              "          await google.colab.output.renderOutput(dataTable, element);\n",
              "          const docLink = document.createElement('div');\n",
              "          docLink.innerHTML = docLinkHtml;\n",
              "          element.appendChild(docLink);\n",
              "        }\n",
              "      </script>\n",
              "    </div>\n",
              "  </div>\n",
              "  "
            ],
            "text/plain": [
              "           id  ... posting_date\n",
              "0  7222695916  ...          NaN\n",
              "1  7218891961  ...          NaN\n",
              "2  7221797935  ...          NaN\n",
              "3  7222270760  ...          NaN\n",
              "4  7210384030  ...          NaN\n",
              "\n",
              "[5 rows x 26 columns]"
            ]
          },
          "metadata": {},
          "execution_count": 7
        }
      ]
    },
    {
      "cell_type": "code",
      "source": [
        "print(\"Number of rows: \", raw_data.shape[0])\n",
        "print(\"Number of columns: \", raw_data.shape[1])"
      ],
      "metadata": {
        "id": "lV29BJ8BBMhp",
        "colab": {
          "base_uri": "https://localhost:8080/"
        },
        "outputId": "7657135a-9569-4358-fedb-ed1d0cca3616"
      },
      "execution_count": null,
      "outputs": [
        {
          "output_type": "stream",
          "name": "stdout",
          "text": [
            "Number of rows:  426880\n",
            "Number of columns:  26\n"
          ]
        }
      ]
    },
    {
      "cell_type": "code",
      "source": [
        "# Numeric dataset characteristic\n",
        "raw_data.describe().T"
      ],
      "metadata": {
        "colab": {
          "base_uri": "https://localhost:8080/",
          "height": 268
        },
        "id": "v_jCM1raGqqB",
        "outputId": "140eab4c-c6ff-4ef7-88b8-a4ef3859f4c6"
      },
      "execution_count": null,
      "outputs": [
        {
          "output_type": "execute_result",
          "data": {
            "text/html": [
              "\n",
              "  <div id=\"df-00e43618-77dd-4aa8-a41e-898953bdfb72\">\n",
              "    <div class=\"colab-df-container\">\n",
              "      <div>\n",
              "<style scoped>\n",
              "    .dataframe tbody tr th:only-of-type {\n",
              "        vertical-align: middle;\n",
              "    }\n",
              "\n",
              "    .dataframe tbody tr th {\n",
              "        vertical-align: top;\n",
              "    }\n",
              "\n",
              "    .dataframe thead th {\n",
              "        text-align: right;\n",
              "    }\n",
              "</style>\n",
              "<table border=\"1\" class=\"dataframe\">\n",
              "  <thead>\n",
              "    <tr style=\"text-align: right;\">\n",
              "      <th></th>\n",
              "      <th>count</th>\n",
              "      <th>mean</th>\n",
              "      <th>std</th>\n",
              "      <th>min</th>\n",
              "      <th>25%</th>\n",
              "      <th>50%</th>\n",
              "      <th>75%</th>\n",
              "      <th>max</th>\n",
              "    </tr>\n",
              "  </thead>\n",
              "  <tbody>\n",
              "    <tr>\n",
              "      <th>id</th>\n",
              "      <td>426880.0</td>\n",
              "      <td>7.311487e+09</td>\n",
              "      <td>4.473170e+06</td>\n",
              "      <td>7.207408e+09</td>\n",
              "      <td>7.308143e+09</td>\n",
              "      <td>7.312621e+09</td>\n",
              "      <td>7.315254e+09</td>\n",
              "      <td>7.317101e+09</td>\n",
              "    </tr>\n",
              "    <tr>\n",
              "      <th>price</th>\n",
              "      <td>426880.0</td>\n",
              "      <td>7.519903e+04</td>\n",
              "      <td>1.218228e+07</td>\n",
              "      <td>0.000000e+00</td>\n",
              "      <td>5.900000e+03</td>\n",
              "      <td>1.395000e+04</td>\n",
              "      <td>2.648575e+04</td>\n",
              "      <td>3.736929e+09</td>\n",
              "    </tr>\n",
              "    <tr>\n",
              "      <th>year</th>\n",
              "      <td>425675.0</td>\n",
              "      <td>2.011235e+03</td>\n",
              "      <td>9.452120e+00</td>\n",
              "      <td>1.900000e+03</td>\n",
              "      <td>2.008000e+03</td>\n",
              "      <td>2.013000e+03</td>\n",
              "      <td>2.017000e+03</td>\n",
              "      <td>2.022000e+03</td>\n",
              "    </tr>\n",
              "    <tr>\n",
              "      <th>odometer</th>\n",
              "      <td>422480.0</td>\n",
              "      <td>9.804333e+04</td>\n",
              "      <td>2.138815e+05</td>\n",
              "      <td>0.000000e+00</td>\n",
              "      <td>3.770400e+04</td>\n",
              "      <td>8.554800e+04</td>\n",
              "      <td>1.335425e+05</td>\n",
              "      <td>1.000000e+07</td>\n",
              "    </tr>\n",
              "    <tr>\n",
              "      <th>county</th>\n",
              "      <td>0.0</td>\n",
              "      <td>NaN</td>\n",
              "      <td>NaN</td>\n",
              "      <td>NaN</td>\n",
              "      <td>NaN</td>\n",
              "      <td>NaN</td>\n",
              "      <td>NaN</td>\n",
              "      <td>NaN</td>\n",
              "    </tr>\n",
              "    <tr>\n",
              "      <th>lat</th>\n",
              "      <td>420331.0</td>\n",
              "      <td>3.849394e+01</td>\n",
              "      <td>5.841533e+00</td>\n",
              "      <td>-8.412225e+01</td>\n",
              "      <td>3.460190e+01</td>\n",
              "      <td>3.915010e+01</td>\n",
              "      <td>4.239890e+01</td>\n",
              "      <td>8.239082e+01</td>\n",
              "    </tr>\n",
              "    <tr>\n",
              "      <th>long</th>\n",
              "      <td>420331.0</td>\n",
              "      <td>-9.474860e+01</td>\n",
              "      <td>1.836546e+01</td>\n",
              "      <td>-1.598277e+02</td>\n",
              "      <td>-1.119398e+02</td>\n",
              "      <td>-8.843260e+01</td>\n",
              "      <td>-8.083204e+01</td>\n",
              "      <td>1.738855e+02</td>\n",
              "    </tr>\n",
              "  </tbody>\n",
              "</table>\n",
              "</div>\n",
              "      <button class=\"colab-df-convert\" onclick=\"convertToInteractive('df-00e43618-77dd-4aa8-a41e-898953bdfb72')\"\n",
              "              title=\"Convert this dataframe to an interactive table.\"\n",
              "              style=\"display:none;\">\n",
              "        \n",
              "  <svg xmlns=\"http://www.w3.org/2000/svg\" height=\"24px\"viewBox=\"0 0 24 24\"\n",
              "       width=\"24px\">\n",
              "    <path d=\"M0 0h24v24H0V0z\" fill=\"none\"/>\n",
              "    <path d=\"M18.56 5.44l.94 2.06.94-2.06 2.06-.94-2.06-.94-.94-2.06-.94 2.06-2.06.94zm-11 1L8.5 8.5l.94-2.06 2.06-.94-2.06-.94L8.5 2.5l-.94 2.06-2.06.94zm10 10l.94 2.06.94-2.06 2.06-.94-2.06-.94-.94-2.06-.94 2.06-2.06.94z\"/><path d=\"M17.41 7.96l-1.37-1.37c-.4-.4-.92-.59-1.43-.59-.52 0-1.04.2-1.43.59L10.3 9.45l-7.72 7.72c-.78.78-.78 2.05 0 2.83L4 21.41c.39.39.9.59 1.41.59.51 0 1.02-.2 1.41-.59l7.78-7.78 2.81-2.81c.8-.78.8-2.07 0-2.86zM5.41 20L4 18.59l7.72-7.72 1.47 1.35L5.41 20z\"/>\n",
              "  </svg>\n",
              "      </button>\n",
              "      \n",
              "  <style>\n",
              "    .colab-df-container {\n",
              "      display:flex;\n",
              "      flex-wrap:wrap;\n",
              "      gap: 12px;\n",
              "    }\n",
              "\n",
              "    .colab-df-convert {\n",
              "      background-color: #E8F0FE;\n",
              "      border: none;\n",
              "      border-radius: 50%;\n",
              "      cursor: pointer;\n",
              "      display: none;\n",
              "      fill: #1967D2;\n",
              "      height: 32px;\n",
              "      padding: 0 0 0 0;\n",
              "      width: 32px;\n",
              "    }\n",
              "\n",
              "    .colab-df-convert:hover {\n",
              "      background-color: #E2EBFA;\n",
              "      box-shadow: 0px 1px 2px rgba(60, 64, 67, 0.3), 0px 1px 3px 1px rgba(60, 64, 67, 0.15);\n",
              "      fill: #174EA6;\n",
              "    }\n",
              "\n",
              "    [theme=dark] .colab-df-convert {\n",
              "      background-color: #3B4455;\n",
              "      fill: #D2E3FC;\n",
              "    }\n",
              "\n",
              "    [theme=dark] .colab-df-convert:hover {\n",
              "      background-color: #434B5C;\n",
              "      box-shadow: 0px 1px 3px 1px rgba(0, 0, 0, 0.15);\n",
              "      filter: drop-shadow(0px 1px 2px rgba(0, 0, 0, 0.3));\n",
              "      fill: #FFFFFF;\n",
              "    }\n",
              "  </style>\n",
              "\n",
              "      <script>\n",
              "        const buttonEl =\n",
              "          document.querySelector('#df-00e43618-77dd-4aa8-a41e-898953bdfb72 button.colab-df-convert');\n",
              "        buttonEl.style.display =\n",
              "          google.colab.kernel.accessAllowed ? 'block' : 'none';\n",
              "\n",
              "        async function convertToInteractive(key) {\n",
              "          const element = document.querySelector('#df-00e43618-77dd-4aa8-a41e-898953bdfb72');\n",
              "          const dataTable =\n",
              "            await google.colab.kernel.invokeFunction('convertToInteractive',\n",
              "                                                     [key], {});\n",
              "          if (!dataTable) return;\n",
              "\n",
              "          const docLinkHtml = 'Like what you see? Visit the ' +\n",
              "            '<a target=\"_blank\" href=https://colab.research.google.com/notebooks/data_table.ipynb>data table notebook</a>'\n",
              "            + ' to learn more about interactive tables.';\n",
              "          element.innerHTML = '';\n",
              "          dataTable['output_type'] = 'display_data';\n",
              "          await google.colab.output.renderOutput(dataTable, element);\n",
              "          const docLink = document.createElement('div');\n",
              "          docLink.innerHTML = docLinkHtml;\n",
              "          element.appendChild(docLink);\n",
              "        }\n",
              "      </script>\n",
              "    </div>\n",
              "  </div>\n",
              "  "
            ],
            "text/plain": [
              "             count          mean  ...           75%           max\n",
              "id        426880.0  7.311487e+09  ...  7.315254e+09  7.317101e+09\n",
              "price     426880.0  7.519903e+04  ...  2.648575e+04  3.736929e+09\n",
              "year      425675.0  2.011235e+03  ...  2.017000e+03  2.022000e+03\n",
              "odometer  422480.0  9.804333e+04  ...  1.335425e+05  1.000000e+07\n",
              "county         0.0           NaN  ...           NaN           NaN\n",
              "lat       420331.0  3.849394e+01  ...  4.239890e+01  8.239082e+01\n",
              "long      420331.0 -9.474860e+01  ... -8.083204e+01  1.738855e+02\n",
              "\n",
              "[7 rows x 8 columns]"
            ]
          },
          "metadata": {},
          "execution_count": 9
        }
      ]
    },
    {
      "cell_type": "code",
      "source": [
        "# Non-numeric dataset characteristic\n",
        "raw_data.describe(include=object).T"
      ],
      "metadata": {
        "colab": {
          "base_uri": "https://localhost:8080/",
          "height": 645
        },
        "id": "mlqBR2KTGz6G",
        "outputId": "f8338e2f-f3cc-4388-9808-db2c4a36f094"
      },
      "execution_count": null,
      "outputs": [
        {
          "output_type": "execute_result",
          "data": {
            "text/html": [
              "\n",
              "  <div id=\"df-5f87f1e8-7757-4cc3-8dcf-ed961acb90d0\">\n",
              "    <div class=\"colab-df-container\">\n",
              "      <div>\n",
              "<style scoped>\n",
              "    .dataframe tbody tr th:only-of-type {\n",
              "        vertical-align: middle;\n",
              "    }\n",
              "\n",
              "    .dataframe tbody tr th {\n",
              "        vertical-align: top;\n",
              "    }\n",
              "\n",
              "    .dataframe thead th {\n",
              "        text-align: right;\n",
              "    }\n",
              "</style>\n",
              "<table border=\"1\" class=\"dataframe\">\n",
              "  <thead>\n",
              "    <tr style=\"text-align: right;\">\n",
              "      <th></th>\n",
              "      <th>count</th>\n",
              "      <th>unique</th>\n",
              "      <th>top</th>\n",
              "      <th>freq</th>\n",
              "    </tr>\n",
              "  </thead>\n",
              "  <tbody>\n",
              "    <tr>\n",
              "      <th>url</th>\n",
              "      <td>426880</td>\n",
              "      <td>426880</td>\n",
              "      <td>https://prescott.craigslist.org/cto/d/prescott...</td>\n",
              "      <td>1</td>\n",
              "    </tr>\n",
              "    <tr>\n",
              "      <th>region</th>\n",
              "      <td>426880</td>\n",
              "      <td>404</td>\n",
              "      <td>columbus</td>\n",
              "      <td>3608</td>\n",
              "    </tr>\n",
              "    <tr>\n",
              "      <th>region_url</th>\n",
              "      <td>426880</td>\n",
              "      <td>413</td>\n",
              "      <td>https://spokane.craigslist.org</td>\n",
              "      <td>2988</td>\n",
              "    </tr>\n",
              "    <tr>\n",
              "      <th>manufacturer</th>\n",
              "      <td>409234</td>\n",
              "      <td>42</td>\n",
              "      <td>ford</td>\n",
              "      <td>70985</td>\n",
              "    </tr>\n",
              "    <tr>\n",
              "      <th>model</th>\n",
              "      <td>421603</td>\n",
              "      <td>29667</td>\n",
              "      <td>f-150</td>\n",
              "      <td>8009</td>\n",
              "    </tr>\n",
              "    <tr>\n",
              "      <th>condition</th>\n",
              "      <td>252776</td>\n",
              "      <td>6</td>\n",
              "      <td>good</td>\n",
              "      <td>121456</td>\n",
              "    </tr>\n",
              "    <tr>\n",
              "      <th>cylinders</th>\n",
              "      <td>249202</td>\n",
              "      <td>8</td>\n",
              "      <td>6 cylinders</td>\n",
              "      <td>94169</td>\n",
              "    </tr>\n",
              "    <tr>\n",
              "      <th>fuel</th>\n",
              "      <td>423867</td>\n",
              "      <td>5</td>\n",
              "      <td>gas</td>\n",
              "      <td>356209</td>\n",
              "    </tr>\n",
              "    <tr>\n",
              "      <th>title_status</th>\n",
              "      <td>418638</td>\n",
              "      <td>6</td>\n",
              "      <td>clean</td>\n",
              "      <td>405117</td>\n",
              "    </tr>\n",
              "    <tr>\n",
              "      <th>transmission</th>\n",
              "      <td>424324</td>\n",
              "      <td>3</td>\n",
              "      <td>automatic</td>\n",
              "      <td>336524</td>\n",
              "    </tr>\n",
              "    <tr>\n",
              "      <th>VIN</th>\n",
              "      <td>265838</td>\n",
              "      <td>118264</td>\n",
              "      <td>1FMJU1JT1HEA52352</td>\n",
              "      <td>261</td>\n",
              "    </tr>\n",
              "    <tr>\n",
              "      <th>drive</th>\n",
              "      <td>296313</td>\n",
              "      <td>3</td>\n",
              "      <td>4wd</td>\n",
              "      <td>131904</td>\n",
              "    </tr>\n",
              "    <tr>\n",
              "      <th>size</th>\n",
              "      <td>120519</td>\n",
              "      <td>4</td>\n",
              "      <td>full-size</td>\n",
              "      <td>63465</td>\n",
              "    </tr>\n",
              "    <tr>\n",
              "      <th>type</th>\n",
              "      <td>334022</td>\n",
              "      <td>13</td>\n",
              "      <td>sedan</td>\n",
              "      <td>87056</td>\n",
              "    </tr>\n",
              "    <tr>\n",
              "      <th>paint_color</th>\n",
              "      <td>296677</td>\n",
              "      <td>12</td>\n",
              "      <td>white</td>\n",
              "      <td>79285</td>\n",
              "    </tr>\n",
              "    <tr>\n",
              "      <th>image_url</th>\n",
              "      <td>426812</td>\n",
              "      <td>241899</td>\n",
              "      <td>https://images.craigslist.org/00N0N_1xMPvfxRAI...</td>\n",
              "      <td>7357</td>\n",
              "    </tr>\n",
              "    <tr>\n",
              "      <th>description</th>\n",
              "      <td>426810</td>\n",
              "      <td>360911</td>\n",
              "      <td>35 VEHICLES PRICED UNDER $3000!!!  BIG TIME! T...</td>\n",
              "      <td>231</td>\n",
              "    </tr>\n",
              "    <tr>\n",
              "      <th>state</th>\n",
              "      <td>426880</td>\n",
              "      <td>51</td>\n",
              "      <td>ca</td>\n",
              "      <td>50614</td>\n",
              "    </tr>\n",
              "    <tr>\n",
              "      <th>posting_date</th>\n",
              "      <td>426812</td>\n",
              "      <td>381536</td>\n",
              "      <td>2021-04-23T22:13:05-0400</td>\n",
              "      <td>12</td>\n",
              "    </tr>\n",
              "  </tbody>\n",
              "</table>\n",
              "</div>\n",
              "      <button class=\"colab-df-convert\" onclick=\"convertToInteractive('df-5f87f1e8-7757-4cc3-8dcf-ed961acb90d0')\"\n",
              "              title=\"Convert this dataframe to an interactive table.\"\n",
              "              style=\"display:none;\">\n",
              "        \n",
              "  <svg xmlns=\"http://www.w3.org/2000/svg\" height=\"24px\"viewBox=\"0 0 24 24\"\n",
              "       width=\"24px\">\n",
              "    <path d=\"M0 0h24v24H0V0z\" fill=\"none\"/>\n",
              "    <path d=\"M18.56 5.44l.94 2.06.94-2.06 2.06-.94-2.06-.94-.94-2.06-.94 2.06-2.06.94zm-11 1L8.5 8.5l.94-2.06 2.06-.94-2.06-.94L8.5 2.5l-.94 2.06-2.06.94zm10 10l.94 2.06.94-2.06 2.06-.94-2.06-.94-.94-2.06-.94 2.06-2.06.94z\"/><path d=\"M17.41 7.96l-1.37-1.37c-.4-.4-.92-.59-1.43-.59-.52 0-1.04.2-1.43.59L10.3 9.45l-7.72 7.72c-.78.78-.78 2.05 0 2.83L4 21.41c.39.39.9.59 1.41.59.51 0 1.02-.2 1.41-.59l7.78-7.78 2.81-2.81c.8-.78.8-2.07 0-2.86zM5.41 20L4 18.59l7.72-7.72 1.47 1.35L5.41 20z\"/>\n",
              "  </svg>\n",
              "      </button>\n",
              "      \n",
              "  <style>\n",
              "    .colab-df-container {\n",
              "      display:flex;\n",
              "      flex-wrap:wrap;\n",
              "      gap: 12px;\n",
              "    }\n",
              "\n",
              "    .colab-df-convert {\n",
              "      background-color: #E8F0FE;\n",
              "      border: none;\n",
              "      border-radius: 50%;\n",
              "      cursor: pointer;\n",
              "      display: none;\n",
              "      fill: #1967D2;\n",
              "      height: 32px;\n",
              "      padding: 0 0 0 0;\n",
              "      width: 32px;\n",
              "    }\n",
              "\n",
              "    .colab-df-convert:hover {\n",
              "      background-color: #E2EBFA;\n",
              "      box-shadow: 0px 1px 2px rgba(60, 64, 67, 0.3), 0px 1px 3px 1px rgba(60, 64, 67, 0.15);\n",
              "      fill: #174EA6;\n",
              "    }\n",
              "\n",
              "    [theme=dark] .colab-df-convert {\n",
              "      background-color: #3B4455;\n",
              "      fill: #D2E3FC;\n",
              "    }\n",
              "\n",
              "    [theme=dark] .colab-df-convert:hover {\n",
              "      background-color: #434B5C;\n",
              "      box-shadow: 0px 1px 3px 1px rgba(0, 0, 0, 0.15);\n",
              "      filter: drop-shadow(0px 1px 2px rgba(0, 0, 0, 0.3));\n",
              "      fill: #FFFFFF;\n",
              "    }\n",
              "  </style>\n",
              "\n",
              "      <script>\n",
              "        const buttonEl =\n",
              "          document.querySelector('#df-5f87f1e8-7757-4cc3-8dcf-ed961acb90d0 button.colab-df-convert');\n",
              "        buttonEl.style.display =\n",
              "          google.colab.kernel.accessAllowed ? 'block' : 'none';\n",
              "\n",
              "        async function convertToInteractive(key) {\n",
              "          const element = document.querySelector('#df-5f87f1e8-7757-4cc3-8dcf-ed961acb90d0');\n",
              "          const dataTable =\n",
              "            await google.colab.kernel.invokeFunction('convertToInteractive',\n",
              "                                                     [key], {});\n",
              "          if (!dataTable) return;\n",
              "\n",
              "          const docLinkHtml = 'Like what you see? Visit the ' +\n",
              "            '<a target=\"_blank\" href=https://colab.research.google.com/notebooks/data_table.ipynb>data table notebook</a>'\n",
              "            + ' to learn more about interactive tables.';\n",
              "          element.innerHTML = '';\n",
              "          dataTable['output_type'] = 'display_data';\n",
              "          await google.colab.output.renderOutput(dataTable, element);\n",
              "          const docLink = document.createElement('div');\n",
              "          docLink.innerHTML = docLinkHtml;\n",
              "          element.appendChild(docLink);\n",
              "        }\n",
              "      </script>\n",
              "    </div>\n",
              "  </div>\n",
              "  "
            ],
            "text/plain": [
              "               count  ...    freq\n",
              "url           426880  ...       1\n",
              "region        426880  ...    3608\n",
              "region_url    426880  ...    2988\n",
              "manufacturer  409234  ...   70985\n",
              "model         421603  ...    8009\n",
              "condition     252776  ...  121456\n",
              "cylinders     249202  ...   94169\n",
              "fuel          423867  ...  356209\n",
              "title_status  418638  ...  405117\n",
              "transmission  424324  ...  336524\n",
              "VIN           265838  ...     261\n",
              "drive         296313  ...  131904\n",
              "size          120519  ...   63465\n",
              "type          334022  ...   87056\n",
              "paint_color   296677  ...   79285\n",
              "image_url     426812  ...    7357\n",
              "description   426810  ...     231\n",
              "state         426880  ...   50614\n",
              "posting_date  426812  ...      12\n",
              "\n",
              "[19 rows x 4 columns]"
            ]
          },
          "metadata": {},
          "execution_count": 10
        }
      ]
    },
    {
      "cell_type": "code",
      "source": [
        "# Quick overview of dataset\n",
        "raw_data.info()"
      ],
      "metadata": {
        "colab": {
          "base_uri": "https://localhost:8080/"
        },
        "id": "KQCzUgIVG6Ec",
        "outputId": "e9277f81-4b93-4782-9ef6-1a97b58618bc"
      },
      "execution_count": null,
      "outputs": [
        {
          "output_type": "stream",
          "name": "stdout",
          "text": [
            "<class 'pandas.core.frame.DataFrame'>\n",
            "RangeIndex: 426880 entries, 0 to 426879\n",
            "Data columns (total 26 columns):\n",
            " #   Column        Non-Null Count   Dtype  \n",
            "---  ------        --------------   -----  \n",
            " 0   id            426880 non-null  int64  \n",
            " 1   url           426880 non-null  object \n",
            " 2   region        426880 non-null  object \n",
            " 3   region_url    426880 non-null  object \n",
            " 4   price         426880 non-null  int64  \n",
            " 5   year          425675 non-null  float64\n",
            " 6   manufacturer  409234 non-null  object \n",
            " 7   model         421603 non-null  object \n",
            " 8   condition     252776 non-null  object \n",
            " 9   cylinders     249202 non-null  object \n",
            " 10  fuel          423867 non-null  object \n",
            " 11  odometer      422480 non-null  float64\n",
            " 12  title_status  418638 non-null  object \n",
            " 13  transmission  424324 non-null  object \n",
            " 14  VIN           265838 non-null  object \n",
            " 15  drive         296313 non-null  object \n",
            " 16  size          120519 non-null  object \n",
            " 17  type          334022 non-null  object \n",
            " 18  paint_color   296677 non-null  object \n",
            " 19  image_url     426812 non-null  object \n",
            " 20  description   426810 non-null  object \n",
            " 21  county        0 non-null       float64\n",
            " 22  state         426880 non-null  object \n",
            " 23  lat           420331 non-null  float64\n",
            " 24  long          420331 non-null  float64\n",
            " 25  posting_date  426812 non-null  object \n",
            "dtypes: float64(5), int64(2), object(19)\n",
            "memory usage: 84.7+ MB\n"
          ]
        }
      ]
    },
    {
      "cell_type": "markdown",
      "source": [
        "> As we can see that \"county\" column only has null value, so I will drop it."
      ],
      "metadata": {
        "id": "CWg23E7uH1hX"
      }
    },
    {
      "cell_type": "markdown",
      "source": [
        "### Task 1.1. The most popular vehicle types by state"
      ],
      "metadata": {
        "id": "goIaVNsVu7-w"
      }
    },
    {
      "cell_type": "code",
      "source": [
        "# Display the most popular vehicle types by state\n",
        "# Each state displayed its popular value for each column of manufacturer, model, fuel, transmission, drive, size, type and paint_color\n",
        "state_data = raw_data.groupby(['state']).agg(pd.Series.mode)\n",
        "state_data[['manufacturer', 'model', 'fuel', 'transmission', 'drive', 'size', 'type', 'paint_color']]"
      ],
      "metadata": {
        "colab": {
          "base_uri": "https://localhost:8080/",
          "height": 1000
        },
        "id": "RACyNbtfvPVD",
        "outputId": "4a41082b-dc6f-4958-b7ba-b924b27cb846"
      },
      "execution_count": null,
      "outputs": [
        {
          "output_type": "execute_result",
          "data": {
            "text/html": [
              "\n",
              "  <div id=\"df-afff486c-cfd8-4ff4-a033-c2d379755561\">\n",
              "    <div class=\"colab-df-container\">\n",
              "      <div>\n",
              "<style scoped>\n",
              "    .dataframe tbody tr th:only-of-type {\n",
              "        vertical-align: middle;\n",
              "    }\n",
              "\n",
              "    .dataframe tbody tr th {\n",
              "        vertical-align: top;\n",
              "    }\n",
              "\n",
              "    .dataframe thead th {\n",
              "        text-align: right;\n",
              "    }\n",
              "</style>\n",
              "<table border=\"1\" class=\"dataframe\">\n",
              "  <thead>\n",
              "    <tr style=\"text-align: right;\">\n",
              "      <th></th>\n",
              "      <th>manufacturer</th>\n",
              "      <th>model</th>\n",
              "      <th>fuel</th>\n",
              "      <th>transmission</th>\n",
              "      <th>drive</th>\n",
              "      <th>size</th>\n",
              "      <th>type</th>\n",
              "      <th>paint_color</th>\n",
              "    </tr>\n",
              "    <tr>\n",
              "      <th>state</th>\n",
              "      <th></th>\n",
              "      <th></th>\n",
              "      <th></th>\n",
              "      <th></th>\n",
              "      <th></th>\n",
              "      <th></th>\n",
              "      <th></th>\n",
              "      <th></th>\n",
              "    </tr>\n",
              "  </thead>\n",
              "  <tbody>\n",
              "    <tr>\n",
              "      <th>ak</th>\n",
              "      <td>ford</td>\n",
              "      <td>f-150</td>\n",
              "      <td>gas</td>\n",
              "      <td>automatic</td>\n",
              "      <td>4wd</td>\n",
              "      <td>full-size</td>\n",
              "      <td>SUV</td>\n",
              "      <td>white</td>\n",
              "    </tr>\n",
              "    <tr>\n",
              "      <th>al</th>\n",
              "      <td>ford</td>\n",
              "      <td>f-150</td>\n",
              "      <td>gas</td>\n",
              "      <td>automatic</td>\n",
              "      <td>fwd</td>\n",
              "      <td>full-size</td>\n",
              "      <td>sedan</td>\n",
              "      <td>white</td>\n",
              "    </tr>\n",
              "    <tr>\n",
              "      <th>ar</th>\n",
              "      <td>chevrolet</td>\n",
              "      <td>silverado 1500</td>\n",
              "      <td>gas</td>\n",
              "      <td>automatic</td>\n",
              "      <td>4wd</td>\n",
              "      <td>full-size</td>\n",
              "      <td>pickup</td>\n",
              "      <td>white</td>\n",
              "    </tr>\n",
              "    <tr>\n",
              "      <th>az</th>\n",
              "      <td>ford</td>\n",
              "      <td>f-150</td>\n",
              "      <td>gas</td>\n",
              "      <td>automatic</td>\n",
              "      <td>fwd</td>\n",
              "      <td>full-size</td>\n",
              "      <td>sedan</td>\n",
              "      <td>white</td>\n",
              "    </tr>\n",
              "    <tr>\n",
              "      <th>ca</th>\n",
              "      <td>ford</td>\n",
              "      <td>f-150</td>\n",
              "      <td>gas</td>\n",
              "      <td>automatic</td>\n",
              "      <td>fwd</td>\n",
              "      <td>full-size</td>\n",
              "      <td>sedan</td>\n",
              "      <td>white</td>\n",
              "    </tr>\n",
              "    <tr>\n",
              "      <th>co</th>\n",
              "      <td>ford</td>\n",
              "      <td>f-150</td>\n",
              "      <td>gas</td>\n",
              "      <td>automatic</td>\n",
              "      <td>4wd</td>\n",
              "      <td>full-size</td>\n",
              "      <td>SUV</td>\n",
              "      <td>white</td>\n",
              "    </tr>\n",
              "    <tr>\n",
              "      <th>ct</th>\n",
              "      <td>ford</td>\n",
              "      <td>forester</td>\n",
              "      <td>gas</td>\n",
              "      <td>automatic</td>\n",
              "      <td>4wd</td>\n",
              "      <td>full-size</td>\n",
              "      <td>sedan</td>\n",
              "      <td>black</td>\n",
              "    </tr>\n",
              "    <tr>\n",
              "      <th>dc</th>\n",
              "      <td>ford</td>\n",
              "      <td>camry</td>\n",
              "      <td>gas</td>\n",
              "      <td>automatic</td>\n",
              "      <td>fwd</td>\n",
              "      <td>full-size</td>\n",
              "      <td>sedan</td>\n",
              "      <td>black</td>\n",
              "    </tr>\n",
              "    <tr>\n",
              "      <th>de</th>\n",
              "      <td>ford</td>\n",
              "      <td>super duty f-550 drw</td>\n",
              "      <td>gas</td>\n",
              "      <td>automatic</td>\n",
              "      <td>4wd</td>\n",
              "      <td>full-size</td>\n",
              "      <td>sedan</td>\n",
              "      <td>white</td>\n",
              "    </tr>\n",
              "    <tr>\n",
              "      <th>fl</th>\n",
              "      <td>ford</td>\n",
              "      <td>f-150</td>\n",
              "      <td>gas</td>\n",
              "      <td>automatic</td>\n",
              "      <td>fwd</td>\n",
              "      <td>full-size</td>\n",
              "      <td>sedan</td>\n",
              "      <td>white</td>\n",
              "    </tr>\n",
              "    <tr>\n",
              "      <th>ga</th>\n",
              "      <td>ford</td>\n",
              "      <td>f-150</td>\n",
              "      <td>gas</td>\n",
              "      <td>automatic</td>\n",
              "      <td>fwd</td>\n",
              "      <td>full-size</td>\n",
              "      <td>sedan</td>\n",
              "      <td>white</td>\n",
              "    </tr>\n",
              "    <tr>\n",
              "      <th>hi</th>\n",
              "      <td>toyota</td>\n",
              "      <td>tacoma</td>\n",
              "      <td>gas</td>\n",
              "      <td>automatic</td>\n",
              "      <td>fwd</td>\n",
              "      <td>full-size</td>\n",
              "      <td>sedan</td>\n",
              "      <td>white</td>\n",
              "    </tr>\n",
              "    <tr>\n",
              "      <th>ia</th>\n",
              "      <td>chevrolet</td>\n",
              "      <td>f-150</td>\n",
              "      <td>gas</td>\n",
              "      <td>automatic</td>\n",
              "      <td>4wd</td>\n",
              "      <td>full-size</td>\n",
              "      <td>SUV</td>\n",
              "      <td>white</td>\n",
              "    </tr>\n",
              "    <tr>\n",
              "      <th>id</th>\n",
              "      <td>ford</td>\n",
              "      <td>f-150</td>\n",
              "      <td>gas</td>\n",
              "      <td>automatic</td>\n",
              "      <td>4wd</td>\n",
              "      <td>full-size</td>\n",
              "      <td>SUV</td>\n",
              "      <td>white</td>\n",
              "    </tr>\n",
              "    <tr>\n",
              "      <th>il</th>\n",
              "      <td>ford</td>\n",
              "      <td>silverado 1500</td>\n",
              "      <td>gas</td>\n",
              "      <td>automatic</td>\n",
              "      <td>4wd</td>\n",
              "      <td>full-size</td>\n",
              "      <td>sedan</td>\n",
              "      <td>white</td>\n",
              "    </tr>\n",
              "    <tr>\n",
              "      <th>in</th>\n",
              "      <td>ford</td>\n",
              "      <td>f-150</td>\n",
              "      <td>gas</td>\n",
              "      <td>automatic</td>\n",
              "      <td>4wd</td>\n",
              "      <td>full-size</td>\n",
              "      <td>sedan</td>\n",
              "      <td>white</td>\n",
              "    </tr>\n",
              "    <tr>\n",
              "      <th>ks</th>\n",
              "      <td>chevrolet</td>\n",
              "      <td>silverado 1500</td>\n",
              "      <td>gas</td>\n",
              "      <td>automatic</td>\n",
              "      <td>4wd</td>\n",
              "      <td>full-size</td>\n",
              "      <td>sedan</td>\n",
              "      <td>white</td>\n",
              "    </tr>\n",
              "    <tr>\n",
              "      <th>ky</th>\n",
              "      <td>ford</td>\n",
              "      <td>f-150</td>\n",
              "      <td>gas</td>\n",
              "      <td>automatic</td>\n",
              "      <td>4wd</td>\n",
              "      <td>full-size</td>\n",
              "      <td>SUV</td>\n",
              "      <td>white</td>\n",
              "    </tr>\n",
              "    <tr>\n",
              "      <th>la</th>\n",
              "      <td>ford</td>\n",
              "      <td>mustang</td>\n",
              "      <td>gas</td>\n",
              "      <td>automatic</td>\n",
              "      <td>fwd</td>\n",
              "      <td>full-size</td>\n",
              "      <td>sedan</td>\n",
              "      <td>white</td>\n",
              "    </tr>\n",
              "    <tr>\n",
              "      <th>ma</th>\n",
              "      <td>ford</td>\n",
              "      <td>f-150</td>\n",
              "      <td>gas</td>\n",
              "      <td>automatic</td>\n",
              "      <td>4wd</td>\n",
              "      <td>full-size</td>\n",
              "      <td>sedan</td>\n",
              "      <td>black</td>\n",
              "    </tr>\n",
              "    <tr>\n",
              "      <th>md</th>\n",
              "      <td>ford</td>\n",
              "      <td>accord</td>\n",
              "      <td>gas</td>\n",
              "      <td>automatic</td>\n",
              "      <td>fwd</td>\n",
              "      <td>full-size</td>\n",
              "      <td>sedan</td>\n",
              "      <td>black</td>\n",
              "    </tr>\n",
              "    <tr>\n",
              "      <th>me</th>\n",
              "      <td>ford</td>\n",
              "      <td>[tacoma, wrangler]</td>\n",
              "      <td>gas</td>\n",
              "      <td>automatic</td>\n",
              "      <td>4wd</td>\n",
              "      <td>full-size</td>\n",
              "      <td>SUV</td>\n",
              "      <td>black</td>\n",
              "    </tr>\n",
              "    <tr>\n",
              "      <th>mi</th>\n",
              "      <td>ford</td>\n",
              "      <td>f-150</td>\n",
              "      <td>gas</td>\n",
              "      <td>automatic</td>\n",
              "      <td>4wd</td>\n",
              "      <td>full-size</td>\n",
              "      <td>SUV</td>\n",
              "      <td>white</td>\n",
              "    </tr>\n",
              "    <tr>\n",
              "      <th>mn</th>\n",
              "      <td>ford</td>\n",
              "      <td>f-150</td>\n",
              "      <td>gas</td>\n",
              "      <td>automatic</td>\n",
              "      <td>4wd</td>\n",
              "      <td>full-size</td>\n",
              "      <td>SUV</td>\n",
              "      <td>white</td>\n",
              "    </tr>\n",
              "    <tr>\n",
              "      <th>mo</th>\n",
              "      <td>chevrolet</td>\n",
              "      <td>silverado 1500</td>\n",
              "      <td>gas</td>\n",
              "      <td>automatic</td>\n",
              "      <td>4wd</td>\n",
              "      <td>full-size</td>\n",
              "      <td>pickup</td>\n",
              "      <td>white</td>\n",
              "    </tr>\n",
              "    <tr>\n",
              "      <th>ms</th>\n",
              "      <td>ford</td>\n",
              "      <td>f150</td>\n",
              "      <td>gas</td>\n",
              "      <td>automatic</td>\n",
              "      <td>fwd</td>\n",
              "      <td>full-size</td>\n",
              "      <td>sedan</td>\n",
              "      <td>white</td>\n",
              "    </tr>\n",
              "    <tr>\n",
              "      <th>mt</th>\n",
              "      <td>ford</td>\n",
              "      <td>1500</td>\n",
              "      <td>gas</td>\n",
              "      <td>automatic</td>\n",
              "      <td>4wd</td>\n",
              "      <td>full-size</td>\n",
              "      <td>SUV</td>\n",
              "      <td>white</td>\n",
              "    </tr>\n",
              "    <tr>\n",
              "      <th>nc</th>\n",
              "      <td>ford</td>\n",
              "      <td>f-150</td>\n",
              "      <td>gas</td>\n",
              "      <td>automatic</td>\n",
              "      <td>4wd</td>\n",
              "      <td>full-size</td>\n",
              "      <td>sedan</td>\n",
              "      <td>white</td>\n",
              "    </tr>\n",
              "    <tr>\n",
              "      <th>nd</th>\n",
              "      <td>ford</td>\n",
              "      <td>f-150</td>\n",
              "      <td>gas</td>\n",
              "      <td>automatic</td>\n",
              "      <td>4wd</td>\n",
              "      <td>full-size</td>\n",
              "      <td>SUV</td>\n",
              "      <td>white</td>\n",
              "    </tr>\n",
              "    <tr>\n",
              "      <th>ne</th>\n",
              "      <td>ford</td>\n",
              "      <td>f-150</td>\n",
              "      <td>gas</td>\n",
              "      <td>automatic</td>\n",
              "      <td>4wd</td>\n",
              "      <td>full-size</td>\n",
              "      <td>SUV</td>\n",
              "      <td>white</td>\n",
              "    </tr>\n",
              "    <tr>\n",
              "      <th>nh</th>\n",
              "      <td>ford</td>\n",
              "      <td>tacoma</td>\n",
              "      <td>gas</td>\n",
              "      <td>automatic</td>\n",
              "      <td>4wd</td>\n",
              "      <td>full-size</td>\n",
              "      <td>sedan</td>\n",
              "      <td>black</td>\n",
              "    </tr>\n",
              "    <tr>\n",
              "      <th>nj</th>\n",
              "      <td>ford</td>\n",
              "      <td>accord</td>\n",
              "      <td>gas</td>\n",
              "      <td>automatic</td>\n",
              "      <td>4wd</td>\n",
              "      <td>full-size</td>\n",
              "      <td>sedan</td>\n",
              "      <td>white</td>\n",
              "    </tr>\n",
              "    <tr>\n",
              "      <th>nm</th>\n",
              "      <td>ford</td>\n",
              "      <td>f-150</td>\n",
              "      <td>gas</td>\n",
              "      <td>automatic</td>\n",
              "      <td>fwd</td>\n",
              "      <td>full-size</td>\n",
              "      <td>sedan</td>\n",
              "      <td>white</td>\n",
              "    </tr>\n",
              "    <tr>\n",
              "      <th>nv</th>\n",
              "      <td>ford</td>\n",
              "      <td>3 series</td>\n",
              "      <td>gas</td>\n",
              "      <td>automatic</td>\n",
              "      <td>fwd</td>\n",
              "      <td>full-size</td>\n",
              "      <td>sedan</td>\n",
              "      <td>white</td>\n",
              "    </tr>\n",
              "    <tr>\n",
              "      <th>ny</th>\n",
              "      <td>ford</td>\n",
              "      <td>f-150</td>\n",
              "      <td>gas</td>\n",
              "      <td>automatic</td>\n",
              "      <td>4wd</td>\n",
              "      <td>full-size</td>\n",
              "      <td>sedan</td>\n",
              "      <td>black</td>\n",
              "    </tr>\n",
              "    <tr>\n",
              "      <th>oh</th>\n",
              "      <td>ford</td>\n",
              "      <td>f-150</td>\n",
              "      <td>gas</td>\n",
              "      <td>automatic</td>\n",
              "      <td>4wd</td>\n",
              "      <td>full-size</td>\n",
              "      <td>sedan</td>\n",
              "      <td>white</td>\n",
              "    </tr>\n",
              "    <tr>\n",
              "      <th>ok</th>\n",
              "      <td>ford</td>\n",
              "      <td>f-150</td>\n",
              "      <td>gas</td>\n",
              "      <td>automatic</td>\n",
              "      <td>4wd</td>\n",
              "      <td>full-size</td>\n",
              "      <td>SUV</td>\n",
              "      <td>white</td>\n",
              "    </tr>\n",
              "    <tr>\n",
              "      <th>or</th>\n",
              "      <td>ford</td>\n",
              "      <td>f-150</td>\n",
              "      <td>gas</td>\n",
              "      <td>automatic</td>\n",
              "      <td>4wd</td>\n",
              "      <td>full-size</td>\n",
              "      <td>SUV</td>\n",
              "      <td>white</td>\n",
              "    </tr>\n",
              "    <tr>\n",
              "      <th>pa</th>\n",
              "      <td>ford</td>\n",
              "      <td>civic</td>\n",
              "      <td>gas</td>\n",
              "      <td>automatic</td>\n",
              "      <td>4wd</td>\n",
              "      <td>full-size</td>\n",
              "      <td>sedan</td>\n",
              "      <td>white</td>\n",
              "    </tr>\n",
              "    <tr>\n",
              "      <th>ri</th>\n",
              "      <td>ford</td>\n",
              "      <td>International 4300</td>\n",
              "      <td>gas</td>\n",
              "      <td>automatic</td>\n",
              "      <td>4wd</td>\n",
              "      <td>full-size</td>\n",
              "      <td>sedan</td>\n",
              "      <td>black</td>\n",
              "    </tr>\n",
              "    <tr>\n",
              "      <th>sc</th>\n",
              "      <td>ford</td>\n",
              "      <td>silverado 1500</td>\n",
              "      <td>gas</td>\n",
              "      <td>automatic</td>\n",
              "      <td>4wd</td>\n",
              "      <td>full-size</td>\n",
              "      <td>sedan</td>\n",
              "      <td>white</td>\n",
              "    </tr>\n",
              "    <tr>\n",
              "      <th>sd</th>\n",
              "      <td>ford</td>\n",
              "      <td>silverado 1500</td>\n",
              "      <td>gas</td>\n",
              "      <td>automatic</td>\n",
              "      <td>4wd</td>\n",
              "      <td>full-size</td>\n",
              "      <td>pickup</td>\n",
              "      <td>white</td>\n",
              "    </tr>\n",
              "    <tr>\n",
              "      <th>tn</th>\n",
              "      <td>ford</td>\n",
              "      <td>f-150</td>\n",
              "      <td>gas</td>\n",
              "      <td>automatic</td>\n",
              "      <td>fwd</td>\n",
              "      <td>full-size</td>\n",
              "      <td>sedan</td>\n",
              "      <td>white</td>\n",
              "    </tr>\n",
              "    <tr>\n",
              "      <th>tx</th>\n",
              "      <td>ford</td>\n",
              "      <td>f-150</td>\n",
              "      <td>gas</td>\n",
              "      <td>automatic</td>\n",
              "      <td>fwd</td>\n",
              "      <td>full-size</td>\n",
              "      <td>SUV</td>\n",
              "      <td>white</td>\n",
              "    </tr>\n",
              "    <tr>\n",
              "      <th>ut</th>\n",
              "      <td>ford</td>\n",
              "      <td>f-150</td>\n",
              "      <td>gas</td>\n",
              "      <td>automatic</td>\n",
              "      <td>4wd</td>\n",
              "      <td>full-size</td>\n",
              "      <td>truck</td>\n",
              "      <td>white</td>\n",
              "    </tr>\n",
              "    <tr>\n",
              "      <th>va</th>\n",
              "      <td>ford</td>\n",
              "      <td>f-150</td>\n",
              "      <td>gas</td>\n",
              "      <td>automatic</td>\n",
              "      <td>4wd</td>\n",
              "      <td>full-size</td>\n",
              "      <td>sedan</td>\n",
              "      <td>white</td>\n",
              "    </tr>\n",
              "    <tr>\n",
              "      <th>vt</th>\n",
              "      <td>ford</td>\n",
              "      <td>rogue</td>\n",
              "      <td>gas</td>\n",
              "      <td>automatic</td>\n",
              "      <td>4wd</td>\n",
              "      <td>full-size</td>\n",
              "      <td>SUV</td>\n",
              "      <td>black</td>\n",
              "    </tr>\n",
              "    <tr>\n",
              "      <th>wa</th>\n",
              "      <td>ford</td>\n",
              "      <td>1500</td>\n",
              "      <td>gas</td>\n",
              "      <td>automatic</td>\n",
              "      <td>4wd</td>\n",
              "      <td>full-size</td>\n",
              "      <td>SUV</td>\n",
              "      <td>white</td>\n",
              "    </tr>\n",
              "    <tr>\n",
              "      <th>wi</th>\n",
              "      <td>ford</td>\n",
              "      <td>f-150</td>\n",
              "      <td>gas</td>\n",
              "      <td>automatic</td>\n",
              "      <td>4wd</td>\n",
              "      <td>full-size</td>\n",
              "      <td>SUV</td>\n",
              "      <td>white</td>\n",
              "    </tr>\n",
              "    <tr>\n",
              "      <th>wv</th>\n",
              "      <td>ford</td>\n",
              "      <td>silverado 1500</td>\n",
              "      <td>gas</td>\n",
              "      <td>automatic</td>\n",
              "      <td>4wd</td>\n",
              "      <td>full-size</td>\n",
              "      <td>pickup</td>\n",
              "      <td>white</td>\n",
              "    </tr>\n",
              "    <tr>\n",
              "      <th>wy</th>\n",
              "      <td>ford</td>\n",
              "      <td>f-150</td>\n",
              "      <td>gas</td>\n",
              "      <td>automatic</td>\n",
              "      <td>4wd</td>\n",
              "      <td>full-size</td>\n",
              "      <td>sedan</td>\n",
              "      <td>white</td>\n",
              "    </tr>\n",
              "  </tbody>\n",
              "</table>\n",
              "</div>\n",
              "      <button class=\"colab-df-convert\" onclick=\"convertToInteractive('df-afff486c-cfd8-4ff4-a033-c2d379755561')\"\n",
              "              title=\"Convert this dataframe to an interactive table.\"\n",
              "              style=\"display:none;\">\n",
              "        \n",
              "  <svg xmlns=\"http://www.w3.org/2000/svg\" height=\"24px\"viewBox=\"0 0 24 24\"\n",
              "       width=\"24px\">\n",
              "    <path d=\"M0 0h24v24H0V0z\" fill=\"none\"/>\n",
              "    <path d=\"M18.56 5.44l.94 2.06.94-2.06 2.06-.94-2.06-.94-.94-2.06-.94 2.06-2.06.94zm-11 1L8.5 8.5l.94-2.06 2.06-.94-2.06-.94L8.5 2.5l-.94 2.06-2.06.94zm10 10l.94 2.06.94-2.06 2.06-.94-2.06-.94-.94-2.06-.94 2.06-2.06.94z\"/><path d=\"M17.41 7.96l-1.37-1.37c-.4-.4-.92-.59-1.43-.59-.52 0-1.04.2-1.43.59L10.3 9.45l-7.72 7.72c-.78.78-.78 2.05 0 2.83L4 21.41c.39.39.9.59 1.41.59.51 0 1.02-.2 1.41-.59l7.78-7.78 2.81-2.81c.8-.78.8-2.07 0-2.86zM5.41 20L4 18.59l7.72-7.72 1.47 1.35L5.41 20z\"/>\n",
              "  </svg>\n",
              "      </button>\n",
              "      \n",
              "  <style>\n",
              "    .colab-df-container {\n",
              "      display:flex;\n",
              "      flex-wrap:wrap;\n",
              "      gap: 12px;\n",
              "    }\n",
              "\n",
              "    .colab-df-convert {\n",
              "      background-color: #E8F0FE;\n",
              "      border: none;\n",
              "      border-radius: 50%;\n",
              "      cursor: pointer;\n",
              "      display: none;\n",
              "      fill: #1967D2;\n",
              "      height: 32px;\n",
              "      padding: 0 0 0 0;\n",
              "      width: 32px;\n",
              "    }\n",
              "\n",
              "    .colab-df-convert:hover {\n",
              "      background-color: #E2EBFA;\n",
              "      box-shadow: 0px 1px 2px rgba(60, 64, 67, 0.3), 0px 1px 3px 1px rgba(60, 64, 67, 0.15);\n",
              "      fill: #174EA6;\n",
              "    }\n",
              "\n",
              "    [theme=dark] .colab-df-convert {\n",
              "      background-color: #3B4455;\n",
              "      fill: #D2E3FC;\n",
              "    }\n",
              "\n",
              "    [theme=dark] .colab-df-convert:hover {\n",
              "      background-color: #434B5C;\n",
              "      box-shadow: 0px 1px 3px 1px rgba(0, 0, 0, 0.15);\n",
              "      filter: drop-shadow(0px 1px 2px rgba(0, 0, 0, 0.3));\n",
              "      fill: #FFFFFF;\n",
              "    }\n",
              "  </style>\n",
              "\n",
              "      <script>\n",
              "        const buttonEl =\n",
              "          document.querySelector('#df-afff486c-cfd8-4ff4-a033-c2d379755561 button.colab-df-convert');\n",
              "        buttonEl.style.display =\n",
              "          google.colab.kernel.accessAllowed ? 'block' : 'none';\n",
              "\n",
              "        async function convertToInteractive(key) {\n",
              "          const element = document.querySelector('#df-afff486c-cfd8-4ff4-a033-c2d379755561');\n",
              "          const dataTable =\n",
              "            await google.colab.kernel.invokeFunction('convertToInteractive',\n",
              "                                                     [key], {});\n",
              "          if (!dataTable) return;\n",
              "\n",
              "          const docLinkHtml = 'Like what you see? Visit the ' +\n",
              "            '<a target=\"_blank\" href=https://colab.research.google.com/notebooks/data_table.ipynb>data table notebook</a>'\n",
              "            + ' to learn more about interactive tables.';\n",
              "          element.innerHTML = '';\n",
              "          dataTable['output_type'] = 'display_data';\n",
              "          await google.colab.output.renderOutput(dataTable, element);\n",
              "          const docLink = document.createElement('div');\n",
              "          docLink.innerHTML = docLinkHtml;\n",
              "          element.appendChild(docLink);\n",
              "        }\n",
              "      </script>\n",
              "    </div>\n",
              "  </div>\n",
              "  "
            ],
            "text/plain": [
              "      manufacturer                 model fuel  ...       size    type paint_color\n",
              "state                                          ...                               \n",
              "ak            ford                 f-150  gas  ...  full-size     SUV       white\n",
              "al            ford                 f-150  gas  ...  full-size   sedan       white\n",
              "ar       chevrolet        silverado 1500  gas  ...  full-size  pickup       white\n",
              "az            ford                 f-150  gas  ...  full-size   sedan       white\n",
              "ca            ford                 f-150  gas  ...  full-size   sedan       white\n",
              "co            ford                 f-150  gas  ...  full-size     SUV       white\n",
              "ct            ford              forester  gas  ...  full-size   sedan       black\n",
              "dc            ford                 camry  gas  ...  full-size   sedan       black\n",
              "de            ford  super duty f-550 drw  gas  ...  full-size   sedan       white\n",
              "fl            ford                 f-150  gas  ...  full-size   sedan       white\n",
              "ga            ford                 f-150  gas  ...  full-size   sedan       white\n",
              "hi          toyota                tacoma  gas  ...  full-size   sedan       white\n",
              "ia       chevrolet                 f-150  gas  ...  full-size     SUV       white\n",
              "id            ford                 f-150  gas  ...  full-size     SUV       white\n",
              "il            ford        silverado 1500  gas  ...  full-size   sedan       white\n",
              "in            ford                 f-150  gas  ...  full-size   sedan       white\n",
              "ks       chevrolet        silverado 1500  gas  ...  full-size   sedan       white\n",
              "ky            ford                 f-150  gas  ...  full-size     SUV       white\n",
              "la            ford               mustang  gas  ...  full-size   sedan       white\n",
              "ma            ford                 f-150  gas  ...  full-size   sedan       black\n",
              "md            ford                accord  gas  ...  full-size   sedan       black\n",
              "me            ford    [tacoma, wrangler]  gas  ...  full-size     SUV       black\n",
              "mi            ford                 f-150  gas  ...  full-size     SUV       white\n",
              "mn            ford                 f-150  gas  ...  full-size     SUV       white\n",
              "mo       chevrolet        silverado 1500  gas  ...  full-size  pickup       white\n",
              "ms            ford                  f150  gas  ...  full-size   sedan       white\n",
              "mt            ford                  1500  gas  ...  full-size     SUV       white\n",
              "nc            ford                 f-150  gas  ...  full-size   sedan       white\n",
              "nd            ford                 f-150  gas  ...  full-size     SUV       white\n",
              "ne            ford                 f-150  gas  ...  full-size     SUV       white\n",
              "nh            ford                tacoma  gas  ...  full-size   sedan       black\n",
              "nj            ford                accord  gas  ...  full-size   sedan       white\n",
              "nm            ford                 f-150  gas  ...  full-size   sedan       white\n",
              "nv            ford              3 series  gas  ...  full-size   sedan       white\n",
              "ny            ford                 f-150  gas  ...  full-size   sedan       black\n",
              "oh            ford                 f-150  gas  ...  full-size   sedan       white\n",
              "ok            ford                 f-150  gas  ...  full-size     SUV       white\n",
              "or            ford                 f-150  gas  ...  full-size     SUV       white\n",
              "pa            ford                 civic  gas  ...  full-size   sedan       white\n",
              "ri            ford    International 4300  gas  ...  full-size   sedan       black\n",
              "sc            ford        silverado 1500  gas  ...  full-size   sedan       white\n",
              "sd            ford        silverado 1500  gas  ...  full-size  pickup       white\n",
              "tn            ford                 f-150  gas  ...  full-size   sedan       white\n",
              "tx            ford                 f-150  gas  ...  full-size     SUV       white\n",
              "ut            ford                 f-150  gas  ...  full-size   truck       white\n",
              "va            ford                 f-150  gas  ...  full-size   sedan       white\n",
              "vt            ford                 rogue  gas  ...  full-size     SUV       black\n",
              "wa            ford                  1500  gas  ...  full-size     SUV       white\n",
              "wi            ford                 f-150  gas  ...  full-size     SUV       white\n",
              "wv            ford        silverado 1500  gas  ...  full-size  pickup       white\n",
              "wy            ford                 f-150  gas  ...  full-size   sedan       white\n",
              "\n",
              "[51 rows x 8 columns]"
            ]
          },
          "metadata": {},
          "execution_count": 12
        }
      ]
    },
    {
      "cell_type": "markdown",
      "source": [
        "### Task 1.2. The most frequently state uses car"
      ],
      "metadata": {
        "id": "Tju8CQM7wB4J"
      }
    },
    {
      "cell_type": "code",
      "source": [
        "# Create new column \"total_usage\" that has value of usage of car\n",
        "# The value is from odometer divided by year spent car is used\n",
        "# If there is year that has value less then or equal to 0, the value is odomoter\n",
        "current_year = 2021\n",
        "raw_data[\"total_usage\"] = raw_data.apply(lambda row: row[\"odometer\"]/(current_year-row[\"year\"])\n",
        "                                          if ((current_year-row[\"year\"]) > 0) \n",
        "                                          else row[\"odometer\"],\n",
        "                                          axis=1)"
      ],
      "metadata": {
        "id": "4y9dXdlHvzSO"
      },
      "execution_count": null,
      "outputs": []
    },
    {
      "cell_type": "code",
      "source": [
        "# Create a grouped by dataframe by state\n",
        "groupby_state = raw_data.groupby(\"state\", as_index=False).sum()\n",
        "groupby_state = groupby_state.sort_values(\"total_usage\", ascending=False)\n",
        "groupby_state.head()"
      ],
      "metadata": {
        "colab": {
          "base_uri": "https://localhost:8080/",
          "height": 206
        },
        "id": "jo5lbwikymCK",
        "outputId": "bf2ad52c-d9e2-48ba-ee87-92895c14c8c0"
      },
      "execution_count": null,
      "outputs": [
        {
          "output_type": "execute_result",
          "data": {
            "text/html": [
              "\n",
              "  <div id=\"df-c21d63a6-0c28-4856-8eda-3ae87e294211\">\n",
              "    <div class=\"colab-df-container\">\n",
              "      <div>\n",
              "<style scoped>\n",
              "    .dataframe tbody tr th:only-of-type {\n",
              "        vertical-align: middle;\n",
              "    }\n",
              "\n",
              "    .dataframe tbody tr th {\n",
              "        vertical-align: top;\n",
              "    }\n",
              "\n",
              "    .dataframe thead th {\n",
              "        text-align: right;\n",
              "    }\n",
              "</style>\n",
              "<table border=\"1\" class=\"dataframe\">\n",
              "  <thead>\n",
              "    <tr style=\"text-align: right;\">\n",
              "      <th></th>\n",
              "      <th>state</th>\n",
              "      <th>id</th>\n",
              "      <th>price</th>\n",
              "      <th>year</th>\n",
              "      <th>odometer</th>\n",
              "      <th>county</th>\n",
              "      <th>lat</th>\n",
              "      <th>long</th>\n",
              "      <th>total_usage</th>\n",
              "    </tr>\n",
              "  </thead>\n",
              "  <tbody>\n",
              "    <tr>\n",
              "      <th>4</th>\n",
              "      <td>ca</td>\n",
              "      <td>370118000501500</td>\n",
              "      <td>6079810600</td>\n",
              "      <td>101542366.0</td>\n",
              "      <td>4.647913e+09</td>\n",
              "      <td>0.0</td>\n",
              "      <td>1.831731e+06</td>\n",
              "      <td>-5.951609e+06</td>\n",
              "      <td>5.662541e+08</td>\n",
              "    </tr>\n",
              "    <tr>\n",
              "      <th>43</th>\n",
              "      <td>tx</td>\n",
              "      <td>167780918621832</td>\n",
              "      <td>489738641</td>\n",
              "      <td>46071964.0</td>\n",
              "      <td>2.374037e+09</td>\n",
              "      <td>0.0</td>\n",
              "      <td>7.041447e+05</td>\n",
              "      <td>-2.247992e+06</td>\n",
              "      <td>3.892099e+08</td>\n",
              "    </tr>\n",
              "    <tr>\n",
              "      <th>9</th>\n",
              "      <td>fl</td>\n",
              "      <td>208467430078681</td>\n",
              "      <td>508986359</td>\n",
              "      <td>57205929.0</td>\n",
              "      <td>2.873596e+09</td>\n",
              "      <td>0.0</td>\n",
              "      <td>8.037212e+05</td>\n",
              "      <td>-2.327302e+06</td>\n",
              "      <td>3.565830e+08</td>\n",
              "    </tr>\n",
              "    <tr>\n",
              "      <th>22</th>\n",
              "      <td>mi</td>\n",
              "      <td>123555653136052</td>\n",
              "      <td>508226170</td>\n",
              "      <td>33987799.0</td>\n",
              "      <td>1.891498e+09</td>\n",
              "      <td>0.0</td>\n",
              "      <td>7.201685e+05</td>\n",
              "      <td>-1.422465e+06</td>\n",
              "      <td>2.227544e+08</td>\n",
              "    </tr>\n",
              "    <tr>\n",
              "      <th>34</th>\n",
              "      <td>ny</td>\n",
              "      <td>141736658076538</td>\n",
              "      <td>329106819</td>\n",
              "      <td>38967787.0</td>\n",
              "      <td>1.688486e+09</td>\n",
              "      <td>0.0</td>\n",
              "      <td>8.058422e+05</td>\n",
              "      <td>-1.445525e+06</td>\n",
              "      <td>2.083921e+08</td>\n",
              "    </tr>\n",
              "  </tbody>\n",
              "</table>\n",
              "</div>\n",
              "      <button class=\"colab-df-convert\" onclick=\"convertToInteractive('df-c21d63a6-0c28-4856-8eda-3ae87e294211')\"\n",
              "              title=\"Convert this dataframe to an interactive table.\"\n",
              "              style=\"display:none;\">\n",
              "        \n",
              "  <svg xmlns=\"http://www.w3.org/2000/svg\" height=\"24px\"viewBox=\"0 0 24 24\"\n",
              "       width=\"24px\">\n",
              "    <path d=\"M0 0h24v24H0V0z\" fill=\"none\"/>\n",
              "    <path d=\"M18.56 5.44l.94 2.06.94-2.06 2.06-.94-2.06-.94-.94-2.06-.94 2.06-2.06.94zm-11 1L8.5 8.5l.94-2.06 2.06-.94-2.06-.94L8.5 2.5l-.94 2.06-2.06.94zm10 10l.94 2.06.94-2.06 2.06-.94-2.06-.94-.94-2.06-.94 2.06-2.06.94z\"/><path d=\"M17.41 7.96l-1.37-1.37c-.4-.4-.92-.59-1.43-.59-.52 0-1.04.2-1.43.59L10.3 9.45l-7.72 7.72c-.78.78-.78 2.05 0 2.83L4 21.41c.39.39.9.59 1.41.59.51 0 1.02-.2 1.41-.59l7.78-7.78 2.81-2.81c.8-.78.8-2.07 0-2.86zM5.41 20L4 18.59l7.72-7.72 1.47 1.35L5.41 20z\"/>\n",
              "  </svg>\n",
              "      </button>\n",
              "      \n",
              "  <style>\n",
              "    .colab-df-container {\n",
              "      display:flex;\n",
              "      flex-wrap:wrap;\n",
              "      gap: 12px;\n",
              "    }\n",
              "\n",
              "    .colab-df-convert {\n",
              "      background-color: #E8F0FE;\n",
              "      border: none;\n",
              "      border-radius: 50%;\n",
              "      cursor: pointer;\n",
              "      display: none;\n",
              "      fill: #1967D2;\n",
              "      height: 32px;\n",
              "      padding: 0 0 0 0;\n",
              "      width: 32px;\n",
              "    }\n",
              "\n",
              "    .colab-df-convert:hover {\n",
              "      background-color: #E2EBFA;\n",
              "      box-shadow: 0px 1px 2px rgba(60, 64, 67, 0.3), 0px 1px 3px 1px rgba(60, 64, 67, 0.15);\n",
              "      fill: #174EA6;\n",
              "    }\n",
              "\n",
              "    [theme=dark] .colab-df-convert {\n",
              "      background-color: #3B4455;\n",
              "      fill: #D2E3FC;\n",
              "    }\n",
              "\n",
              "    [theme=dark] .colab-df-convert:hover {\n",
              "      background-color: #434B5C;\n",
              "      box-shadow: 0px 1px 3px 1px rgba(0, 0, 0, 0.15);\n",
              "      filter: drop-shadow(0px 1px 2px rgba(0, 0, 0, 0.3));\n",
              "      fill: #FFFFFF;\n",
              "    }\n",
              "  </style>\n",
              "\n",
              "      <script>\n",
              "        const buttonEl =\n",
              "          document.querySelector('#df-c21d63a6-0c28-4856-8eda-3ae87e294211 button.colab-df-convert');\n",
              "        buttonEl.style.display =\n",
              "          google.colab.kernel.accessAllowed ? 'block' : 'none';\n",
              "\n",
              "        async function convertToInteractive(key) {\n",
              "          const element = document.querySelector('#df-c21d63a6-0c28-4856-8eda-3ae87e294211');\n",
              "          const dataTable =\n",
              "            await google.colab.kernel.invokeFunction('convertToInteractive',\n",
              "                                                     [key], {});\n",
              "          if (!dataTable) return;\n",
              "\n",
              "          const docLinkHtml = 'Like what you see? Visit the ' +\n",
              "            '<a target=\"_blank\" href=https://colab.research.google.com/notebooks/data_table.ipynb>data table notebook</a>'\n",
              "            + ' to learn more about interactive tables.';\n",
              "          element.innerHTML = '';\n",
              "          dataTable['output_type'] = 'display_data';\n",
              "          await google.colab.output.renderOutput(dataTable, element);\n",
              "          const docLink = document.createElement('div');\n",
              "          docLink.innerHTML = docLinkHtml;\n",
              "          element.appendChild(docLink);\n",
              "        }\n",
              "      </script>\n",
              "    </div>\n",
              "  </div>\n",
              "  "
            ],
            "text/plain": [
              "   state               id       price  ...           lat          long   total_usage\n",
              "4     ca  370118000501500  6079810600  ...  1.831731e+06 -5.951609e+06  5.662541e+08\n",
              "43    tx  167780918621832   489738641  ...  7.041447e+05 -2.247992e+06  3.892099e+08\n",
              "9     fl  208467430078681   508986359  ...  8.037212e+05 -2.327302e+06  3.565830e+08\n",
              "22    mi  123555653136052   508226170  ...  7.201685e+05 -1.422465e+06  2.227544e+08\n",
              "34    ny  141736658076538   329106819  ...  8.058422e+05 -1.445525e+06  2.083921e+08\n",
              "\n",
              "[5 rows x 9 columns]"
            ]
          },
          "metadata": {},
          "execution_count": 14
        }
      ]
    },
    {
      "cell_type": "code",
      "source": [
        "# Create a barplot to visualize \"total_usage\" column by state\n",
        "plt.figure(figsize=(15,5))\n",
        "sns.barplot(x=\"state\", y=\"total_usage\", data=groupby_state)\n",
        "plt.xlabel(\"State\")\n",
        "plt.ylabel(\"Total Usage\")\n",
        "plt.title(\"Total Car Usage Each State\")"
      ],
      "metadata": {
        "colab": {
          "base_uri": "https://localhost:8080/",
          "height": 367
        },
        "id": "xZkY9UQ71JfM",
        "outputId": "f4bd56b2-20b5-42d4-ab4d-076b73e8cf70"
      },
      "execution_count": null,
      "outputs": [
        {
          "output_type": "execute_result",
          "data": {
            "text/plain": [
              "Text(0.5, 1.0, 'Total Car Usage Each State')"
            ]
          },
          "metadata": {},
          "execution_count": 15
        },
        {
          "output_type": "display_data",
          "data": {
            "image/png": "[encoded data removed]",
            "text/plain": [
              "<Figure size 1080x360 with 1 Axes>"
            ]
          },
          "metadata": {
            "needs_background": "light"
          }
        }
      ]
    },
    {
      "cell_type": "markdown",
      "source": [
        "> So, California is the most frequent state uses cars"
      ],
      "metadata": {
        "id": "7XOOGzZMwzW9"
      }
    },
    {
      "cell_type": "markdown",
      "source": [
        "### Task 1.3. State that post the most ads"
      ],
      "metadata": {
        "id": "5Iuw4Kh_4LLR"
      }
    },
    {
      "cell_type": "code",
      "source": [
        "# Create a countplot to visualize the state frequency of posting ads\n",
        "plt.figure(figsize=(15,5))\n",
        "sns.countplot(x=\"state\", data=raw_data, order = raw_data[\"state\"].value_counts().index)\n",
        "plt.title(\"Number of Ads per State\");"
      ],
      "metadata": {
        "colab": {
          "base_uri": "https://localhost:8080/",
          "height": 350
        },
        "id": "OY9YGAsU4ZdE",
        "outputId": "a455c531-285d-4a36-b5b4-6617aa379ab9"
      },
      "execution_count": null,
      "outputs": [
        {
          "output_type": "display_data",
          "data": {
            "image/png": "[encoded data removed]",
            "text/plain": [
              "<Figure size 1080x360 with 1 Axes>"
            ]
          },
          "metadata": {
            "needs_background": "light"
          }
        }
      ]
    },
    {
      "cell_type": "markdown",
      "source": [
        "> So, California is the most frequent state that post ads"
      ],
      "metadata": {
        "id": "CisfzRhnxZ_D"
      }
    },
    {
      "cell_type": "markdown",
      "source": [
        "# Task 2. Dataset Preprocessing"
      ],
      "metadata": {
        "id": "HmLHEn4s5rfz"
      }
    },
    {
      "cell_type": "markdown",
      "source": [
        "## Missing values handling\n",
        "In this part also do some feature engeneering to get more useful data."
      ],
      "metadata": {
        "id": "Xo_yRJGk51Y9"
      }
    },
    {
      "cell_type": "code",
      "source": [
        "# Function to check the total and percentage of missing values ​​in the dataframe\n",
        "def cek_null(df):\n",
        "    col_na = df.isnull().sum().sort_values(ascending=False)\n",
        "    percent = col_na / len(df)\n",
        "    \n",
        "    missing_data = pd.concat([col_na, percent], axis=1, keys=[\"Total\", \"Percent\"])\n",
        "    result = missing_data[missing_data[\"Total\"] > 0]\n",
        "    if (result.shape[0]>0):\n",
        "      print(result)\n",
        "    else:\n",
        "      print(\"There is no null value\")"
      ],
      "metadata": {
        "id": "qjive7YU4lIZ"
      },
      "execution_count": 10,
      "outputs": []
    },
    {
      "cell_type": "code",
      "source": [
        "cek_null(raw_data)"
      ],
      "metadata": {
        "colab": {
          "base_uri": "https://localhost:8080/"
        },
        "id": "PjOQuN8I6k0G",
        "outputId": "89d36943-3ee9-478e-93ac-8b2c7e6b5299"
      },
      "execution_count": 11,
      "outputs": [
        {
          "output_type": "stream",
          "name": "stdout",
          "text": [
            "               Total   Percent\n",
            "county        426880  1.000000\n",
            "size          306361  0.717675\n",
            "cylinders     177678  0.416225\n",
            "condition     174104  0.407852\n",
            "VIN           161042  0.377254\n",
            "drive         130567  0.305863\n",
            "paint_color   130203  0.305011\n",
            "type           92858  0.217527\n",
            "manufacturer   17646  0.041337\n",
            "title_status    8242  0.019308\n",
            "lat             6549  0.015342\n",
            "long            6549  0.015342\n",
            "model           5277  0.012362\n",
            "odometer        4400  0.010307\n",
            "fuel            3013  0.007058\n",
            "transmission    2556  0.005988\n",
            "year            1205  0.002823\n",
            "description       70  0.000164\n",
            "image_url         68  0.000159\n",
            "posting_date      68  0.000159\n"
          ]
        }
      ]
    },
    {
      "cell_type": "code",
      "source": [
        "to_del_col = [\"county\", \"id\", \"url\", \"VIN\", \"description\", \"region\", \"region_url\", \"image_url\", \"lat\", \"size\", \"model\", \"long\"]\n",
        "raw_data = raw_data.drop(raw_data[to_del_col], axis=1)"
      ],
      "metadata": {
        "id": "UyqY0hve6shN"
      },
      "execution_count": 12,
      "outputs": []
    },
    {
      "cell_type": "code",
      "execution_count": 13,
      "metadata": {
        "id": "CZ1fA27wxK9i"
      },
      "outputs": [],
      "source": [
        "# Menghapus sisa baris yang memiliki nilai null\n",
        "# Delete remaining null value rows\n",
        "no_null_values_data = raw_data.dropna()"
      ]
    },
    {
      "cell_type": "code",
      "execution_count": 14,
      "metadata": {
        "id": "4d_RIZVQyMPl",
        "colab": {
          "base_uri": "https://localhost:8080/"
        },
        "outputId": "4f697d93-3f5e-4e27-fa1a-12365f3efc0d"
      },
      "outputs": [
        {
          "output_type": "stream",
          "name": "stdout",
          "text": [
            "There is no null value\n"
          ]
        }
      ],
      "source": [
        "cek_null(no_null_values_data)"
      ]
    },
    {
      "cell_type": "markdown",
      "source": [
        "## Duplicate rows handling"
      ],
      "metadata": {
        "id": "GLFPIFgw233H"
      }
    },
    {
      "cell_type": "code",
      "execution_count": 15,
      "metadata": {
        "id": "hD6enM8KzJE3",
        "colab": {
          "base_uri": "https://localhost:8080/"
        },
        "outputId": "068dcea3-7f89-46c2-ddb3-357f2745b54b"
      },
      "outputs": [
        {
          "output_type": "stream",
          "name": "stdout",
          "text": [
            "Number of duplicate rows:  285\n"
          ]
        }
      ],
      "source": [
        "# View number of duplicate rows \n",
        "print(\"Number of duplicate rows: \", no_null_values_data.duplicated().sum())"
      ]
    },
    {
      "cell_type": "code",
      "execution_count": 16,
      "metadata": {
        "id": "8fpxM7Efy8yL"
      },
      "outputs": [],
      "source": [
        "# Drop duplicate rows\n",
        "no_duplicate_row_data = no_null_values_data.drop_duplicates()"
      ]
    },
    {
      "cell_type": "code",
      "execution_count": 17,
      "metadata": {
        "id": "JEWalu9N0U8x",
        "colab": {
          "base_uri": "https://localhost:8080/"
        },
        "outputId": "4cd9ed44-7846-41b4-a480-177ca3c3a9ed"
      },
      "outputs": [
        {
          "output_type": "stream",
          "name": "stdout",
          "text": [
            "Number of duplicate rows:  0\n"
          ]
        }
      ],
      "source": [
        "print(\"Number of duplicate rows: \", no_duplicate_row_data.duplicated().sum())"
      ]
    },
    {
      "cell_type": "markdown",
      "source": [
        "## Feature Engineering"
      ],
      "metadata": {
        "id": "WhLUdb-2CkGQ"
      }
    },
    {
      "cell_type": "code",
      "source": [
        "# Drop rows that has \"posting_date\" less than \"year\" (manufactured year)\n",
        "# and then drop \"posting_date\" column\n",
        "# Idea from https://github.com/KushanSingh/Used-Cars-Dataset-EDA/blob/main/vehicles.ipynb\n",
        "\n",
        "# Create a new column only the substring of year from the \"posting_date\" column\n",
        "no_duplicate_row_data[\"posting_year\"]  = no_duplicate_row_data[\"posting_date\"].str.slice(0, 4)\n",
        "no_duplicate_row_data[\"posting_year\"]  = no_duplicate_row_data[\"posting_year\"].astype(float)\n",
        "\n",
        "# Drop rows that has \"posting_date\" less than \"year\"\n",
        "no_duplicate_row_data = no_duplicate_row_data.drop(no_duplicate_row_data[no_duplicate_row_data[\"posting_year\"] < no_duplicate_row_data[\"year\"]].index)\n",
        "\n",
        "# Drop \"posting_date\" column\n",
        "no_duplicate_row_data = no_duplicate_row_data.drop([\"posting_date\"], axis = 1)"
      ],
      "metadata": {
        "id": "wk4Gu4bu67ln",
        "colab": {
          "base_uri": "https://localhost:8080/"
        },
        "outputId": "f71704bf-7017-4577-8db8-eb8170bf4842"
      },
      "execution_count": 18,
      "outputs": [
        {
          "output_type": "stream",
          "name": "stderr",
          "text": [
            "/usr/local/lib/python3.7/dist-packages/ipykernel_launcher.py:6: SettingWithCopyWarning: \n",
            "A value is trying to be set on a copy of a slice from a DataFrame.\n",
            "Try using .loc[row_indexer,col_indexer] = value instead\n",
            "\n",
            "See the caveats in the documentation: https://pandas.pydata.org/pandas-docs/stable/user_guide/indexing.html#returning-a-view-versus-a-copy\n",
            "  \n",
            "/usr/local/lib/python3.7/dist-packages/ipykernel_launcher.py:7: SettingWithCopyWarning: \n",
            "A value is trying to be set on a copy of a slice from a DataFrame.\n",
            "Try using .loc[row_indexer,col_indexer] = value instead\n",
            "\n",
            "See the caveats in the documentation: https://pandas.pydata.org/pandas-docs/stable/user_guide/indexing.html#returning-a-view-versus-a-copy\n",
            "  import sys\n"
          ]
        }
      ]
    },
    {
      "cell_type": "code",
      "execution_count": 19,
      "metadata": {
        "id": "5QfmQJYiTZ2N"
      },
      "outputs": [],
      "source": [
        "# Extract the number and then replace the column value with that number in the \"cylinders\" column\n",
        "no_duplicate_row_data[\"cylinders\"] = no_duplicate_row_data[\"cylinders\"].str.extract(\"(\\d+)\")\n",
        "\n",
        "# Fill null value with 0 in \"cylinders\" column if fuel value is 'electric'\n",
        "no_duplicate_row_data[\"cylinders\"] = no_duplicate_row_data.apply(\n",
        "    lambda row: 0 if (pd.isnull(row[\"cylinders\"]) and (row[\"fuel\"] == 'electric')) \n",
        "       else row[\"cylinders\"],\n",
        "    axis=1\n",
        ")"
      ]
    },
    {
      "cell_type": "code",
      "execution_count": 20,
      "metadata": {
        "id": "HC5UxUxpOppU"
      },
      "outputs": [],
      "source": [
        "# Drop rows with a \"price\" less than equal to 0\n",
        "no_duplicate_row_data = no_duplicate_row_data[no_duplicate_row_data[\"price\"] > 0]"
      ]
    },
    {
      "cell_type": "code",
      "execution_count": 21,
      "metadata": {
        "id": "-wiSLN3nQF7t"
      },
      "outputs": [],
      "source": [
        "# Drop rows with a \"year\" less than equal to 0\n",
        "no_duplicate_row_data = no_duplicate_row_data[no_duplicate_row_data[\"year\"] > 0]"
      ]
    },
    {
      "cell_type": "code",
      "source": [
        "# Check number of unique value of each non-numeric column\n",
        "non_numeric_cols = [\"manufacturer\", \"condition\", \"cylinders\", \"fuel\", \"title_status\", \"transmission\", \"drive\", \"type\", \"paint_color\", \"state\"]\n",
        "for cols in non_numeric_cols:\n",
        "  print(\"%15s\" % cols + \"%5d\" % (no_duplicate_row_data[cols].nunique()))"
      ],
      "metadata": {
        "colab": {
          "base_uri": "https://localhost:8080/"
        },
        "id": "qBfGeKtY43hX",
        "outputId": "c9769e8d-3b43-4eb0-b205-446cda23315a"
      },
      "execution_count": 22,
      "outputs": [
        {
          "output_type": "stream",
          "name": "stdout",
          "text": [
            "   manufacturer   42\n",
            "      condition    6\n",
            "      cylinders    8\n",
            "           fuel    5\n",
            "   title_status    6\n",
            "   transmission    3\n",
            "          drive    3\n",
            "           type   13\n",
            "    paint_color   12\n",
            "          state   51\n"
          ]
        }
      ]
    },
    {
      "cell_type": "markdown",
      "source": [
        "> Because there are so many unique value in manufacturer, type, paint_color, and state columns, I will drop them"
      ],
      "metadata": {
        "id": "n5wd5YjBKMV6"
      }
    },
    {
      "cell_type": "code",
      "source": [
        "no_duplicate_row_data = no_duplicate_row_data.drop([\"manufacturer\", \"type\", \"paint_color\", \"state\"], axis=1)"
      ],
      "metadata": {
        "id": "g2tidcgb0gyu"
      },
      "execution_count": 23,
      "outputs": []
    },
    {
      "cell_type": "markdown",
      "source": [
        "## Convert categorical columns to dummy variables"
      ],
      "metadata": {
        "id": "AXXfRU-_-6UN"
      }
    },
    {
      "cell_type": "code",
      "source": [
        "# Convert categorical column to dummy\n",
        "dummies = pd.get_dummies(no_duplicate_row_data[[\"condition\", \"cylinders\", \"fuel\", \"title_status\", \"transmission\", \"drive\"]], \n",
        "                                            drop_first=True)\n",
        "# Drop unused column\n",
        "no_duplicate_row_data = no_duplicate_row_data.drop([\"condition\", \"cylinders\", \"fuel\", \"title_status\", \"transmission\", \"drive\"], axis=1)\n",
        "# Concate dummies with original dataset\n",
        "preprocessed_data = pd.concat([no_duplicate_row_data,dummies],axis=1)"
      ],
      "metadata": {
        "id": "WaRhxUwf2Qpl"
      },
      "execution_count": 24,
      "outputs": []
    },
    {
      "cell_type": "code",
      "source": [
        "preprocessed_data.head()"
      ],
      "metadata": {
        "colab": {
          "base_uri": "https://localhost:8080/",
          "height": 317
        },
        "id": "W_Te6_nJ-jYl",
        "outputId": "4f055e7a-a7a7-4b82-b79b-f81067406d34"
      },
      "execution_count": 25,
      "outputs": [
        {
          "output_type": "execute_result",
          "data": {
            "text/plain": [
              "    price    year  odometer  posting_year  condition_fair  condition_good  \\\n",
              "31  15000  2013.0  128000.0        2021.0               0               0   \n",
              "32  27990  2012.0   68696.0        2021.0               0               1   \n",
              "33  34590  2016.0   29499.0        2021.0               0               1   \n",
              "34  35000  2019.0   43000.0        2021.0               0               0   \n",
              "35  29990  2016.0   17302.0        2021.0               0               1   \n",
              "\n",
              "    condition_like new  condition_new  condition_salvage  cylinders_10  ...  \\\n",
              "31                   0              0                  0             0  ...   \n",
              "32                   0              0                  0             0  ...   \n",
              "33                   0              0                  0             0  ...   \n",
              "34                   0              0                  0             0  ...   \n",
              "35                   0              0                  0             0  ...   \n",
              "\n",
              "    fuel_other  title_status_lien  title_status_missing  \\\n",
              "31           0                  0                     0   \n",
              "32           0                  0                     0   \n",
              "33           0                  0                     0   \n",
              "34           0                  0                     0   \n",
              "35           0                  0                     0   \n",
              "\n",
              "    title_status_parts only  title_status_rebuilt  title_status_salvage  \\\n",
              "31                        0                     0                     0   \n",
              "32                        0                     0                     0   \n",
              "33                        0                     0                     0   \n",
              "34                        0                     0                     0   \n",
              "35                        0                     0                     0   \n",
              "\n",
              "    transmission_manual  transmission_other  drive_fwd  drive_rwd  \n",
              "31                    0                   0          0          1  \n",
              "32                    0                   1          0          0  \n",
              "33                    0                   1          0          0  \n",
              "34                    0                   0          0          0  \n",
              "35                    0                   1          0          0  \n",
              "\n",
              "[5 rows x 29 columns]"
            ],
            "text/html": [
              "\n",
              "  <div id=\"df-f400d88e-9aab-4283-ab2e-c7e4aa0ae04f\">\n",
              "    <div class=\"colab-df-container\">\n",
              "      <div>\n",
              "<style scoped>\n",
              "    .dataframe tbody tr th:only-of-type {\n",
              "        vertical-align: middle;\n",
              "    }\n",
              "\n",
              "    .dataframe tbody tr th {\n",
              "        vertical-align: top;\n",
              "    }\n",
              "\n",
              "    .dataframe thead th {\n",
              "        text-align: right;\n",
              "    }\n",
              "</style>\n",
              "<table border=\"1\" class=\"dataframe\">\n",
              "  <thead>\n",
              "    <tr style=\"text-align: right;\">\n",
              "      <th></th>\n",
              "      <th>price</th>\n",
              "      <th>year</th>\n",
              "      <th>odometer</th>\n",
              "      <th>posting_year</th>\n",
              "      <th>condition_fair</th>\n",
              "      <th>condition_good</th>\n",
              "      <th>condition_like new</th>\n",
              "      <th>condition_new</th>\n",
              "      <th>condition_salvage</th>\n",
              "      <th>cylinders_10</th>\n",
              "      <th>...</th>\n",
              "      <th>fuel_other</th>\n",
              "      <th>title_status_lien</th>\n",
              "      <th>title_status_missing</th>\n",
              "      <th>title_status_parts only</th>\n",
              "      <th>title_status_rebuilt</th>\n",
              "      <th>title_status_salvage</th>\n",
              "      <th>transmission_manual</th>\n",
              "      <th>transmission_other</th>\n",
              "      <th>drive_fwd</th>\n",
              "      <th>drive_rwd</th>\n",
              "    </tr>\n",
              "  </thead>\n",
              "  <tbody>\n",
              "    <tr>\n",
              "      <th>31</th>\n",
              "      <td>15000</td>\n",
              "      <td>2013.0</td>\n",
              "      <td>128000.0</td>\n",
              "      <td>2021.0</td>\n",
              "      <td>0</td>\n",
              "      <td>0</td>\n",
              "      <td>0</td>\n",
              "      <td>0</td>\n",
              "      <td>0</td>\n",
              "      <td>0</td>\n",
              "      <td>...</td>\n",
              "      <td>0</td>\n",
              "      <td>0</td>\n",
              "      <td>0</td>\n",
              "      <td>0</td>\n",
              "      <td>0</td>\n",
              "      <td>0</td>\n",
              "      <td>0</td>\n",
              "      <td>0</td>\n",
              "      <td>0</td>\n",
              "      <td>1</td>\n",
              "    </tr>\n",
              "    <tr>\n",
              "      <th>32</th>\n",
              "      <td>27990</td>\n",
              "      <td>2012.0</td>\n",
              "      <td>68696.0</td>\n",
              "      <td>2021.0</td>\n",
              "      <td>0</td>\n",
              "      <td>1</td>\n",
              "      <td>0</td>\n",
              "      <td>0</td>\n",
              "      <td>0</td>\n",
              "      <td>0</td>\n",
              "      <td>...</td>\n",
              "      <td>0</td>\n",
              "      <td>0</td>\n",
              "      <td>0</td>\n",
              "      <td>0</td>\n",
              "      <td>0</td>\n",
              "      <td>0</td>\n",
              "      <td>0</td>\n",
              "      <td>1</td>\n",
              "      <td>0</td>\n",
              "      <td>0</td>\n",
              "    </tr>\n",
              "    <tr>\n",
              "      <th>33</th>\n",
              "      <td>34590</td>\n",
              "      <td>2016.0</td>\n",
              "      <td>29499.0</td>\n",
              "      <td>2021.0</td>\n",
              "      <td>0</td>\n",
              "      <td>1</td>\n",
              "      <td>0</td>\n",
              "      <td>0</td>\n",
              "      <td>0</td>\n",
              "      <td>0</td>\n",
              "      <td>...</td>\n",
              "      <td>0</td>\n",
              "      <td>0</td>\n",
              "      <td>0</td>\n",
              "      <td>0</td>\n",
              "      <td>0</td>\n",
              "      <td>0</td>\n",
              "      <td>0</td>\n",
              "      <td>1</td>\n",
              "      <td>0</td>\n",
              "      <td>0</td>\n",
              "    </tr>\n",
              "    <tr>\n",
              "      <th>34</th>\n",
              "      <td>35000</td>\n",
              "      <td>2019.0</td>\n",
              "      <td>43000.0</td>\n",
              "      <td>2021.0</td>\n",
              "      <td>0</td>\n",
              "      <td>0</td>\n",
              "      <td>0</td>\n",
              "      <td>0</td>\n",
              "      <td>0</td>\n",
              "      <td>0</td>\n",
              "      <td>...</td>\n",
              "      <td>0</td>\n",
              "      <td>0</td>\n",
              "      <td>0</td>\n",
              "      <td>0</td>\n",
              "      <td>0</td>\n",
              "      <td>0</td>\n",
              "      <td>0</td>\n",
              "      <td>0</td>\n",
              "      <td>0</td>\n",
              "      <td>0</td>\n",
              "    </tr>\n",
              "    <tr>\n",
              "      <th>35</th>\n",
              "      <td>29990</td>\n",
              "      <td>2016.0</td>\n",
              "      <td>17302.0</td>\n",
              "      <td>2021.0</td>\n",
              "      <td>0</td>\n",
              "      <td>1</td>\n",
              "      <td>0</td>\n",
              "      <td>0</td>\n",
              "      <td>0</td>\n",
              "      <td>0</td>\n",
              "      <td>...</td>\n",
              "      <td>0</td>\n",
              "      <td>0</td>\n",
              "      <td>0</td>\n",
              "      <td>0</td>\n",
              "      <td>0</td>\n",
              "      <td>0</td>\n",
              "      <td>0</td>\n",
              "      <td>1</td>\n",
              "      <td>0</td>\n",
              "      <td>0</td>\n",
              "    </tr>\n",
              "  </tbody>\n",
              "</table>\n",
              "<p>5 rows × 29 columns</p>\n",
              "</div>\n",
              "      <button class=\"colab-df-convert\" onclick=\"convertToInteractive('df-f400d88e-9aab-4283-ab2e-c7e4aa0ae04f')\"\n",
              "              title=\"Convert this dataframe to an interactive table.\"\n",
              "              style=\"display:none;\">\n",
              "        \n",
              "  <svg xmlns=\"http://www.w3.org/2000/svg\" height=\"24px\"viewBox=\"0 0 24 24\"\n",
              "       width=\"24px\">\n",
              "    <path d=\"M0 0h24v24H0V0z\" fill=\"none\"/>\n",
              "    <path d=\"M18.56 5.44l.94 2.06.94-2.06 2.06-.94-2.06-.94-.94-2.06-.94 2.06-2.06.94zm-11 1L8.5 8.5l.94-2.06 2.06-.94-2.06-.94L8.5 2.5l-.94 2.06-2.06.94zm10 10l.94 2.06.94-2.06 2.06-.94-2.06-.94-.94-2.06-.94 2.06-2.06.94z\"/><path d=\"M17.41 7.96l-1.37-1.37c-.4-.4-.92-.59-1.43-.59-.52 0-1.04.2-1.43.59L10.3 9.45l-7.72 7.72c-.78.78-.78 2.05 0 2.83L4 21.41c.39.39.9.59 1.41.59.51 0 1.02-.2 1.41-.59l7.78-7.78 2.81-2.81c.8-.78.8-2.07 0-2.86zM5.41 20L4 18.59l7.72-7.72 1.47 1.35L5.41 20z\"/>\n",
              "  </svg>\n",
              "      </button>\n",
              "      \n",
              "  <style>\n",
              "    .colab-df-container {\n",
              "      display:flex;\n",
              "      flex-wrap:wrap;\n",
              "      gap: 12px;\n",
              "    }\n",
              "\n",
              "    .colab-df-convert {\n",
              "      background-color: #E8F0FE;\n",
              "      border: none;\n",
              "      border-radius: 50%;\n",
              "      cursor: pointer;\n",
              "      display: none;\n",
              "      fill: #1967D2;\n",
              "      height: 32px;\n",
              "      padding: 0 0 0 0;\n",
              "      width: 32px;\n",
              "    }\n",
              "\n",
              "    .colab-df-convert:hover {\n",
              "      background-color: #E2EBFA;\n",
              "      box-shadow: 0px 1px 2px rgba(60, 64, 67, 0.3), 0px 1px 3px 1px rgba(60, 64, 67, 0.15);\n",
              "      fill: #174EA6;\n",
              "    }\n",
              "\n",
              "    [theme=dark] .colab-df-convert {\n",
              "      background-color: #3B4455;\n",
              "      fill: #D2E3FC;\n",
              "    }\n",
              "\n",
              "    [theme=dark] .colab-df-convert:hover {\n",
              "      background-color: #434B5C;\n",
              "      box-shadow: 0px 1px 3px 1px rgba(0, 0, 0, 0.15);\n",
              "      filter: drop-shadow(0px 1px 2px rgba(0, 0, 0, 0.3));\n",
              "      fill: #FFFFFF;\n",
              "    }\n",
              "  </style>\n",
              "\n",
              "      <script>\n",
              "        const buttonEl =\n",
              "          document.querySelector('#df-f400d88e-9aab-4283-ab2e-c7e4aa0ae04f button.colab-df-convert');\n",
              "        buttonEl.style.display =\n",
              "          google.colab.kernel.accessAllowed ? 'block' : 'none';\n",
              "\n",
              "        async function convertToInteractive(key) {\n",
              "          const element = document.querySelector('#df-f400d88e-9aab-4283-ab2e-c7e4aa0ae04f');\n",
              "          const dataTable =\n",
              "            await google.colab.kernel.invokeFunction('convertToInteractive',\n",
              "                                                     [key], {});\n",
              "          if (!dataTable) return;\n",
              "\n",
              "          const docLinkHtml = 'Like what you see? Visit the ' +\n",
              "            '<a target=\"_blank\" href=https://colab.research.google.com/notebooks/data_table.ipynb>data table notebook</a>'\n",
              "            + ' to learn more about interactive tables.';\n",
              "          element.innerHTML = '';\n",
              "          dataTable['output_type'] = 'display_data';\n",
              "          await google.colab.output.renderOutput(dataTable, element);\n",
              "          const docLink = document.createElement('div');\n",
              "          docLink.innerHTML = docLinkHtml;\n",
              "          element.appendChild(docLink);\n",
              "        }\n",
              "      </script>\n",
              "    </div>\n",
              "  </div>\n",
              "  "
            ]
          },
          "metadata": {},
          "execution_count": 25
        }
      ]
    },
    {
      "cell_type": "code",
      "source": [
        "print(\"Number of rows: \", preprocessed_data.shape[0])\n",
        "print(\"Number of columns: \", preprocessed_data.shape[1])"
      ],
      "metadata": {
        "colab": {
          "base_uri": "https://localhost:8080/"
        },
        "id": "0uKf2cDvAEnM",
        "outputId": "0f56c1ae-36f2-49f0-e449-c93c1d541c46"
      },
      "execution_count": 26,
      "outputs": [
        {
          "output_type": "stream",
          "name": "stdout",
          "text": [
            "Number of rows:  112515\n",
            "Number of columns:  29\n"
          ]
        }
      ]
    },
    {
      "cell_type": "markdown",
      "source": [
        "# Price Prediction"
      ],
      "metadata": {
        "id": "7Wwh9e8G4hXe"
      }
    },
    {
      "cell_type": "markdown",
      "source": [
        "## Preparation"
      ],
      "metadata": {
        "id": "l0KyabCs4zpC"
      }
    },
    {
      "cell_type": "code",
      "source": [
        "# Further preprocessing is required before creating the price prediction model\n",
        "# Another value preprocessing required is to delete rows that has a value of >= 45000 or <= 500\n",
        "# It also aims to handle outliers more precisely by removing values ​​that are too low or too high\n",
        "# Idea found at https://github.com/panambY/Used_Car_Price/blob/master/Used_Car_Price.ipynb\n",
        "price_pred_data = preprocessed_data[(preprocessed_data[\"price\"]>500) & (preprocessed_data[\"price\"]<45000)]"
      ],
      "metadata": {
        "id": "RfUWSy_t5JbV"
      },
      "execution_count": null,
      "outputs": []
    },
    {
      "cell_type": "code",
      "source": [
        "# Create a boxplot\n",
        "sns.boxplot(x=price_pred_data[\"price\"])"
      ],
      "metadata": {
        "colab": {
          "base_uri": "https://localhost:8080/",
          "height": 297
        },
        "id": "eXi03ci-B2pl",
        "outputId": "6fac9550-2a5d-4402-f907-7231b903ba62"
      },
      "execution_count": null,
      "outputs": [
        {
          "output_type": "execute_result",
          "data": {
            "text/plain": [
              "<matplotlib.axes._subplots.AxesSubplot at 0x7f4558f3e910>"
            ]
          },
          "metadata": {},
          "execution_count": 35
        },
        {
          "output_type": "display_data",
          "data": {
            "image/png": "[encoded data removed]",
            "text/plain": [
              "<Figure size 432x288 with 1 Axes>"
            ]
          },
          "metadata": {
            "needs_background": "light"
          }
        }
      ]
    },
    {
      "cell_type": "code",
      "source": [
        "# Split features and target columns\n",
        "X = price_pred_data.drop([\"price\"], axis=1)\n",
        "y = price_pred_data[\"price\"]"
      ],
      "metadata": {
        "id": "cEDvfNyYCRyb"
      },
      "execution_count": null,
      "outputs": []
    },
    {
      "cell_type": "code",
      "source": [
        "# Perform train-test-split\n",
        "from sklearn.model_selection import train_test_split\n",
        "X_train, X_test, y_train, y_test = train_test_split(X, y, test_size=0.2, random_state=42)"
      ],
      "metadata": {
        "id": "JRMdKZ6jCjwn"
      },
      "execution_count": null,
      "outputs": []
    },
    {
      "cell_type": "code",
      "source": [
        "# Normalize feature column value using standardization\n",
        "from sklearn.preprocessing import StandardScaler\n",
        "scaler = StandardScaler()\n",
        "\n",
        "X_train = scaler.fit_transform(X_train)\n",
        "X_test = scaler.transform(X_test)"
      ],
      "metadata": {
        "id": "YLrDVYDwDWKD"
      },
      "execution_count": null,
      "outputs": []
    },
    {
      "cell_type": "markdown",
      "source": [
        "### Function for regression model evaluation"
      ],
      "metadata": {
        "id": "JNaIJgLUFblJ"
      }
    },
    {
      "cell_type": "code",
      "source": [
        "# Function for regression model evaluation\n",
        "import math \n",
        "from sklearn import metrics\n",
        "\n",
        "# Idea from https://github.com/panambY/Used_Car_Price/blob/master/Used_Car_Price.ipynb\n",
        "def evaluate_regressor_performance(model_name, prediction, y_test = y_test):\n",
        "  # Value of MSE, MAE, RMSE, and R2 Square\n",
        "  mse = metrics.mean_squared_error(y_test, prediction)\n",
        "  mae = metrics.mean_absolute_error(y_test, prediction)\n",
        "  rmse = math.sqrt(metrics.mean_squared_error(y_test, prediction))\n",
        "  r2_square = metrics.r2_score(y_test, prediction)\n",
        "  return pd.DataFrame( { 'Model Name': model_name,\n",
        "                           'MSE': mse,\n",
        "                           'MAE': mae,\n",
        "                           'RMSE': rmse, \n",
        "                           'R2 Square': r2_square}, index=[0] )"
      ],
      "metadata": {
        "id": "upnRiYxdFYHb"
      },
      "execution_count": null,
      "outputs": []
    },
    {
      "cell_type": "markdown",
      "source": [
        "## Gradient Boosting Regressor"
      ],
      "metadata": {
        "id": "JqFNf6tJEXzI"
      }
    },
    {
      "cell_type": "code",
      "source": [
        "# Create and train Gradient Boosting Regressor model\n",
        "from sklearn.ensemble import GradientBoostingRegressor\n",
        "gbr_model = GradientBoostingRegressor(random_state=42, max_depth=10)\n",
        "\n",
        "gbr_model.fit(X_train, y_train)"
      ],
      "metadata": {
        "colab": {
          "base_uri": "https://localhost:8080/"
        },
        "id": "CV6C23_kEs_8",
        "outputId": "3b7bb7ed-8f56-445e-913c-a2add2f88fae"
      },
      "execution_count": null,
      "outputs": [
        {
          "output_type": "execute_result",
          "data": {
            "text/plain": [
              "GradientBoostingRegressor(max_depth=10, random_state=42)"
            ]
          },
          "metadata": {},
          "execution_count": 27
        }
      ]
    },
    {
      "cell_type": "code",
      "source": [
        "# Predict \"price\" with Gradient Boosting Regressor model\n",
        "gbr_pred = gbr_model.predict(X_test)"
      ],
      "metadata": {
        "id": "xHCN-NqnE8wO"
      },
      "execution_count": null,
      "outputs": []
    },
    {
      "cell_type": "code",
      "source": [
        "# Evaluate Gradient Boosting Regressor model\n",
        "gbr_evaluation = evaluate_regressor_performance(\"GradientBoostingRegressor\", gbr_pred)\n",
        "gbr_evaluation"
      ],
      "metadata": {
        "colab": {
          "base_uri": "https://localhost:8080/",
          "height": 81
        },
        "id": "fS-7fTiqIJMT",
        "outputId": "a5d83cdb-085e-4c0d-a823-156bd447c893"
      },
      "execution_count": null,
      "outputs": [
        {
          "output_type": "execute_result",
          "data": {
            "text/html": [
              "\n",
              "  <div id=\"df-e3973072-007b-4f55-a254-7edccf66189d\">\n",
              "    <div class=\"colab-df-container\">\n",
              "      <div>\n",
              "<style scoped>\n",
              "    .dataframe tbody tr th:only-of-type {\n",
              "        vertical-align: middle;\n",
              "    }\n",
              "\n",
              "    .dataframe tbody tr th {\n",
              "        vertical-align: top;\n",
              "    }\n",
              "\n",
              "    .dataframe thead th {\n",
              "        text-align: right;\n",
              "    }\n",
              "</style>\n",
              "<table border=\"1\" class=\"dataframe\">\n",
              "  <thead>\n",
              "    <tr style=\"text-align: right;\">\n",
              "      <th></th>\n",
              "      <th>Model Name</th>\n",
              "      <th>MSE</th>\n",
              "      <th>MAE</th>\n",
              "      <th>RMSE</th>\n",
              "      <th>R2 Square</th>\n",
              "    </tr>\n",
              "  </thead>\n",
              "  <tbody>\n",
              "    <tr>\n",
              "      <th>0</th>\n",
              "      <td>GradientBoostingRegressor</td>\n",
              "      <td>1.679632e+07</td>\n",
              "      <td>2722.353142</td>\n",
              "      <td>4098.330928</td>\n",
              "      <td>0.864036</td>\n",
              "    </tr>\n",
              "  </tbody>\n",
              "</table>\n",
              "</div>\n",
              "      <button class=\"colab-df-convert\" onclick=\"convertToInteractive('df-e3973072-007b-4f55-a254-7edccf66189d')\"\n",
              "              title=\"Convert this dataframe to an interactive table.\"\n",
              "              style=\"display:none;\">\n",
              "        \n",
              "  <svg xmlns=\"http://www.w3.org/2000/svg\" height=\"24px\"viewBox=\"0 0 24 24\"\n",
              "       width=\"24px\">\n",
              "    <path d=\"M0 0h24v24H0V0z\" fill=\"none\"/>\n",
              "    <path d=\"M18.56 5.44l.94 2.06.94-2.06 2.06-.94-2.06-.94-.94-2.06-.94 2.06-2.06.94zm-11 1L8.5 8.5l.94-2.06 2.06-.94-2.06-.94L8.5 2.5l-.94 2.06-2.06.94zm10 10l.94 2.06.94-2.06 2.06-.94-2.06-.94-.94-2.06-.94 2.06-2.06.94z\"/><path d=\"M17.41 7.96l-1.37-1.37c-.4-.4-.92-.59-1.43-.59-.52 0-1.04.2-1.43.59L10.3 9.45l-7.72 7.72c-.78.78-.78 2.05 0 2.83L4 21.41c.39.39.9.59 1.41.59.51 0 1.02-.2 1.41-.59l7.78-7.78 2.81-2.81c.8-.78.8-2.07 0-2.86zM5.41 20L4 18.59l7.72-7.72 1.47 1.35L5.41 20z\"/>\n",
              "  </svg>\n",
              "      </button>\n",
              "      \n",
              "  <style>\n",
              "    .colab-df-container {\n",
              "      display:flex;\n",
              "      flex-wrap:wrap;\n",
              "      gap: 12px;\n",
              "    }\n",
              "\n",
              "    .colab-df-convert {\n",
              "      background-color: #E8F0FE;\n",
              "      border: none;\n",
              "      border-radius: 50%;\n",
              "      cursor: pointer;\n",
              "      display: none;\n",
              "      fill: #1967D2;\n",
              "      height: 32px;\n",
              "      padding: 0 0 0 0;\n",
              "      width: 32px;\n",
              "    }\n",
              "\n",
              "    .colab-df-convert:hover {\n",
              "      background-color: #E2EBFA;\n",
              "      box-shadow: 0px 1px 2px rgba(60, 64, 67, 0.3), 0px 1px 3px 1px rgba(60, 64, 67, 0.15);\n",
              "      fill: #174EA6;\n",
              "    }\n",
              "\n",
              "    [theme=dark] .colab-df-convert {\n",
              "      background-color: #3B4455;\n",
              "      fill: #D2E3FC;\n",
              "    }\n",
              "\n",
              "    [theme=dark] .colab-df-convert:hover {\n",
              "      background-color: #434B5C;\n",
              "      box-shadow: 0px 1px 3px 1px rgba(0, 0, 0, 0.15);\n",
              "      filter: drop-shadow(0px 1px 2px rgba(0, 0, 0, 0.3));\n",
              "      fill: #FFFFFF;\n",
              "    }\n",
              "  </style>\n",
              "\n",
              "      <script>\n",
              "        const buttonEl =\n",
              "          document.querySelector('#df-e3973072-007b-4f55-a254-7edccf66189d button.colab-df-convert');\n",
              "        buttonEl.style.display =\n",
              "          google.colab.kernel.accessAllowed ? 'block' : 'none';\n",
              "\n",
              "        async function convertToInteractive(key) {\n",
              "          const element = document.querySelector('#df-e3973072-007b-4f55-a254-7edccf66189d');\n",
              "          const dataTable =\n",
              "            await google.colab.kernel.invokeFunction('convertToInteractive',\n",
              "                                                     [key], {});\n",
              "          if (!dataTable) return;\n",
              "\n",
              "          const docLinkHtml = 'Like what you see? Visit the ' +\n",
              "            '<a target=\"_blank\" href=https://colab.research.google.com/notebooks/data_table.ipynb>data table notebook</a>'\n",
              "            + ' to learn more about interactive tables.';\n",
              "          element.innerHTML = '';\n",
              "          dataTable['output_type'] = 'display_data';\n",
              "          await google.colab.output.renderOutput(dataTable, element);\n",
              "          const docLink = document.createElement('div');\n",
              "          docLink.innerHTML = docLinkHtml;\n",
              "          element.appendChild(docLink);\n",
              "        }\n",
              "      </script>\n",
              "    </div>\n",
              "  </div>\n",
              "  "
            ],
            "text/plain": [
              "                  Model Name           MSE          MAE         RMSE  R2 Square\n",
              "0  GradientBoostingRegressor  1.679632e+07  2722.353142  4098.330928   0.864036"
            ]
          },
          "metadata": {},
          "execution_count": 29
        }
      ]
    },
    {
      "cell_type": "markdown",
      "source": [
        "## Random Forest Regressor"
      ],
      "metadata": {
        "id": "xcWay0mIJd0i"
      }
    },
    {
      "cell_type": "code",
      "source": [
        "# Create and train Random Forest Regressor model\n",
        "from sklearn.ensemble import RandomForestRegressor\n",
        "rfr_model = RandomForestRegressor(random_state=42)\n",
        "\n",
        "rfr_model.fit(X_train, y_train)"
      ],
      "metadata": {
        "colab": {
          "base_uri": "https://localhost:8080/"
        },
        "id": "jdrPUGBOJyOx",
        "outputId": "f690e2d6-515d-44a8-d6d8-6fa2da30c233"
      },
      "execution_count": null,
      "outputs": [
        {
          "output_type": "execute_result",
          "data": {
            "text/plain": [
              "RandomForestRegressor(random_state=42)"
            ]
          },
          "metadata": {},
          "execution_count": 30
        }
      ]
    },
    {
      "cell_type": "code",
      "source": [
        "# Predict \"price\" with Random Forest Regressor model\n",
        "rfr_pred = rfr_model.predict(X_test)"
      ],
      "metadata": {
        "id": "XwAYgTuUJ_vK"
      },
      "execution_count": null,
      "outputs": []
    },
    {
      "cell_type": "code",
      "source": [
        "# Evaluate Gradient Random Forest Regressor model\n",
        "rfr_evaluation = evaluate_regressor_performance(\"RandomForestRegressor\", rfr_pred)\n",
        "rfr_evaluation"
      ],
      "metadata": {
        "colab": {
          "base_uri": "https://localhost:8080/",
          "height": 81
        },
        "id": "BbSgglpPKCkN",
        "outputId": "e4f1341e-8fa2-4b59-a7e5-0d29a821d42f"
      },
      "execution_count": null,
      "outputs": [
        {
          "output_type": "execute_result",
          "data": {
            "text/html": [
              "\n",
              "  <div id=\"df-2bebefa8-0bf9-48f9-ae57-3fff82f91b00\">\n",
              "    <div class=\"colab-df-container\">\n",
              "      <div>\n",
              "<style scoped>\n",
              "    .dataframe tbody tr th:only-of-type {\n",
              "        vertical-align: middle;\n",
              "    }\n",
              "\n",
              "    .dataframe tbody tr th {\n",
              "        vertical-align: top;\n",
              "    }\n",
              "\n",
              "    .dataframe thead th {\n",
              "        text-align: right;\n",
              "    }\n",
              "</style>\n",
              "<table border=\"1\" class=\"dataframe\">\n",
              "  <thead>\n",
              "    <tr style=\"text-align: right;\">\n",
              "      <th></th>\n",
              "      <th>Model Name</th>\n",
              "      <th>MSE</th>\n",
              "      <th>MAE</th>\n",
              "      <th>RMSE</th>\n",
              "      <th>R2 Square</th>\n",
              "    </tr>\n",
              "  </thead>\n",
              "  <tbody>\n",
              "    <tr>\n",
              "      <th>0</th>\n",
              "      <td>RandomForestRegressor</td>\n",
              "      <td>1.583459e+07</td>\n",
              "      <td>2279.107549</td>\n",
              "      <td>3979.270207</td>\n",
              "      <td>0.871822</td>\n",
              "    </tr>\n",
              "  </tbody>\n",
              "</table>\n",
              "</div>\n",
              "      <button class=\"colab-df-convert\" onclick=\"convertToInteractive('df-2bebefa8-0bf9-48f9-ae57-3fff82f91b00')\"\n",
              "              title=\"Convert this dataframe to an interactive table.\"\n",
              "              style=\"display:none;\">\n",
              "        \n",
              "  <svg xmlns=\"http://www.w3.org/2000/svg\" height=\"24px\"viewBox=\"0 0 24 24\"\n",
              "       width=\"24px\">\n",
              "    <path d=\"M0 0h24v24H0V0z\" fill=\"none\"/>\n",
              "    <path d=\"M18.56 5.44l.94 2.06.94-2.06 2.06-.94-2.06-.94-.94-2.06-.94 2.06-2.06.94zm-11 1L8.5 8.5l.94-2.06 2.06-.94-2.06-.94L8.5 2.5l-.94 2.06-2.06.94zm10 10l.94 2.06.94-2.06 2.06-.94-2.06-.94-.94-2.06-.94 2.06-2.06.94z\"/><path d=\"M17.41 7.96l-1.37-1.37c-.4-.4-.92-.59-1.43-.59-.52 0-1.04.2-1.43.59L10.3 9.45l-7.72 7.72c-.78.78-.78 2.05 0 2.83L4 21.41c.39.39.9.59 1.41.59.51 0 1.02-.2 1.41-.59l7.78-7.78 2.81-2.81c.8-.78.8-2.07 0-2.86zM5.41 20L4 18.59l7.72-7.72 1.47 1.35L5.41 20z\"/>\n",
              "  </svg>\n",
              "      </button>\n",
              "      \n",
              "  <style>\n",
              "    .colab-df-container {\n",
              "      display:flex;\n",
              "      flex-wrap:wrap;\n",
              "      gap: 12px;\n",
              "    }\n",
              "\n",
              "    .colab-df-convert {\n",
              "      background-color: #E8F0FE;\n",
              "      border: none;\n",
              "      border-radius: 50%;\n",
              "      cursor: pointer;\n",
              "      display: none;\n",
              "      fill: #1967D2;\n",
              "      height: 32px;\n",
              "      padding: 0 0 0 0;\n",
              "      width: 32px;\n",
              "    }\n",
              "\n",
              "    .colab-df-convert:hover {\n",
              "      background-color: #E2EBFA;\n",
              "      box-shadow: 0px 1px 2px rgba(60, 64, 67, 0.3), 0px 1px 3px 1px rgba(60, 64, 67, 0.15);\n",
              "      fill: #174EA6;\n",
              "    }\n",
              "\n",
              "    [theme=dark] .colab-df-convert {\n",
              "      background-color: #3B4455;\n",
              "      fill: #D2E3FC;\n",
              "    }\n",
              "\n",
              "    [theme=dark] .colab-df-convert:hover {\n",
              "      background-color: #434B5C;\n",
              "      box-shadow: 0px 1px 3px 1px rgba(0, 0, 0, 0.15);\n",
              "      filter: drop-shadow(0px 1px 2px rgba(0, 0, 0, 0.3));\n",
              "      fill: #FFFFFF;\n",
              "    }\n",
              "  </style>\n",
              "\n",
              "      <script>\n",
              "        const buttonEl =\n",
              "          document.querySelector('#df-2bebefa8-0bf9-48f9-ae57-3fff82f91b00 button.colab-df-convert');\n",
              "        buttonEl.style.display =\n",
              "          google.colab.kernel.accessAllowed ? 'block' : 'none';\n",
              "\n",
              "        async function convertToInteractive(key) {\n",
              "          const element = document.querySelector('#df-2bebefa8-0bf9-48f9-ae57-3fff82f91b00');\n",
              "          const dataTable =\n",
              "            await google.colab.kernel.invokeFunction('convertToInteractive',\n",
              "                                                     [key], {});\n",
              "          if (!dataTable) return;\n",
              "\n",
              "          const docLinkHtml = 'Like what you see? Visit the ' +\n",
              "            '<a target=\"_blank\" href=https://colab.research.google.com/notebooks/data_table.ipynb>data table notebook</a>'\n",
              "            + ' to learn more about interactive tables.';\n",
              "          element.innerHTML = '';\n",
              "          dataTable['output_type'] = 'display_data';\n",
              "          await google.colab.output.renderOutput(dataTable, element);\n",
              "          const docLink = document.createElement('div');\n",
              "          docLink.innerHTML = docLinkHtml;\n",
              "          element.appendChild(docLink);\n",
              "        }\n",
              "      </script>\n",
              "    </div>\n",
              "  </div>\n",
              "  "
            ],
            "text/plain": [
              "              Model Name           MSE          MAE         RMSE  R2 Square\n",
              "0  RandomForestRegressor  1.583459e+07  2279.107549  3979.270207   0.871822"
            ]
          },
          "metadata": {},
          "execution_count": 32
        }
      ]
    },
    {
      "cell_type": "markdown",
      "source": [
        "## Neural Network"
      ],
      "metadata": {
        "id": "fTSgf9E4EZVD"
      }
    },
    {
      "cell_type": "code",
      "source": [
        "# import tensorflow\n",
        "from tensorflow import keras\n",
        "from tensorflow.keras import layers\n",
        "from tensorflow.keras import callbacks"
      ],
      "metadata": {
        "id": "3i-3OGybEYiE"
      },
      "execution_count": null,
      "outputs": []
    },
    {
      "cell_type": "code",
      "source": [
        "# Split train and validation dataset\n",
        "X_sep = int(X_train.shape[0]*0.6)\n",
        "y_sep = int(y_train.shape[0]*0.6)\n",
        "\n",
        "X_nn_train = X_train[:X_sep]\n",
        "y_nn_train = y_train[:y_sep]\n",
        "\n",
        "X_nn_valid = X_train[X_sep:]\n",
        "y_nn_valid = y_train[y_sep:]"
      ],
      "metadata": {
        "id": "cqGD9_NgqzBu"
      },
      "execution_count": null,
      "outputs": []
    },
    {
      "cell_type": "code",
      "source": [
        "input_shape = [X_nn_train.shape[1]]"
      ],
      "metadata": {
        "id": "47N9jF4Yrwpa"
      },
      "execution_count": null,
      "outputs": []
    },
    {
      "cell_type": "code",
      "source": [
        "# Create and train Neural Network Model\n",
        "model = keras.Sequential([\n",
        "    layers.Dense(256, activation='relu', input_shape=input_shape),\n",
        "    layers.Dropout(0.2),\n",
        "    \n",
        "    layers.BatchNormalization(),\n",
        "    layers.Dense(256, activation='relu'),\n",
        "    layers.Dropout(0.2),\n",
        "\n",
        "    layers.BatchNormalization(),\n",
        "    layers.Dense(128, activation='relu'),\n",
        "    layers.Dropout(0.2),\n",
        "    \n",
        "    layers.BatchNormalization(),\n",
        "    layers.Dense(128, activation='relu'),\n",
        "    layers.Dropout(0.2),\n",
        "\n",
        "    layers.BatchNormalization(),\n",
        "    layers.Dense(64, activation='relu'),\n",
        "    layers.Dropout(0.2),\n",
        "    \n",
        "    layers.BatchNormalization(),\n",
        "    layers.Dense(1),\n",
        "])\n",
        "\n",
        "early_stopping = callbacks.EarlyStopping(\n",
        "    patience=15,\n",
        "    restore_best_weights=True,\n",
        ")\n",
        "\n",
        "model.compile(\n",
        "    optimizer='adam',\n",
        "    loss='mse',\n",
        ")\n",
        "\n",
        "EPOCHS = 100\n",
        "history = model.fit(\n",
        "    X_nn_train, y_nn_train,\n",
        "    validation_data=(X_nn_valid, y_nn_valid),\n",
        "    batch_size=64,\n",
        "    epochs=EPOCHS,\n",
        "    callbacks=[early_stopping],\n",
        "    verbose=1,\n",
        ")"
      ],
      "metadata": {
        "colab": {
          "base_uri": "https://localhost:8080/"
        },
        "id": "Pyou7IK1l8g8",
        "outputId": "f89571de-e929-4c0f-e92e-5596849c9484"
      },
      "execution_count": null,
      "outputs": [
        {
          "output_type": "stream",
          "name": "stdout",
          "text": [
            "Epoch 1/100\n",
            "807/807 [==============================] - 10s 10ms/step - loss: 345106080.0000 - val_loss: 342083776.0000\n",
            "Epoch 2/100\n",
            "807/807 [==============================] - 8s 10ms/step - loss: 335943776.0000 - val_loss: 330238048.0000\n",
            "Epoch 3/100\n",
            "807/807 [==============================] - 9s 11ms/step - loss: 320142688.0000 - val_loss: 312584704.0000\n",
            "Epoch 4/100\n",
            "807/807 [==============================] - 9s 11ms/step - loss: 299598080.0000 - val_loss: 286733376.0000\n",
            "Epoch 5/100\n",
            "807/807 [==============================] - 8s 10ms/step - loss: 275752352.0000 - val_loss: 264793760.0000\n",
            "Epoch 6/100\n",
            "807/807 [==============================] - 9s 11ms/step - loss: 249639152.0000 - val_loss: 238571280.0000\n",
            "Epoch 7/100\n",
            "807/807 [==============================] - 9s 11ms/step - loss: 222077408.0000 - val_loss: 213467088.0000\n",
            "Epoch 8/100\n",
            "807/807 [==============================] - 8s 10ms/step - loss: 194100160.0000 - val_loss: 183786464.0000\n",
            "Epoch 9/100\n",
            "807/807 [==============================] - 8s 10ms/step - loss: 166371536.0000 - val_loss: 155400944.0000\n",
            "Epoch 10/100\n",
            "807/807 [==============================] - 9s 11ms/step - loss: 139656016.0000 - val_loss: 135107984.0000\n",
            "Epoch 11/100\n",
            "807/807 [==============================] - 8s 10ms/step - loss: 114746384.0000 - val_loss: 109469824.0000\n",
            "Epoch 12/100\n",
            "807/807 [==============================] - 9s 11ms/step - loss: 92198208.0000 - val_loss: 92538776.0000\n",
            "Epoch 13/100\n",
            "807/807 [==============================] - 8s 10ms/step - loss: 72606280.0000 - val_loss: 73218728.0000\n",
            "Epoch 14/100\n",
            "807/807 [==============================] - 8s 10ms/step - loss: 56904544.0000 - val_loss: 57263412.0000\n",
            "Epoch 15/100\n",
            "807/807 [==============================] - 8s 10ms/step - loss: 44007104.0000 - val_loss: 43945176.0000\n",
            "Epoch 16/100\n",
            "807/807 [==============================] - 9s 11ms/step - loss: 35561356.0000 - val_loss: 35113884.0000\n",
            "Epoch 17/100\n",
            "807/807 [==============================] - 8s 9ms/step - loss: 29634660.0000 - val_loss: 28983972.0000\n",
            "Epoch 18/100\n",
            "807/807 [==============================] - 8s 10ms/step - loss: 26620088.0000 - val_loss: 25393794.0000\n",
            "Epoch 19/100\n",
            "807/807 [==============================] - 8s 10ms/step - loss: 25333262.0000 - val_loss: 24398522.0000\n",
            "Epoch 20/100\n",
            "807/807 [==============================] - 8s 10ms/step - loss: 24427594.0000 - val_loss: 23354062.0000\n",
            "Epoch 21/100\n",
            "807/807 [==============================] - 8s 10ms/step - loss: 24264488.0000 - val_loss: 24089634.0000\n",
            "Epoch 22/100\n",
            "807/807 [==============================] - 8s 10ms/step - loss: 24303386.0000 - val_loss: 23455634.0000\n",
            "Epoch 23/100\n",
            "807/807 [==============================] - 9s 11ms/step - loss: 24375408.0000 - val_loss: 22870902.0000\n",
            "Epoch 24/100\n",
            "807/807 [==============================] - 8s 10ms/step - loss: 23903176.0000 - val_loss: 23553264.0000\n",
            "Epoch 25/100\n",
            "807/807 [==============================] - 8s 10ms/step - loss: 23859790.0000 - val_loss: 23816540.0000\n",
            "Epoch 26/100\n",
            "807/807 [==============================] - 8s 9ms/step - loss: 23799966.0000 - val_loss: 22179020.0000\n",
            "Epoch 27/100\n",
            "807/807 [==============================] - 9s 11ms/step - loss: 23550746.0000 - val_loss: 23866608.0000\n",
            "Epoch 28/100\n",
            "807/807 [==============================] - 8s 10ms/step - loss: 23840766.0000 - val_loss: 23758226.0000\n",
            "Epoch 29/100\n",
            "807/807 [==============================] - 9s 11ms/step - loss: 23720120.0000 - val_loss: 23535580.0000\n",
            "Epoch 30/100\n",
            "807/807 [==============================] - 8s 10ms/step - loss: 23698854.0000 - val_loss: 22967284.0000\n",
            "Epoch 31/100\n",
            "807/807 [==============================] - 8s 10ms/step - loss: 23644242.0000 - val_loss: 22671822.0000\n",
            "Epoch 32/100\n",
            "807/807 [==============================] - 9s 11ms/step - loss: 23838164.0000 - val_loss: 23204456.0000\n",
            "Epoch 33/100\n",
            "807/807 [==============================] - 9s 11ms/step - loss: 23503386.0000 - val_loss: 24013458.0000\n",
            "Epoch 34/100\n",
            "807/807 [==============================] - 8s 10ms/step - loss: 23547362.0000 - val_loss: 22491698.0000\n",
            "Epoch 35/100\n",
            "807/807 [==============================] - 8s 10ms/step - loss: 23246770.0000 - val_loss: 22462724.0000\n",
            "Epoch 36/100\n",
            "807/807 [==============================] - 9s 11ms/step - loss: 23524630.0000 - val_loss: 22430180.0000\n",
            "Epoch 37/100\n",
            "807/807 [==============================] - 8s 10ms/step - loss: 23438296.0000 - val_loss: 22237032.0000\n",
            "Epoch 38/100\n",
            "807/807 [==============================] - 9s 11ms/step - loss: 23194542.0000 - val_loss: 23872472.0000\n",
            "Epoch 39/100\n",
            "807/807 [==============================] - 8s 10ms/step - loss: 23190752.0000 - val_loss: 24307050.0000\n",
            "Epoch 40/100\n",
            "807/807 [==============================] - 9s 11ms/step - loss: 23196962.0000 - val_loss: 22672860.0000\n",
            "Epoch 41/100\n",
            "807/807 [==============================] - 8s 10ms/step - loss: 23032884.0000 - val_loss: 22993522.0000\n"
          ]
        }
      ]
    },
    {
      "cell_type": "code",
      "source": [
        "# Make visualization of loss and validation loss\n",
        "history_df = pd.DataFrame(history.history)\n",
        "history_df.loc[0:, ['loss', 'val_loss']].plot()\n",
        "print((\"Minimum Validation Loss: {:0.4f}\").format(history_df['val_loss'].min()))"
      ],
      "metadata": {
        "colab": {
          "base_uri": "https://localhost:8080/",
          "height": 293
        },
        "id": "TpxvFOtrnd59",
        "outputId": "b21d7464-b3cd-4190-8c36-9a39ebdff41b"
      },
      "execution_count": null,
      "outputs": [
        {
          "output_type": "stream",
          "name": "stdout",
          "text": [
            "Minimum Validation Loss: 22179020.0000\n"
          ]
        },
        {
          "output_type": "display_data",
          "data": {
            "image/png": "[encoded data removed]",
            "text/plain": [
              "<Figure size 432x288 with 1 Axes>"
            ]
          },
          "metadata": {
            "needs_background": "light"
          }
        }
      ]
    },
    {
      "cell_type": "code",
      "source": [
        "# Predict \"price\" with Neural Network\n",
        "nn_pred = model.predict(X_test)"
      ],
      "metadata": {
        "id": "wOn88Fr1pebV"
      },
      "execution_count": null,
      "outputs": []
    },
    {
      "cell_type": "code",
      "source": [
        "# Evaluate Neural Network model\n",
        "nn_evaluation = evaluate_regressor_performance(\"NeuralNetwork\", nn_pred)\n",
        "nn_evaluation"
      ],
      "metadata": {
        "colab": {
          "base_uri": "https://localhost:8080/",
          "height": 81
        },
        "id": "l9kaCOLwpnt7",
        "outputId": "41e4311a-a6aa-4296-a571-d20fbd5807dd"
      },
      "execution_count": null,
      "outputs": [
        {
          "output_type": "execute_result",
          "data": {
            "text/html": [
              "\n",
              "  <div id=\"df-74d3a83a-fee9-41af-86bc-be2d44a3c4e4\">\n",
              "    <div class=\"colab-df-container\">\n",
              "      <div>\n",
              "<style scoped>\n",
              "    .dataframe tbody tr th:only-of-type {\n",
              "        vertical-align: middle;\n",
              "    }\n",
              "\n",
              "    .dataframe tbody tr th {\n",
              "        vertical-align: top;\n",
              "    }\n",
              "\n",
              "    .dataframe thead th {\n",
              "        text-align: right;\n",
              "    }\n",
              "</style>\n",
              "<table border=\"1\" class=\"dataframe\">\n",
              "  <thead>\n",
              "    <tr style=\"text-align: right;\">\n",
              "      <th></th>\n",
              "      <th>Model Name</th>\n",
              "      <th>MSE</th>\n",
              "      <th>MAE</th>\n",
              "      <th>RMSE</th>\n",
              "      <th>R2 Square</th>\n",
              "    </tr>\n",
              "  </thead>\n",
              "  <tbody>\n",
              "    <tr>\n",
              "      <th>0</th>\n",
              "      <td>NeuralNetwork</td>\n",
              "      <td>2.246154e+07</td>\n",
              "      <td>3352.726062</td>\n",
              "      <td>4739.361063</td>\n",
              "      <td>0.818177</td>\n",
              "    </tr>\n",
              "  </tbody>\n",
              "</table>\n",
              "</div>\n",
              "      <button class=\"colab-df-convert\" onclick=\"convertToInteractive('df-74d3a83a-fee9-41af-86bc-be2d44a3c4e4')\"\n",
              "              title=\"Convert this dataframe to an interactive table.\"\n",
              "              style=\"display:none;\">\n",
              "        \n",
              "  <svg xmlns=\"http://www.w3.org/2000/svg\" height=\"24px\"viewBox=\"0 0 24 24\"\n",
              "       width=\"24px\">\n",
              "    <path d=\"M0 0h24v24H0V0z\" fill=\"none\"/>\n",
              "    <path d=\"M18.56 5.44l.94 2.06.94-2.06 2.06-.94-2.06-.94-.94-2.06-.94 2.06-2.06.94zm-11 1L8.5 8.5l.94-2.06 2.06-.94-2.06-.94L8.5 2.5l-.94 2.06-2.06.94zm10 10l.94 2.06.94-2.06 2.06-.94-2.06-.94-.94-2.06-.94 2.06-2.06.94z\"/><path d=\"M17.41 7.96l-1.37-1.37c-.4-.4-.92-.59-1.43-.59-.52 0-1.04.2-1.43.59L10.3 9.45l-7.72 7.72c-.78.78-.78 2.05 0 2.83L4 21.41c.39.39.9.59 1.41.59.51 0 1.02-.2 1.41-.59l7.78-7.78 2.81-2.81c.8-.78.8-2.07 0-2.86zM5.41 20L4 18.59l7.72-7.72 1.47 1.35L5.41 20z\"/>\n",
              "  </svg>\n",
              "      </button>\n",
              "      \n",
              "  <style>\n",
              "    .colab-df-container {\n",
              "      display:flex;\n",
              "      flex-wrap:wrap;\n",
              "      gap: 12px;\n",
              "    }\n",
              "\n",
              "    .colab-df-convert {\n",
              "      background-color: #E8F0FE;\n",
              "      border: none;\n",
              "      border-radius: 50%;\n",
              "      cursor: pointer;\n",
              "      display: none;\n",
              "      fill: #1967D2;\n",
              "      height: 32px;\n",
              "      padding: 0 0 0 0;\n",
              "      width: 32px;\n",
              "    }\n",
              "\n",
              "    .colab-df-convert:hover {\n",
              "      background-color: #E2EBFA;\n",
              "      box-shadow: 0px 1px 2px rgba(60, 64, 67, 0.3), 0px 1px 3px 1px rgba(60, 64, 67, 0.15);\n",
              "      fill: #174EA6;\n",
              "    }\n",
              "\n",
              "    [theme=dark] .colab-df-convert {\n",
              "      background-color: #3B4455;\n",
              "      fill: #D2E3FC;\n",
              "    }\n",
              "\n",
              "    [theme=dark] .colab-df-convert:hover {\n",
              "      background-color: #434B5C;\n",
              "      box-shadow: 0px 1px 3px 1px rgba(0, 0, 0, 0.15);\n",
              "      filter: drop-shadow(0px 1px 2px rgba(0, 0, 0, 0.3));\n",
              "      fill: #FFFFFF;\n",
              "    }\n",
              "  </style>\n",
              "\n",
              "      <script>\n",
              "        const buttonEl =\n",
              "          document.querySelector('#df-74d3a83a-fee9-41af-86bc-be2d44a3c4e4 button.colab-df-convert');\n",
              "        buttonEl.style.display =\n",
              "          google.colab.kernel.accessAllowed ? 'block' : 'none';\n",
              "\n",
              "        async function convertToInteractive(key) {\n",
              "          const element = document.querySelector('#df-74d3a83a-fee9-41af-86bc-be2d44a3c4e4');\n",
              "          const dataTable =\n",
              "            await google.colab.kernel.invokeFunction('convertToInteractive',\n",
              "                                                     [key], {});\n",
              "          if (!dataTable) return;\n",
              "\n",
              "          const docLinkHtml = 'Like what you see? Visit the ' +\n",
              "            '<a target=\"_blank\" href=https://colab.research.google.com/notebooks/data_table.ipynb>data table notebook</a>'\n",
              "            + ' to learn more about interactive tables.';\n",
              "          element.innerHTML = '';\n",
              "          dataTable['output_type'] = 'display_data';\n",
              "          await google.colab.output.renderOutput(dataTable, element);\n",
              "          const docLink = document.createElement('div');\n",
              "          docLink.innerHTML = docLinkHtml;\n",
              "          element.appendChild(docLink);\n",
              "        }\n",
              "      </script>\n",
              "    </div>\n",
              "  </div>\n",
              "  "
            ],
            "text/plain": [
              "      Model Name           MSE          MAE         RMSE  R2 Square\n",
              "0  NeuralNetwork  2.246154e+07  3352.726062  4739.361063   0.818177"
            ]
          },
          "metadata": {},
          "execution_count": 52
        }
      ]
    },
    {
      "cell_type": "markdown",
      "source": [
        "## Compare Regression Model's Performance\n",
        "> This section aims to compare the results of the evaluation of the models that have been made and determine which model has the best performance."
      ],
      "metadata": {
        "id": "q9N2ObFuadq7"
      }
    },
    {
      "cell_type": "code",
      "source": [
        "# Menampilkan perbandingan hasil evaluasi model-model klasifikasi\n",
        "models_result = pd.concat([gbr_evaluation, rfr_model, nn_evaluation])\n",
        "models_result.sort_values('Recall Macro Average', ascending=False)"
      ],
      "metadata": {
        "colab": {
          "base_uri": "https://localhost:8080/",
          "height": 175
        },
        "outputId": "98dbdfdd-be3f-4624-c2b7-269ff3254637",
        "id": "EnTckfDUadrJ"
      },
      "execution_count": null,
      "outputs": [
        {
          "output_type": "execute_result",
          "data": {
            "text/html": [
              "\n",
              "  <div id=\"df-f04b696c-3361-4b52-81c4-8dc7bf8e0f11\">\n",
              "    <div class=\"colab-df-container\">\n",
              "      <div>\n",
              "<style scoped>\n",
              "    .dataframe tbody tr th:only-of-type {\n",
              "        vertical-align: middle;\n",
              "    }\n",
              "\n",
              "    .dataframe tbody tr th {\n",
              "        vertical-align: top;\n",
              "    }\n",
              "\n",
              "    .dataframe thead th {\n",
              "        text-align: right;\n",
              "    }\n",
              "</style>\n",
              "<table border=\"1\" class=\"dataframe\">\n",
              "  <thead>\n",
              "    <tr style=\"text-align: right;\">\n",
              "      <th></th>\n",
              "      <th>Model Name</th>\n",
              "      <th>Accuracy</th>\n",
              "      <th>Precision Macro Average</th>\n",
              "      <th>Precision Micro Average</th>\n",
              "      <th>Recall Macro Average</th>\n",
              "      <th>Recall Micro Average</th>\n",
              "      <th>F1 Macro Average</th>\n",
              "      <th>F1 Micro Average</th>\n",
              "    </tr>\n",
              "  </thead>\n",
              "  <tbody>\n",
              "    <tr>\n",
              "      <th>0</th>\n",
              "      <td>Decision Tree</td>\n",
              "      <td>1.000000</td>\n",
              "      <td>1.000000</td>\n",
              "      <td>1.000000</td>\n",
              "      <td>1.000000</td>\n",
              "      <td>1.000000</td>\n",
              "      <td>1.000000</td>\n",
              "      <td>1.000000</td>\n",
              "    </tr>\n",
              "    <tr>\n",
              "      <th>0</th>\n",
              "      <td>KNN</td>\n",
              "      <td>1.000000</td>\n",
              "      <td>1.000000</td>\n",
              "      <td>1.000000</td>\n",
              "      <td>1.000000</td>\n",
              "      <td>1.000000</td>\n",
              "      <td>1.000000</td>\n",
              "      <td>1.000000</td>\n",
              "    </tr>\n",
              "    <tr>\n",
              "      <th>0</th>\n",
              "      <td>Neural Network</td>\n",
              "      <td>0.976684</td>\n",
              "      <td>0.960232</td>\n",
              "      <td>0.976684</td>\n",
              "      <td>0.760831</td>\n",
              "      <td>0.976684</td>\n",
              "      <td>0.830437</td>\n",
              "      <td>0.976684</td>\n",
              "    </tr>\n",
              "    <tr>\n",
              "      <th>0</th>\n",
              "      <td>Naive Bayes</td>\n",
              "      <td>0.964353</td>\n",
              "      <td>0.981993</td>\n",
              "      <td>0.964353</td>\n",
              "      <td>0.611283</td>\n",
              "      <td>0.964353</td>\n",
              "      <td>0.672879</td>\n",
              "      <td>0.964353</td>\n",
              "    </tr>\n",
              "  </tbody>\n",
              "</table>\n",
              "</div>\n",
              "      <button class=\"colab-df-convert\" onclick=\"convertToInteractive('df-f04b696c-3361-4b52-81c4-8dc7bf8e0f11')\"\n",
              "              title=\"Convert this dataframe to an interactive table.\"\n",
              "              style=\"display:none;\">\n",
              "        \n",
              "  <svg xmlns=\"http://www.w3.org/2000/svg\" height=\"24px\"viewBox=\"0 0 24 24\"\n",
              "       width=\"24px\">\n",
              "    <path d=\"M0 0h24v24H0V0z\" fill=\"none\"/>\n",
              "    <path d=\"M18.56 5.44l.94 2.06.94-2.06 2.06-.94-2.06-.94-.94-2.06-.94 2.06-2.06.94zm-11 1L8.5 8.5l.94-2.06 2.06-.94-2.06-.94L8.5 2.5l-.94 2.06-2.06.94zm10 10l.94 2.06.94-2.06 2.06-.94-2.06-.94-.94-2.06-.94 2.06-2.06.94z\"/><path d=\"M17.41 7.96l-1.37-1.37c-.4-.4-.92-.59-1.43-.59-.52 0-1.04.2-1.43.59L10.3 9.45l-7.72 7.72c-.78.78-.78 2.05 0 2.83L4 21.41c.39.39.9.59 1.41.59.51 0 1.02-.2 1.41-.59l7.78-7.78 2.81-2.81c.8-.78.8-2.07 0-2.86zM5.41 20L4 18.59l7.72-7.72 1.47 1.35L5.41 20z\"/>\n",
              "  </svg>\n",
              "      </button>\n",
              "      \n",
              "  <style>\n",
              "    .colab-df-container {\n",
              "      display:flex;\n",
              "      flex-wrap:wrap;\n",
              "      gap: 12px;\n",
              "    }\n",
              "\n",
              "    .colab-df-convert {\n",
              "      background-color: #E8F0FE;\n",
              "      border: none;\n",
              "      border-radius: 50%;\n",
              "      cursor: pointer;\n",
              "      display: none;\n",
              "      fill: #1967D2;\n",
              "      height: 32px;\n",
              "      padding: 0 0 0 0;\n",
              "      width: 32px;\n",
              "    }\n",
              "\n",
              "    .colab-df-convert:hover {\n",
              "      background-color: #E2EBFA;\n",
              "      box-shadow: 0px 1px 2px rgba(60, 64, 67, 0.3), 0px 1px 3px 1px rgba(60, 64, 67, 0.15);\n",
              "      fill: #174EA6;\n",
              "    }\n",
              "\n",
              "    [theme=dark] .colab-df-convert {\n",
              "      background-color: #3B4455;\n",
              "      fill: #D2E3FC;\n",
              "    }\n",
              "\n",
              "    [theme=dark] .colab-df-convert:hover {\n",
              "      background-color: #434B5C;\n",
              "      box-shadow: 0px 1px 3px 1px rgba(0, 0, 0, 0.15);\n",
              "      filter: drop-shadow(0px 1px 2px rgba(0, 0, 0, 0.3));\n",
              "      fill: #FFFFFF;\n",
              "    }\n",
              "  </style>\n",
              "\n",
              "      <script>\n",
              "        const buttonEl =\n",
              "          document.querySelector('#df-f04b696c-3361-4b52-81c4-8dc7bf8e0f11 button.colab-df-convert');\n",
              "        buttonEl.style.display =\n",
              "          google.colab.kernel.accessAllowed ? 'block' : 'none';\n",
              "\n",
              "        async function convertToInteractive(key) {\n",
              "          const element = document.querySelector('#df-f04b696c-3361-4b52-81c4-8dc7bf8e0f11');\n",
              "          const dataTable =\n",
              "            await google.colab.kernel.invokeFunction('convertToInteractive',\n",
              "                                                     [key], {});\n",
              "          if (!dataTable) return;\n",
              "\n",
              "          const docLinkHtml = 'Like what you see? Visit the ' +\n",
              "            '<a target=\"_blank\" href=https://colab.research.google.com/notebooks/data_table.ipynb>data table notebook</a>'\n",
              "            + ' to learn more about interactive tables.';\n",
              "          element.innerHTML = '';\n",
              "          dataTable['output_type'] = 'display_data';\n",
              "          await google.colab.output.renderOutput(dataTable, element);\n",
              "          const docLink = document.createElement('div');\n",
              "          docLink.innerHTML = docLinkHtml;\n",
              "          element.appendChild(docLink);\n",
              "        }\n",
              "      </script>\n",
              "    </div>\n",
              "  </div>\n",
              "  "
            ],
            "text/plain": [
              "       Model Name  Accuracy  ...  F1 Macro Average  F1 Micro Average\n",
              "0   Decision Tree  1.000000  ...          1.000000          1.000000\n",
              "0             KNN  1.000000  ...          1.000000          1.000000\n",
              "0  Neural Network  0.976684  ...          0.830437          0.976684\n",
              "0     Naive Bayes  0.964353  ...          0.672879          0.964353\n",
              "\n",
              "[4 rows x 8 columns]"
            ]
          },
          "metadata": {},
          "execution_count": 141
        }
      ]
    },
    {
      "cell_type": "markdown",
      "source": [
        "# Fraud Prediction"
      ],
      "metadata": {
        "id": "MOPiouXTxKQW"
      }
    },
    {
      "cell_type": "markdown",
      "source": [
        "## Preparation"
      ],
      "metadata": {
        "id": "GtG96yKbxPo8"
      }
    },
    {
      "cell_type": "code",
      "source": [
        "# Labeling price as fraud or non-fraud based on its value\n",
        "# Price is labeled 1 as fraud if the value is <= 500 or >= 45000, 0 otherwise\n",
        "fraud_pred_data = preprocessed_data.copy()\n",
        "fraud_pred_data[\"label\"] = fraud_pred_data.apply(\n",
        "    lambda row: 1 if (row[\"price\"] <= 500 or row[\"price\"] >= 45000) \n",
        "       else 0,\n",
        "    axis=1\n",
        ")"
      ],
      "metadata": {
        "id": "YSKJuwnUVUrs"
      },
      "execution_count": 27,
      "outputs": []
    },
    {
      "cell_type": "code",
      "source": [
        "# Check the distribution of fraud and non-fraud label using countplot\n",
        "sns.countplot(x=\"label\", data=fraud_pred_data[[\"label\"]])\n",
        "\n",
        "# Print number of row of each label\n",
        "from collections import Counter\n",
        "counter = Counter(fraud_pred_data[\"label\"])\n",
        "print(counter)"
      ],
      "metadata": {
        "id": "sDxG71VgXQcs",
        "colab": {
          "base_uri": "https://localhost:8080/",
          "height": 0
        },
        "outputId": "d57a5392-0c23-4aab-d046-43ff4863c8ba"
      },
      "execution_count": 28,
      "outputs": [
        {
          "output_type": "stream",
          "name": "stdout",
          "text": [
            "Counter({0: 107498, 1: 5017})\n"
          ]
        },
        {
          "output_type": "display_data",
          "data": {
            "text/plain": [
              "<Figure size 432x288 with 1 Axes>"
            ],
            "image/png": "[encoded data removed]"
          },
          "metadata": {
            "needs_background": "light"
          }
        }
      ]
    },
    {
      "cell_type": "markdown",
      "source": [
        "> We can see that the label distribution is not balance. So, we need to do balancing on that. I will do data oversampling using SMOTE technique on training data."
      ],
      "metadata": {
        "id": "DRJ4ylJTX3Xe"
      }
    },
    {
      "cell_type": "code",
      "source": [
        "# Split features and target columns\n",
        "# Also drop \"price\" column to prevent data leakage\n",
        "X1 = fraud_pred_data.drop([\"label\", \"price\"], axis=1)\n",
        "y1 = fraud_pred_data[\"label\"]"
      ],
      "metadata": {
        "id": "qazabIN4WOmX"
      },
      "execution_count": 29,
      "outputs": []
    },
    {
      "cell_type": "code",
      "source": [
        "# Perform train-test-split\n",
        "from sklearn.model_selection import train_test_split\n",
        "X1_train, X1_test, y1_train, y1_test = train_test_split(X1, y1, test_size=0.3, random_state=42)"
      ],
      "metadata": {
        "id": "ws78etKjWdf9"
      },
      "execution_count": 30,
      "outputs": []
    },
    {
      "cell_type": "code",
      "source": [
        "# Normalize feature column value using standardization\n",
        "from sklearn.preprocessing import StandardScaler\n",
        "scaler = StandardScaler()\n",
        "\n",
        "X1_train = scaler.fit_transform(X1_train)\n",
        "X1_test = scaler.transform(X1_test)"
      ],
      "metadata": {
        "id": "6oaeYuzDWndN"
      },
      "execution_count": 31,
      "outputs": []
    },
    {
      "cell_type": "code",
      "source": [
        "# Oversampling on training data\n",
        "from imblearn.over_sampling import SMOTE\n",
        "\n",
        "oversample = SMOTE()\n",
        "X1_train, y1_train = oversample.fit_resample(X1_train, y1_train)"
      ],
      "metadata": {
        "id": "8z-RbOpzYuza"
      },
      "execution_count": 32,
      "outputs": []
    },
    {
      "cell_type": "code",
      "source": [
        "# Check the distribution of fraud and non-fraud label on oversampled data using countplot\n",
        "oversampled_data = pd.DataFrame(X1_train, columns=X1.columns)\n",
        "oversampled_data['label'] = y1_train\n",
        "sns.countplot(x='label', data=oversampled_data)\n",
        "\n",
        "# Print number of row of each label\n",
        "counter = Counter(y1_train)\n",
        "print(counter)"
      ],
      "metadata": {
        "id": "iB9EaWd-ZB66",
        "colab": {
          "base_uri": "https://localhost:8080/",
          "height": 0
        },
        "outputId": "54841a37-3272-4d1c-c051-bd577dc24688"
      },
      "execution_count": 33,
      "outputs": [
        {
          "output_type": "stream",
          "name": "stdout",
          "text": [
            "Counter({0: 75263, 1: 75263})\n"
          ]
        },
        {
          "output_type": "display_data",
          "data": {
            "text/plain": [
              "<Figure size 432x288 with 1 Axes>"
            ],
            "image/png": "[encoded data removed]"
          },
          "metadata": {
            "needs_background": "light"
          }
        }
      ]
    },
    {
      "cell_type": "code",
      "source": [
        "oversampled_data.head()"
      ],
      "metadata": {
        "colab": {
          "base_uri": "https://localhost:8080/",
          "height": 0
        },
        "id": "kgcpoEK6WlD7",
        "outputId": "948fc657-bcbf-472b-d4bd-5caa6c0fbc79"
      },
      "execution_count": 34,
      "outputs": [
        {
          "output_type": "execute_result",
          "data": {
            "text/plain": [
              "       year  odometer  posting_year  condition_fair  condition_good  \\\n",
              "0  0.672098 -0.034336           0.0       -0.187323       -0.829736   \n",
              "1  0.074368  0.297571           0.0       -0.187323        1.205202   \n",
              "2  0.373233 -0.021908           0.0       -0.187323        1.205202   \n",
              "3 -1.918064 -0.433441           0.0       -0.187323       -0.829736   \n",
              "4 -0.025253  0.650151           0.0       -0.187323       -0.829736   \n",
              "\n",
              "   condition_like new  condition_new  condition_salvage  cylinders_10  \\\n",
              "0           -0.347683      -0.069629          -0.053046     -0.088276   \n",
              "1           -0.347683      -0.069629          -0.053046     -0.088276   \n",
              "2           -0.347683      -0.069629          -0.053046     -0.088276   \n",
              "3            2.876183      -0.069629          -0.053046     -0.088276   \n",
              "4            2.876183      -0.069629          -0.053046     -0.088276   \n",
              "\n",
              "   cylinders_12  ...  title_status_lien  title_status_missing  \\\n",
              "0     -0.024174  ...          -0.088713             -0.046783   \n",
              "1     -0.024174  ...          -0.088713             -0.046783   \n",
              "2     -0.024174  ...          -0.088713             -0.046783   \n",
              "3     -0.024174  ...          -0.088713             -0.046783   \n",
              "4     -0.024174  ...          -0.088713             -0.046783   \n",
              "\n",
              "   title_status_parts only  title_status_rebuilt  title_status_salvage  \\\n",
              "0                -0.022258             -0.180648             -0.113632   \n",
              "1                -0.022258             -0.180648             -0.113632   \n",
              "2                -0.022258             -0.180648             -0.113632   \n",
              "3                -0.022258             -0.180648             -0.113632   \n",
              "4                -0.022258             -0.180648             -0.113632   \n",
              "\n",
              "   transmission_manual  transmission_other  drive_fwd  drive_rwd  label  \n",
              "0            -0.279634           -0.352118  -0.717286  -0.560868      0  \n",
              "1            -0.279634           -0.352118  -0.717286   1.782951      0  \n",
              "2            -0.279634           -0.352118   1.394144  -0.560868      0  \n",
              "3            -0.279634           -0.352118   1.394144  -0.560868      0  \n",
              "4            -0.279634           -0.352118   1.394144  -0.560868      0  \n",
              "\n",
              "[5 rows x 29 columns]"
            ],
            "text/html": [
              "\n",
              "  <div id=\"df-91e49d5a-13b3-48d2-b9db-23a7026f769b\">\n",
              "    <div class=\"colab-df-container\">\n",
              "      <div>\n",
              "<style scoped>\n",
              "    .dataframe tbody tr th:only-of-type {\n",
              "        vertical-align: middle;\n",
              "    }\n",
              "\n",
              "    .dataframe tbody tr th {\n",
              "        vertical-align: top;\n",
              "    }\n",
              "\n",
              "    .dataframe thead th {\n",
              "        text-align: right;\n",
              "    }\n",
              "</style>\n",
              "<table border=\"1\" class=\"dataframe\">\n",
              "  <thead>\n",
              "    <tr style=\"text-align: right;\">\n",
              "      <th></th>\n",
              "      <th>year</th>\n",
              "      <th>odometer</th>\n",
              "      <th>posting_year</th>\n",
              "      <th>condition_fair</th>\n",
              "      <th>condition_good</th>\n",
              "      <th>condition_like new</th>\n",
              "      <th>condition_new</th>\n",
              "      <th>condition_salvage</th>\n",
              "      <th>cylinders_10</th>\n",
              "      <th>cylinders_12</th>\n",
              "      <th>...</th>\n",
              "      <th>title_status_lien</th>\n",
              "      <th>title_status_missing</th>\n",
              "      <th>title_status_parts only</th>\n",
              "      <th>title_status_rebuilt</th>\n",
              "      <th>title_status_salvage</th>\n",
              "      <th>transmission_manual</th>\n",
              "      <th>transmission_other</th>\n",
              "      <th>drive_fwd</th>\n",
              "      <th>drive_rwd</th>\n",
              "      <th>label</th>\n",
              "    </tr>\n",
              "  </thead>\n",
              "  <tbody>\n",
              "    <tr>\n",
              "      <th>0</th>\n",
              "      <td>0.672098</td>\n",
              "      <td>-0.034336</td>\n",
              "      <td>0.0</td>\n",
              "      <td>-0.187323</td>\n",
              "      <td>-0.829736</td>\n",
              "      <td>-0.347683</td>\n",
              "      <td>-0.069629</td>\n",
              "      <td>-0.053046</td>\n",
              "      <td>-0.088276</td>\n",
              "      <td>-0.024174</td>\n",
              "      <td>...</td>\n",
              "      <td>-0.088713</td>\n",
              "      <td>-0.046783</td>\n",
              "      <td>-0.022258</td>\n",
              "      <td>-0.180648</td>\n",
              "      <td>-0.113632</td>\n",
              "      <td>-0.279634</td>\n",
              "      <td>-0.352118</td>\n",
              "      <td>-0.717286</td>\n",
              "      <td>-0.560868</td>\n",
              "      <td>0</td>\n",
              "    </tr>\n",
              "    <tr>\n",
              "      <th>1</th>\n",
              "      <td>0.074368</td>\n",
              "      <td>0.297571</td>\n",
              "      <td>0.0</td>\n",
              "      <td>-0.187323</td>\n",
              "      <td>1.205202</td>\n",
              "      <td>-0.347683</td>\n",
              "      <td>-0.069629</td>\n",
              "      <td>-0.053046</td>\n",
              "      <td>-0.088276</td>\n",
              "      <td>-0.024174</td>\n",
              "      <td>...</td>\n",
              "      <td>-0.088713</td>\n",
              "      <td>-0.046783</td>\n",
              "      <td>-0.022258</td>\n",
              "      <td>-0.180648</td>\n",
              "      <td>-0.113632</td>\n",
              "      <td>-0.279634</td>\n",
              "      <td>-0.352118</td>\n",
              "      <td>-0.717286</td>\n",
              "      <td>1.782951</td>\n",
              "      <td>0</td>\n",
              "    </tr>\n",
              "    <tr>\n",
              "      <th>2</th>\n",
              "      <td>0.373233</td>\n",
              "      <td>-0.021908</td>\n",
              "      <td>0.0</td>\n",
              "      <td>-0.187323</td>\n",
              "      <td>1.205202</td>\n",
              "      <td>-0.347683</td>\n",
              "      <td>-0.069629</td>\n",
              "      <td>-0.053046</td>\n",
              "      <td>-0.088276</td>\n",
              "      <td>-0.024174</td>\n",
              "      <td>...</td>\n",
              "      <td>-0.088713</td>\n",
              "      <td>-0.046783</td>\n",
              "      <td>-0.022258</td>\n",
              "      <td>-0.180648</td>\n",
              "      <td>-0.113632</td>\n",
              "      <td>-0.279634</td>\n",
              "      <td>-0.352118</td>\n",
              "      <td>1.394144</td>\n",
              "      <td>-0.560868</td>\n",
              "      <td>0</td>\n",
              "    </tr>\n",
              "    <tr>\n",
              "      <th>3</th>\n",
              "      <td>-1.918064</td>\n",
              "      <td>-0.433441</td>\n",
              "      <td>0.0</td>\n",
              "      <td>-0.187323</td>\n",
              "      <td>-0.829736</td>\n",
              "      <td>2.876183</td>\n",
              "      <td>-0.069629</td>\n",
              "      <td>-0.053046</td>\n",
              "      <td>-0.088276</td>\n",
              "      <td>-0.024174</td>\n",
              "      <td>...</td>\n",
              "      <td>-0.088713</td>\n",
              "      <td>-0.046783</td>\n",
              "      <td>-0.022258</td>\n",
              "      <td>-0.180648</td>\n",
              "      <td>-0.113632</td>\n",
              "      <td>-0.279634</td>\n",
              "      <td>-0.352118</td>\n",
              "      <td>1.394144</td>\n",
              "      <td>-0.560868</td>\n",
              "      <td>0</td>\n",
              "    </tr>\n",
              "    <tr>\n",
              "      <th>4</th>\n",
              "      <td>-0.025253</td>\n",
              "      <td>0.650151</td>\n",
              "      <td>0.0</td>\n",
              "      <td>-0.187323</td>\n",
              "      <td>-0.829736</td>\n",
              "      <td>2.876183</td>\n",
              "      <td>-0.069629</td>\n",
              "      <td>-0.053046</td>\n",
              "      <td>-0.088276</td>\n",
              "      <td>-0.024174</td>\n",
              "      <td>...</td>\n",
              "      <td>-0.088713</td>\n",
              "      <td>-0.046783</td>\n",
              "      <td>-0.022258</td>\n",
              "      <td>-0.180648</td>\n",
              "      <td>-0.113632</td>\n",
              "      <td>-0.279634</td>\n",
              "      <td>-0.352118</td>\n",
              "      <td>1.394144</td>\n",
              "      <td>-0.560868</td>\n",
              "      <td>0</td>\n",
              "    </tr>\n",
              "  </tbody>\n",
              "</table>\n",
              "<p>5 rows × 29 columns</p>\n",
              "</div>\n",
              "      <button class=\"colab-df-convert\" onclick=\"convertToInteractive('df-91e49d5a-13b3-48d2-b9db-23a7026f769b')\"\n",
              "              title=\"Convert this dataframe to an interactive table.\"\n",
              "              style=\"display:none;\">\n",
              "        \n",
              "  <svg xmlns=\"http://www.w3.org/2000/svg\" height=\"24px\"viewBox=\"0 0 24 24\"\n",
              "       width=\"24px\">\n",
              "    <path d=\"M0 0h24v24H0V0z\" fill=\"none\"/>\n",
              "    <path d=\"M18.56 5.44l.94 2.06.94-2.06 2.06-.94-2.06-.94-.94-2.06-.94 2.06-2.06.94zm-11 1L8.5 8.5l.94-2.06 2.06-.94-2.06-.94L8.5 2.5l-.94 2.06-2.06.94zm10 10l.94 2.06.94-2.06 2.06-.94-2.06-.94-.94-2.06-.94 2.06-2.06.94z\"/><path d=\"M17.41 7.96l-1.37-1.37c-.4-.4-.92-.59-1.43-.59-.52 0-1.04.2-1.43.59L10.3 9.45l-7.72 7.72c-.78.78-.78 2.05 0 2.83L4 21.41c.39.39.9.59 1.41.59.51 0 1.02-.2 1.41-.59l7.78-7.78 2.81-2.81c.8-.78.8-2.07 0-2.86zM5.41 20L4 18.59l7.72-7.72 1.47 1.35L5.41 20z\"/>\n",
              "  </svg>\n",
              "      </button>\n",
              "      \n",
              "  <style>\n",
              "    .colab-df-container {\n",
              "      display:flex;\n",
              "      flex-wrap:wrap;\n",
              "      gap: 12px;\n",
              "    }\n",
              "\n",
              "    .colab-df-convert {\n",
              "      background-color: #E8F0FE;\n",
              "      border: none;\n",
              "      border-radius: 50%;\n",
              "      cursor: pointer;\n",
              "      display: none;\n",
              "      fill: #1967D2;\n",
              "      height: 32px;\n",
              "      padding: 0 0 0 0;\n",
              "      width: 32px;\n",
              "    }\n",
              "\n",
              "    .colab-df-convert:hover {\n",
              "      background-color: #E2EBFA;\n",
              "      box-shadow: 0px 1px 2px rgba(60, 64, 67, 0.3), 0px 1px 3px 1px rgba(60, 64, 67, 0.15);\n",
              "      fill: #174EA6;\n",
              "    }\n",
              "\n",
              "    [theme=dark] .colab-df-convert {\n",
              "      background-color: #3B4455;\n",
              "      fill: #D2E3FC;\n",
              "    }\n",
              "\n",
              "    [theme=dark] .colab-df-convert:hover {\n",
              "      background-color: #434B5C;\n",
              "      box-shadow: 0px 1px 3px 1px rgba(0, 0, 0, 0.15);\n",
              "      filter: drop-shadow(0px 1px 2px rgba(0, 0, 0, 0.3));\n",
              "      fill: #FFFFFF;\n",
              "    }\n",
              "  </style>\n",
              "\n",
              "      <script>\n",
              "        const buttonEl =\n",
              "          document.querySelector('#df-91e49d5a-13b3-48d2-b9db-23a7026f769b button.colab-df-convert');\n",
              "        buttonEl.style.display =\n",
              "          google.colab.kernel.accessAllowed ? 'block' : 'none';\n",
              "\n",
              "        async function convertToInteractive(key) {\n",
              "          const element = document.querySelector('#df-91e49d5a-13b3-48d2-b9db-23a7026f769b');\n",
              "          const dataTable =\n",
              "            await google.colab.kernel.invokeFunction('convertToInteractive',\n",
              "                                                     [key], {});\n",
              "          if (!dataTable) return;\n",
              "\n",
              "          const docLinkHtml = 'Like what you see? Visit the ' +\n",
              "            '<a target=\"_blank\" href=https://colab.research.google.com/notebooks/data_table.ipynb>data table notebook</a>'\n",
              "            + ' to learn more about interactive tables.';\n",
              "          element.innerHTML = '';\n",
              "          dataTable['output_type'] = 'display_data';\n",
              "          await google.colab.output.renderOutput(dataTable, element);\n",
              "          const docLink = document.createElement('div');\n",
              "          docLink.innerHTML = docLinkHtml;\n",
              "          element.appendChild(docLink);\n",
              "        }\n",
              "      </script>\n",
              "    </div>\n",
              "  </div>\n",
              "  "
            ]
          },
          "metadata": {},
          "execution_count": 34
        }
      ]
    },
    {
      "cell_type": "markdown",
      "source": [
        "### Function for classification model evaluation"
      ],
      "metadata": {
        "id": "c85MXuZxxUY0"
      }
    },
    {
      "cell_type": "code",
      "source": [
        "# Function for evaluate the classification model\n",
        "from sklearn.metrics import precision_score, \\\n",
        "    recall_score, classification_report, \\\n",
        "    accuracy_score, f1_score, ConfusionMatrixDisplay\n",
        "\n",
        "def evaluate_classifier_performance(model_name, classifier, prediction, y1_test = y1_test):\n",
        "    # Evaluation information in a compact way\n",
        "    # print(\"Evaluation Result:\\n\\n%s\\n\" % (classification_report(y1_test, prediction)))\n",
        "\n",
        "    # Confusion Matrix\n",
        "    # print(\"Confusion Matrix\\n\")\n",
        "    if model_name != \"NeuralNetwork\":\n",
        "      ConfusionMatrixDisplay.from_estimator(classifier, X1_test, y1_test)\n",
        "\n",
        "    accuracy = accuracy_score(y1_test, prediction)\n",
        "    precision_macro_average = precision_score(y1_test, prediction, average='macro')\n",
        "    precision_micro_average = precision_score(y1_test, prediction, average='micro')\n",
        "    recall_macro_average = recall_score(y1_test, prediction, average='macro')\n",
        "    recall_micro_average = recall_score(y1_test, prediction, average='micro')\n",
        "    f1_macro_average = f1_score(y1_test, prediction, average='macro')\n",
        "    f1_micro_average = f1_score(y1_test, prediction, average='micro')\n",
        "    return pd.DataFrame( { 'Model Name': model_name,\n",
        "                           'Accuracy': accuracy,\n",
        "                           'Precision Macro Average': precision_macro_average,\n",
        "                           'Precision Micro Average': precision_micro_average, \n",
        "                           'Recall Macro Average': recall_macro_average,\n",
        "                           'Recall Micro Average': recall_micro_average,\n",
        "                           'F1 Macro Average': f1_macro_average, \n",
        "                           'F1 Micro Average': f1_micro_average}, index=[0])"
      ],
      "metadata": {
        "id": "6O5jkzz-xMsN"
      },
      "execution_count": 35,
      "outputs": []
    },
    {
      "cell_type": "markdown",
      "source": [
        "## Logistic Regression"
      ],
      "metadata": {
        "id": "RaM3V2l6d6nf"
      }
    },
    {
      "cell_type": "code",
      "source": [
        "# Create and train Logistic Regression model\n",
        "from sklearn.linear_model import LogisticRegression\n",
        "lgr_model = LogisticRegression()\n",
        "\n",
        "lgr_model.fit(X1_train, y1_train)"
      ],
      "metadata": {
        "colab": {
          "base_uri": "https://localhost:8080/"
        },
        "outputId": "c0e1d8d1-511a-449e-a482-03280d1d35d5",
        "id": "ExGYt4pShgOt"
      },
      "execution_count": 49,
      "outputs": [
        {
          "output_type": "execute_result",
          "data": {
            "text/plain": [
              "LogisticRegression()"
            ]
          },
          "metadata": {},
          "execution_count": 49
        }
      ]
    },
    {
      "cell_type": "code",
      "source": [
        "# Predict \"price\" with Logistic Regression model\n",
        "lgr_pred = lgr_model.predict(X1_test)"
      ],
      "metadata": {
        "id": "nxXBVgr5hgOx"
      },
      "execution_count": 50,
      "outputs": []
    },
    {
      "cell_type": "code",
      "source": [
        "# Evaluate Gradient Boosting Regressor model\n",
        "lgr_evaluation = evaluate_classifier_performance(\"LogisticRegression\", lgr_model, lgr_pred)\n",
        "lgr_evaluation"
      ],
      "metadata": {
        "colab": {
          "base_uri": "https://localhost:8080/",
          "height": 408
        },
        "outputId": "b3bf3429-b883-4721-95d2-e716a03cdb84",
        "id": "VLiPBPXyhgOx"
      },
      "execution_count": 51,
      "outputs": [
        {
          "output_type": "execute_result",
          "data": {
            "text/plain": [
              "           Model Name  Accuracy  Precision Macro Average  \\\n",
              "0  LogisticRegression  0.775085                 0.562141   \n",
              "\n",
              "   Precision Micro Average  Recall Macro Average  Recall Micro Average  \\\n",
              "0                 0.775085               0.77003              0.775085   \n",
              "\n",
              "   F1 Macro Average  F1 Micro Average  \n",
              "0          0.551275          0.775085  "
            ],
            "text/html": [
              "\n",
              "  <div id=\"df-35cd0b9c-b529-4601-8135-5faa05cc6c8d\">\n",
              "    <div class=\"colab-df-container\">\n",
              "      <div>\n",
              "<style scoped>\n",
              "    .dataframe tbody tr th:only-of-type {\n",
              "        vertical-align: middle;\n",
              "    }\n",
              "\n",
              "    .dataframe tbody tr th {\n",
              "        vertical-align: top;\n",
              "    }\n",
              "\n",
              "    .dataframe thead th {\n",
              "        text-align: right;\n",
              "    }\n",
              "</style>\n",
              "<table border=\"1\" class=\"dataframe\">\n",
              "  <thead>\n",
              "    <tr style=\"text-align: right;\">\n",
              "      <th></th>\n",
              "      <th>Model Name</th>\n",
              "      <th>Accuracy</th>\n",
              "      <th>Precision Macro Average</th>\n",
              "      <th>Precision Micro Average</th>\n",
              "      <th>Recall Macro Average</th>\n",
              "      <th>Recall Micro Average</th>\n",
              "      <th>F1 Macro Average</th>\n",
              "      <th>F1 Micro Average</th>\n",
              "    </tr>\n",
              "  </thead>\n",
              "  <tbody>\n",
              "    <tr>\n",
              "      <th>0</th>\n",
              "      <td>LogisticRegression</td>\n",
              "      <td>0.775085</td>\n",
              "      <td>0.562141</td>\n",
              "      <td>0.775085</td>\n",
              "      <td>0.77003</td>\n",
              "      <td>0.775085</td>\n",
              "      <td>0.551275</td>\n",
              "      <td>0.775085</td>\n",
              "    </tr>\n",
              "  </tbody>\n",
              "</table>\n",
              "</div>\n",
              "      <button class=\"colab-df-convert\" onclick=\"convertToInteractive('df-35cd0b9c-b529-4601-8135-5faa05cc6c8d')\"\n",
              "              title=\"Convert this dataframe to an interactive table.\"\n",
              "              style=\"display:none;\">\n",
              "        \n",
              "  <svg xmlns=\"http://www.w3.org/2000/svg\" height=\"24px\"viewBox=\"0 0 24 24\"\n",
              "       width=\"24px\">\n",
              "    <path d=\"M0 0h24v24H0V0z\" fill=\"none\"/>\n",
              "    <path d=\"M18.56 5.44l.94 2.06.94-2.06 2.06-.94-2.06-.94-.94-2.06-.94 2.06-2.06.94zm-11 1L8.5 8.5l.94-2.06 2.06-.94-2.06-.94L8.5 2.5l-.94 2.06-2.06.94zm10 10l.94 2.06.94-2.06 2.06-.94-2.06-.94-.94-2.06-.94 2.06-2.06.94z\"/><path d=\"M17.41 7.96l-1.37-1.37c-.4-.4-.92-.59-1.43-.59-.52 0-1.04.2-1.43.59L10.3 9.45l-7.72 7.72c-.78.78-.78 2.05 0 2.83L4 21.41c.39.39.9.59 1.41.59.51 0 1.02-.2 1.41-.59l7.78-7.78 2.81-2.81c.8-.78.8-2.07 0-2.86zM5.41 20L4 18.59l7.72-7.72 1.47 1.35L5.41 20z\"/>\n",
              "  </svg>\n",
              "      </button>\n",
              "      \n",
              "  <style>\n",
              "    .colab-df-container {\n",
              "      display:flex;\n",
              "      flex-wrap:wrap;\n",
              "      gap: 12px;\n",
              "    }\n",
              "\n",
              "    .colab-df-convert {\n",
              "      background-color: #E8F0FE;\n",
              "      border: none;\n",
              "      border-radius: 50%;\n",
              "      cursor: pointer;\n",
              "      display: none;\n",
              "      fill: #1967D2;\n",
              "      height: 32px;\n",
              "      padding: 0 0 0 0;\n",
              "      width: 32px;\n",
              "    }\n",
              "\n",
              "    .colab-df-convert:hover {\n",
              "      background-color: #E2EBFA;\n",
              "      box-shadow: 0px 1px 2px rgba(60, 64, 67, 0.3), 0px 1px 3px 1px rgba(60, 64, 67, 0.15);\n",
              "      fill: #174EA6;\n",
              "    }\n",
              "\n",
              "    [theme=dark] .colab-df-convert {\n",
              "      background-color: #3B4455;\n",
              "      fill: #D2E3FC;\n",
              "    }\n",
              "\n",
              "    [theme=dark] .colab-df-convert:hover {\n",
              "      background-color: #434B5C;\n",
              "      box-shadow: 0px 1px 3px 1px rgba(0, 0, 0, 0.15);\n",
              "      filter: drop-shadow(0px 1px 2px rgba(0, 0, 0, 0.3));\n",
              "      fill: #FFFFFF;\n",
              "    }\n",
              "  </style>\n",
              "\n",
              "      <script>\n",
              "        const buttonEl =\n",
              "          document.querySelector('#df-35cd0b9c-b529-4601-8135-5faa05cc6c8d button.colab-df-convert');\n",
              "        buttonEl.style.display =\n",
              "          google.colab.kernel.accessAllowed ? 'block' : 'none';\n",
              "\n",
              "        async function convertToInteractive(key) {\n",
              "          const element = document.querySelector('#df-35cd0b9c-b529-4601-8135-5faa05cc6c8d');\n",
              "          const dataTable =\n",
              "            await google.colab.kernel.invokeFunction('convertToInteractive',\n",
              "                                                     [key], {});\n",
              "          if (!dataTable) return;\n",
              "\n",
              "          const docLinkHtml = 'Like what you see? Visit the ' +\n",
              "            '<a target=\"_blank\" href=https://colab.research.google.com/notebooks/data_table.ipynb>data table notebook</a>'\n",
              "            + ' to learn more about interactive tables.';\n",
              "          element.innerHTML = '';\n",
              "          dataTable['output_type'] = 'display_data';\n",
              "          await google.colab.output.renderOutput(dataTable, element);\n",
              "          const docLink = document.createElement('div');\n",
              "          docLink.innerHTML = docLinkHtml;\n",
              "          element.appendChild(docLink);\n",
              "        }\n",
              "      </script>\n",
              "    </div>\n",
              "  </div>\n",
              "  "
            ]
          },
          "metadata": {},
          "execution_count": 51
        },
        {
          "output_type": "display_data",
          "data": {
            "text/plain": [
              "<Figure size 432x288 with 2 Axes>"
            ],
            "image/png": "[encoded data removed]"
          },
          "metadata": {
            "needs_background": "light"
          }
        }
      ]
    },
    {
      "cell_type": "markdown",
      "source": [
        "## Naive Bayes"
      ],
      "metadata": {
        "id": "qrHLOLdmdxNe"
      }
    },
    {
      "cell_type": "code",
      "source": [
        "# Create and train Naive Bayes model\n",
        "from sklearn.naive_bayes import GaussianNB\n",
        "bayes = GaussianNB()\n",
        "\n",
        "bayes.fit(X1_train, y1_train)"
      ],
      "metadata": {
        "colab": {
          "base_uri": "https://localhost:8080/"
        },
        "outputId": "0d380f10-df45-4758-8bbd-d8035d5349ed",
        "id": "Hz0tSokzUdqH"
      },
      "execution_count": 52,
      "outputs": [
        {
          "output_type": "execute_result",
          "data": {
            "text/plain": [
              "GaussianNB()"
            ]
          },
          "metadata": {},
          "execution_count": 52
        }
      ]
    },
    {
      "cell_type": "code",
      "source": [
        "# Predict \"price\" with Naive Bayes model\n",
        "bayes_pred = bayes.predict(X1_test)"
      ],
      "metadata": {
        "id": "E6hhOpUXUdqR"
      },
      "execution_count": 53,
      "outputs": []
    },
    {
      "cell_type": "code",
      "source": [
        "# Evaluate Naive Bayes model\n",
        "bayes_evaluation = evaluate_classifier_performance(\"Naive Bayes\", bayes, bayes_pred)\n",
        "bayes_evaluation"
      ],
      "metadata": {
        "colab": {
          "base_uri": "https://localhost:8080/",
          "height": 421
        },
        "outputId": "f6affedf-e71c-4a62-f94c-2002abcb516a",
        "id": "n3bT426PUdqR"
      },
      "execution_count": 54,
      "outputs": [
        {
          "output_type": "execute_result",
          "data": {
            "text/plain": [
              "    Model Name  Accuracy  Precision Macro Average  Precision Micro Average  \\\n",
              "0  Naive Bayes  0.842334                 0.574648                 0.842334   \n",
              "\n",
              "   Recall Macro Average  Recall Micro Average  F1 Macro Average  \\\n",
              "0               0.74506              0.842334          0.589405   \n",
              "\n",
              "   F1 Micro Average  \n",
              "0          0.842334  "
            ],
            "text/html": [
              "\n",
              "  <div id=\"df-0bc36d37-56e6-44c2-9bbc-670b77343689\">\n",
              "    <div class=\"colab-df-container\">\n",
              "      <div>\n",
              "<style scoped>\n",
              "    .dataframe tbody tr th:only-of-type {\n",
              "        vertical-align: middle;\n",
              "    }\n",
              "\n",
              "    .dataframe tbody tr th {\n",
              "        vertical-align: top;\n",
              "    }\n",
              "\n",
              "    .dataframe thead th {\n",
              "        text-align: right;\n",
              "    }\n",
              "</style>\n",
              "<table border=\"1\" class=\"dataframe\">\n",
              "  <thead>\n",
              "    <tr style=\"text-align: right;\">\n",
              "      <th></th>\n",
              "      <th>Model Name</th>\n",
              "      <th>Accuracy</th>\n",
              "      <th>Precision Macro Average</th>\n",
              "      <th>Precision Micro Average</th>\n",
              "      <th>Recall Macro Average</th>\n",
              "      <th>Recall Micro Average</th>\n",
              "      <th>F1 Macro Average</th>\n",
              "      <th>F1 Micro Average</th>\n",
              "    </tr>\n",
              "  </thead>\n",
              "  <tbody>\n",
              "    <tr>\n",
              "      <th>0</th>\n",
              "      <td>Naive Bayes</td>\n",
              "      <td>0.842334</td>\n",
              "      <td>0.574648</td>\n",
              "      <td>0.842334</td>\n",
              "      <td>0.74506</td>\n",
              "      <td>0.842334</td>\n",
              "      <td>0.589405</td>\n",
              "      <td>0.842334</td>\n",
              "    </tr>\n",
              "  </tbody>\n",
              "</table>\n",
              "</div>\n",
              "      <button class=\"colab-df-convert\" onclick=\"convertToInteractive('df-0bc36d37-56e6-44c2-9bbc-670b77343689')\"\n",
              "              title=\"Convert this dataframe to an interactive table.\"\n",
              "              style=\"display:none;\">\n",
              "        \n",
              "  <svg xmlns=\"http://www.w3.org/2000/svg\" height=\"24px\"viewBox=\"0 0 24 24\"\n",
              "       width=\"24px\">\n",
              "    <path d=\"M0 0h24v24H0V0z\" fill=\"none\"/>\n",
              "    <path d=\"M18.56 5.44l.94 2.06.94-2.06 2.06-.94-2.06-.94-.94-2.06-.94 2.06-2.06.94zm-11 1L8.5 8.5l.94-2.06 2.06-.94-2.06-.94L8.5 2.5l-.94 2.06-2.06.94zm10 10l.94 2.06.94-2.06 2.06-.94-2.06-.94-.94-2.06-.94 2.06-2.06.94z\"/><path d=\"M17.41 7.96l-1.37-1.37c-.4-.4-.92-.59-1.43-.59-.52 0-1.04.2-1.43.59L10.3 9.45l-7.72 7.72c-.78.78-.78 2.05 0 2.83L4 21.41c.39.39.9.59 1.41.59.51 0 1.02-.2 1.41-.59l7.78-7.78 2.81-2.81c.8-.78.8-2.07 0-2.86zM5.41 20L4 18.59l7.72-7.72 1.47 1.35L5.41 20z\"/>\n",
              "  </svg>\n",
              "      </button>\n",
              "      \n",
              "  <style>\n",
              "    .colab-df-container {\n",
              "      display:flex;\n",
              "      flex-wrap:wrap;\n",
              "      gap: 12px;\n",
              "    }\n",
              "\n",
              "    .colab-df-convert {\n",
              "      background-color: #E8F0FE;\n",
              "      border: none;\n",
              "      border-radius: 50%;\n",
              "      cursor: pointer;\n",
              "      display: none;\n",
              "      fill: #1967D2;\n",
              "      height: 32px;\n",
              "      padding: 0 0 0 0;\n",
              "      width: 32px;\n",
              "    }\n",
              "\n",
              "    .colab-df-convert:hover {\n",
              "      background-color: #E2EBFA;\n",
              "      box-shadow: 0px 1px 2px rgba(60, 64, 67, 0.3), 0px 1px 3px 1px rgba(60, 64, 67, 0.15);\n",
              "      fill: #174EA6;\n",
              "    }\n",
              "\n",
              "    [theme=dark] .colab-df-convert {\n",
              "      background-color: #3B4455;\n",
              "      fill: #D2E3FC;\n",
              "    }\n",
              "\n",
              "    [theme=dark] .colab-df-convert:hover {\n",
              "      background-color: #434B5C;\n",
              "      box-shadow: 0px 1px 3px 1px rgba(0, 0, 0, 0.15);\n",
              "      filter: drop-shadow(0px 1px 2px rgba(0, 0, 0, 0.3));\n",
              "      fill: #FFFFFF;\n",
              "    }\n",
              "  </style>\n",
              "\n",
              "      <script>\n",
              "        const buttonEl =\n",
              "          document.querySelector('#df-0bc36d37-56e6-44c2-9bbc-670b77343689 button.colab-df-convert');\n",
              "        buttonEl.style.display =\n",
              "          google.colab.kernel.accessAllowed ? 'block' : 'none';\n",
              "\n",
              "        async function convertToInteractive(key) {\n",
              "          const element = document.querySelector('#df-0bc36d37-56e6-44c2-9bbc-670b77343689');\n",
              "          const dataTable =\n",
              "            await google.colab.kernel.invokeFunction('convertToInteractive',\n",
              "                                                     [key], {});\n",
              "          if (!dataTable) return;\n",
              "\n",
              "          const docLinkHtml = 'Like what you see? Visit the ' +\n",
              "            '<a target=\"_blank\" href=https://colab.research.google.com/notebooks/data_table.ipynb>data table notebook</a>'\n",
              "            + ' to learn more about interactive tables.';\n",
              "          element.innerHTML = '';\n",
              "          dataTable['output_type'] = 'display_data';\n",
              "          await google.colab.output.renderOutput(dataTable, element);\n",
              "          const docLink = document.createElement('div');\n",
              "          docLink.innerHTML = docLinkHtml;\n",
              "          element.appendChild(docLink);\n",
              "        }\n",
              "      </script>\n",
              "    </div>\n",
              "  </div>\n",
              "  "
            ]
          },
          "metadata": {},
          "execution_count": 54
        },
        {
          "output_type": "display_data",
          "data": {
            "text/plain": [
              "<Figure size 432x288 with 2 Axes>"
            ],
            "image/png": "[encoded data removed]"
          },
          "metadata": {
            "needs_background": "light"
          }
        }
      ]
    },
    {
      "cell_type": "markdown",
      "source": [
        "## Random Forest Classification"
      ],
      "metadata": {
        "id": "ocN5xTKKd0ib"
      }
    },
    {
      "cell_type": "code",
      "source": [
        "# Create and train Random Forest Classifier model\n",
        "from sklearn.ensemble import RandomForestClassifier\n",
        "rfc_model = RandomForestClassifier(random_state=42)\n",
        "\n",
        "rfc_model.fit(X1_train, y1_train)"
      ],
      "metadata": {
        "colab": {
          "base_uri": "https://localhost:8080/"
        },
        "id": "JcE_otpcVIZh",
        "outputId": "24506f2b-4386-4714-9544-514b796e90fc"
      },
      "execution_count": 65,
      "outputs": [
        {
          "output_type": "execute_result",
          "data": {
            "text/plain": [
              "RandomForestClassifier(random_state=42)"
            ]
          },
          "metadata": {},
          "execution_count": 65
        }
      ]
    },
    {
      "cell_type": "code",
      "source": [
        "# Predict \"price\" with Random Forest Classifier model\n",
        "rfc_pred = rfc_model.predict(X1_test)"
      ],
      "metadata": {
        "id": "E_bOus7qWCYT"
      },
      "execution_count": 66,
      "outputs": []
    },
    {
      "cell_type": "code",
      "source": [
        "# Evaluate Random Forest Classifier model\n",
        "rfc_evaluation = evaluate_classifier_performance(\"Random Forest Classifier\", rfc_model, rfc_pred)\n",
        "rfc_evaluation"
      ],
      "metadata": {
        "colab": {
          "base_uri": "https://localhost:8080/",
          "height": 421
        },
        "outputId": "8e02497d-3e2f-43de-a027-8b516201f129",
        "id": "CCQGVNPLWCYc"
      },
      "execution_count": 67,
      "outputs": [
        {
          "output_type": "execute_result",
          "data": {
            "text/plain": [
              "                 Model Name  Accuracy  Precision Macro Average  \\\n",
              "0  Random Forest Classifier  0.958999                 0.759841   \n",
              "\n",
              "   Precision Micro Average  Recall Macro Average  Recall Micro Average  \\\n",
              "0                 0.958999              0.854412              0.958999   \n",
              "\n",
              "   F1 Macro Average  F1 Micro Average  \n",
              "0          0.798638          0.958999  "
            ],
            "text/html": [
              "\n",
              "  <div id=\"df-2462067f-bec6-49db-bbf9-abdc78a70ca7\">\n",
              "    <div class=\"colab-df-container\">\n",
              "      <div>\n",
              "<style scoped>\n",
              "    .dataframe tbody tr th:only-of-type {\n",
              "        vertical-align: middle;\n",
              "    }\n",
              "\n",
              "    .dataframe tbody tr th {\n",
              "        vertical-align: top;\n",
              "    }\n",
              "\n",
              "    .dataframe thead th {\n",
              "        text-align: right;\n",
              "    }\n",
              "</style>\n",
              "<table border=\"1\" class=\"dataframe\">\n",
              "  <thead>\n",
              "    <tr style=\"text-align: right;\">\n",
              "      <th></th>\n",
              "      <th>Model Name</th>\n",
              "      <th>Accuracy</th>\n",
              "      <th>Precision Macro Average</th>\n",
              "      <th>Precision Micro Average</th>\n",
              "      <th>Recall Macro Average</th>\n",
              "      <th>Recall Micro Average</th>\n",
              "      <th>F1 Macro Average</th>\n",
              "      <th>F1 Micro Average</th>\n",
              "    </tr>\n",
              "  </thead>\n",
              "  <tbody>\n",
              "    <tr>\n",
              "      <th>0</th>\n",
              "      <td>Random Forest Classifier</td>\n",
              "      <td>0.958999</td>\n",
              "      <td>0.759841</td>\n",
              "      <td>0.958999</td>\n",
              "      <td>0.854412</td>\n",
              "      <td>0.958999</td>\n",
              "      <td>0.798638</td>\n",
              "      <td>0.958999</td>\n",
              "    </tr>\n",
              "  </tbody>\n",
              "</table>\n",
              "</div>\n",
              "      <button class=\"colab-df-convert\" onclick=\"convertToInteractive('df-2462067f-bec6-49db-bbf9-abdc78a70ca7')\"\n",
              "              title=\"Convert this dataframe to an interactive table.\"\n",
              "              style=\"display:none;\">\n",
              "        \n",
              "  <svg xmlns=\"http://www.w3.org/2000/svg\" height=\"24px\"viewBox=\"0 0 24 24\"\n",
              "       width=\"24px\">\n",
              "    <path d=\"M0 0h24v24H0V0z\" fill=\"none\"/>\n",
              "    <path d=\"M18.56 5.44l.94 2.06.94-2.06 2.06-.94-2.06-.94-.94-2.06-.94 2.06-2.06.94zm-11 1L8.5 8.5l.94-2.06 2.06-.94-2.06-.94L8.5 2.5l-.94 2.06-2.06.94zm10 10l.94 2.06.94-2.06 2.06-.94-2.06-.94-.94-2.06-.94 2.06-2.06.94z\"/><path d=\"M17.41 7.96l-1.37-1.37c-.4-.4-.92-.59-1.43-.59-.52 0-1.04.2-1.43.59L10.3 9.45l-7.72 7.72c-.78.78-.78 2.05 0 2.83L4 21.41c.39.39.9.59 1.41.59.51 0 1.02-.2 1.41-.59l7.78-7.78 2.81-2.81c.8-.78.8-2.07 0-2.86zM5.41 20L4 18.59l7.72-7.72 1.47 1.35L5.41 20z\"/>\n",
              "  </svg>\n",
              "      </button>\n",
              "      \n",
              "  <style>\n",
              "    .colab-df-container {\n",
              "      display:flex;\n",
              "      flex-wrap:wrap;\n",
              "      gap: 12px;\n",
              "    }\n",
              "\n",
              "    .colab-df-convert {\n",
              "      background-color: #E8F0FE;\n",
              "      border: none;\n",
              "      border-radius: 50%;\n",
              "      cursor: pointer;\n",
              "      display: none;\n",
              "      fill: #1967D2;\n",
              "      height: 32px;\n",
              "      padding: 0 0 0 0;\n",
              "      width: 32px;\n",
              "    }\n",
              "\n",
              "    .colab-df-convert:hover {\n",
              "      background-color: #E2EBFA;\n",
              "      box-shadow: 0px 1px 2px rgba(60, 64, 67, 0.3), 0px 1px 3px 1px rgba(60, 64, 67, 0.15);\n",
              "      fill: #174EA6;\n",
              "    }\n",
              "\n",
              "    [theme=dark] .colab-df-convert {\n",
              "      background-color: #3B4455;\n",
              "      fill: #D2E3FC;\n",
              "    }\n",
              "\n",
              "    [theme=dark] .colab-df-convert:hover {\n",
              "      background-color: #434B5C;\n",
              "      box-shadow: 0px 1px 3px 1px rgba(0, 0, 0, 0.15);\n",
              "      filter: drop-shadow(0px 1px 2px rgba(0, 0, 0, 0.3));\n",
              "      fill: #FFFFFF;\n",
              "    }\n",
              "  </style>\n",
              "\n",
              "      <script>\n",
              "        const buttonEl =\n",
              "          document.querySelector('#df-2462067f-bec6-49db-bbf9-abdc78a70ca7 button.colab-df-convert');\n",
              "        buttonEl.style.display =\n",
              "          google.colab.kernel.accessAllowed ? 'block' : 'none';\n",
              "\n",
              "        async function convertToInteractive(key) {\n",
              "          const element = document.querySelector('#df-2462067f-bec6-49db-bbf9-abdc78a70ca7');\n",
              "          const dataTable =\n",
              "            await google.colab.kernel.invokeFunction('convertToInteractive',\n",
              "                                                     [key], {});\n",
              "          if (!dataTable) return;\n",
              "\n",
              "          const docLinkHtml = 'Like what you see? Visit the ' +\n",
              "            '<a target=\"_blank\" href=https://colab.research.google.com/notebooks/data_table.ipynb>data table notebook</a>'\n",
              "            + ' to learn more about interactive tables.';\n",
              "          element.innerHTML = '';\n",
              "          dataTable['output_type'] = 'display_data';\n",
              "          await google.colab.output.renderOutput(dataTable, element);\n",
              "          const docLink = document.createElement('div');\n",
              "          docLink.innerHTML = docLinkHtml;\n",
              "          element.appendChild(docLink);\n",
              "        }\n",
              "      </script>\n",
              "    </div>\n",
              "  </div>\n",
              "  "
            ]
          },
          "metadata": {},
          "execution_count": 67
        },
        {
          "output_type": "display_data",
          "data": {
            "text/plain": [
              "<Figure size 432x288 with 2 Axes>"
            ],
            "image/png": "[encoded data removed]"
          },
          "metadata": {
            "needs_background": "light"
          }
        }
      ]
    },
    {
      "cell_type": "markdown",
      "source": [
        "## Neural Network"
      ],
      "metadata": {
        "id": "lh2PoVD2aGcb"
      }
    },
    {
      "cell_type": "code",
      "source": [
        "# import tensorflow\n",
        "from tensorflow import keras\n",
        "from tensorflow.keras import layers\n",
        "from tensorflow.keras import callbacks"
      ],
      "metadata": {
        "id": "lufEG8KpW6Px"
      },
      "execution_count": 58,
      "outputs": []
    },
    {
      "cell_type": "code",
      "source": [
        "# Split train and validation dataset\n",
        "X1_sep = int(X1_train.shape[0]*0.8)\n",
        "y1_sep = int(y1_train.shape[0]*0.8)\n",
        "\n",
        "X1_nn_train = X1_train[:X1_sep]\n",
        "y1_nn_train = y1_train[:y1_sep]\n",
        "\n",
        "X1_nn_valid = X1_train[X1_sep:]\n",
        "y1_nn_valid = y1_train[y1_sep:]"
      ],
      "metadata": {
        "id": "8X1aUfN7W6P7"
      },
      "execution_count": 59,
      "outputs": []
    },
    {
      "cell_type": "code",
      "source": [
        "input_shape = [X1_nn_train.shape[1]]"
      ],
      "metadata": {
        "id": "f9q0NB2pW6P7"
      },
      "execution_count": 60,
      "outputs": []
    },
    {
      "cell_type": "code",
      "source": [
        "# Create and train Neural Network Model\n",
        "model = keras.Sequential([\n",
        "    layers.Dense(256, activation='relu', input_shape=input_shape),\n",
        "    layers.Dropout(0.2),\n",
        "    layers.Dense(128, activation='relu'),\n",
        "    layers.Dropout(0.2),\n",
        "    layers.Dense(1, activation='sigmoid'),\n",
        "])\n",
        "\n",
        "model.compile(\n",
        "    optimizer='adam',\n",
        "    loss='binary_crossentropy',\n",
        "    metrics='accuracy'\n",
        ")\n",
        "\n",
        "EPOCHS = 10\n",
        "history1 = model.fit(\n",
        "    X1_nn_train, y1_nn_train,\n",
        "    validation_data=(X1_nn_valid, y1_nn_valid),\n",
        "    epochs=EPOCHS,\n",
        "    verbose=1,\n",
        ")"
      ],
      "metadata": {
        "colab": {
          "base_uri": "https://localhost:8080/"
        },
        "outputId": "c91a31bb-cda8-4a96-e943-eefcab1f0f3a",
        "id": "R_JOmH_RW6P7"
      },
      "execution_count": 61,
      "outputs": [
        {
          "output_type": "stream",
          "name": "stdout",
          "text": [
            "Epoch 1/10\n",
            "3764/3764 [==============================] - 18s 5ms/step - loss: 0.3909 - accuracy: 0.8290 - val_loss: 0.5375 - val_accuracy: 0.7101\n",
            "Epoch 2/10\n",
            "3764/3764 [==============================] - 18s 5ms/step - loss: 0.3577 - accuracy: 0.8447 - val_loss: 0.4751 - val_accuracy: 0.7361\n",
            "Epoch 3/10\n",
            "3764/3764 [==============================] - 18s 5ms/step - loss: 0.3428 - accuracy: 0.8538 - val_loss: 0.4371 - val_accuracy: 0.7656\n",
            "Epoch 4/10\n",
            "3764/3764 [==============================] - 18s 5ms/step - loss: 0.3315 - accuracy: 0.8593 - val_loss: 0.4371 - val_accuracy: 0.7800\n",
            "Epoch 5/10\n",
            "3764/3764 [==============================] - 12s 3ms/step - loss: 0.3245 - accuracy: 0.8636 - val_loss: 0.4231 - val_accuracy: 0.7828\n",
            "Epoch 6/10\n",
            "3764/3764 [==============================] - 12s 3ms/step - loss: 0.3175 - accuracy: 0.8652 - val_loss: 0.4465 - val_accuracy: 0.7669\n",
            "Epoch 7/10\n",
            "3764/3764 [==============================] - 12s 3ms/step - loss: 0.3116 - accuracy: 0.8678 - val_loss: 0.3988 - val_accuracy: 0.7916\n",
            "Epoch 8/10\n",
            "3764/3764 [==============================] - 13s 4ms/step - loss: 0.3094 - accuracy: 0.8690 - val_loss: 0.4001 - val_accuracy: 0.7964\n",
            "Epoch 9/10\n",
            "3764/3764 [==============================] - 12s 3ms/step - loss: 0.3047 - accuracy: 0.8707 - val_loss: 0.4454 - val_accuracy: 0.7693\n",
            "Epoch 10/10\n",
            "3764/3764 [==============================] - 14s 4ms/step - loss: 0.3010 - accuracy: 0.8724 - val_loss: 0.4166 - val_accuracy: 0.7958\n"
          ]
        }
      ]
    },
    {
      "cell_type": "code",
      "source": [
        "# Make visualization of loss and validation loss\n",
        "history_df = pd.DataFrame(history1.history)\n",
        "history_df.loc[0:, ['loss', 'val_loss']].plot()\n",
        "print((\"Minimum Validation Loss: {:0.4f}\").format(history_df['val_loss'].min()))"
      ],
      "metadata": {
        "colab": {
          "base_uri": "https://localhost:8080/",
          "height": 282
        },
        "outputId": "b7305738-4657-4b3d-968e-f00b3378f222",
        "id": "kMCoxVRdW6P8"
      },
      "execution_count": 62,
      "outputs": [
        {
          "output_type": "stream",
          "name": "stdout",
          "text": [
            "Minimum Validation Loss: 0.3988\n"
          ]
        },
        {
          "output_type": "display_data",
          "data": {
            "text/plain": [
              "<Figure size 432x288 with 1 Axes>"
            ],
            "image/png": "[encoded data removed]"
          },
          "metadata": {
            "needs_background": "light"
          }
        }
      ]
    },
    {
      "cell_type": "code",
      "source": [
        "# Predict \"price\" with Neural Network\n",
        "nn1_pred = model.predict(X1_test)"
      ],
      "metadata": {
        "id": "DZj-BwThW6P8"
      },
      "execution_count": 63,
      "outputs": []
    },
    {
      "cell_type": "code",
      "source": [
        "# Evaluate Neural Network model\n",
        "nn1_evaluation = evaluate_classifier_performance(\"NeuralNetwork\", model, nn1_pred.astype(int))\n",
        "nn1_evaluation"
      ],
      "metadata": {
        "colab": {
          "base_uri": "https://localhost:8080/",
          "height": 197
        },
        "outputId": "0d623d02-9603-4cdf-a0e6-e4ed9de9bfc0",
        "id": "ANiKkqjiW6P8"
      },
      "execution_count": 64,
      "outputs": [
        {
          "output_type": "stream",
          "name": "stderr",
          "text": [
            "/usr/local/lib/python3.7/dist-packages/sklearn/metrics/_classification.py:1318: UndefinedMetricWarning: Precision is ill-defined and being set to 0.0 in labels with no predicted samples. Use `zero_division` parameter to control this behavior.\n",
            "  _warn_prf(average, modifier, msg_start, len(result))\n"
          ]
        },
        {
          "output_type": "execute_result",
          "data": {
            "text/plain": [
              "      Model Name  Accuracy  Precision Macro Average  Precision Micro Average  \\\n",
              "0  NeuralNetwork   0.95497                 0.477485                  0.95497   \n",
              "\n",
              "   Recall Macro Average  Recall Micro Average  F1 Macro Average  \\\n",
              "0                   0.5               0.95497          0.488483   \n",
              "\n",
              "   F1 Micro Average  \n",
              "0           0.95497  "
            ],
            "text/html": [
              "\n",
              "  <div id=\"df-1fca0690-e62a-4706-8df3-67e568118f44\">\n",
              "    <div class=\"colab-df-container\">\n",
              "      <div>\n",
              "<style scoped>\n",
              "    .dataframe tbody tr th:only-of-type {\n",
              "        vertical-align: middle;\n",
              "    }\n",
              "\n",
              "    .dataframe tbody tr th {\n",
              "        vertical-align: top;\n",
              "    }\n",
              "\n",
              "    .dataframe thead th {\n",
              "        text-align: right;\n",
              "    }\n",
              "</style>\n",
              "<table border=\"1\" class=\"dataframe\">\n",
              "  <thead>\n",
              "    <tr style=\"text-align: right;\">\n",
              "      <th></th>\n",
              "      <th>Model Name</th>\n",
              "      <th>Accuracy</th>\n",
              "      <th>Precision Macro Average</th>\n",
              "      <th>Precision Micro Average</th>\n",
              "      <th>Recall Macro Average</th>\n",
              "      <th>Recall Micro Average</th>\n",
              "      <th>F1 Macro Average</th>\n",
              "      <th>F1 Micro Average</th>\n",
              "    </tr>\n",
              "  </thead>\n",
              "  <tbody>\n",
              "    <tr>\n",
              "      <th>0</th>\n",
              "      <td>NeuralNetwork</td>\n",
              "      <td>0.95497</td>\n",
              "      <td>0.477485</td>\n",
              "      <td>0.95497</td>\n",
              "      <td>0.5</td>\n",
              "      <td>0.95497</td>\n",
              "      <td>0.488483</td>\n",
              "      <td>0.95497</td>\n",
              "    </tr>\n",
              "  </tbody>\n",
              "</table>\n",
              "</div>\n",
              "      <button class=\"colab-df-convert\" onclick=\"convertToInteractive('df-1fca0690-e62a-4706-8df3-67e568118f44')\"\n",
              "              title=\"Convert this dataframe to an interactive table.\"\n",
              "              style=\"display:none;\">\n",
              "        \n",
              "  <svg xmlns=\"http://www.w3.org/2000/svg\" height=\"24px\"viewBox=\"0 0 24 24\"\n",
              "       width=\"24px\">\n",
              "    <path d=\"M0 0h24v24H0V0z\" fill=\"none\"/>\n",
              "    <path d=\"M18.56 5.44l.94 2.06.94-2.06 2.06-.94-2.06-.94-.94-2.06-.94 2.06-2.06.94zm-11 1L8.5 8.5l.94-2.06 2.06-.94-2.06-.94L8.5 2.5l-.94 2.06-2.06.94zm10 10l.94 2.06.94-2.06 2.06-.94-2.06-.94-.94-2.06-.94 2.06-2.06.94z\"/><path d=\"M17.41 7.96l-1.37-1.37c-.4-.4-.92-.59-1.43-.59-.52 0-1.04.2-1.43.59L10.3 9.45l-7.72 7.72c-.78.78-.78 2.05 0 2.83L4 21.41c.39.39.9.59 1.41.59.51 0 1.02-.2 1.41-.59l7.78-7.78 2.81-2.81c.8-.78.8-2.07 0-2.86zM5.41 20L4 18.59l7.72-7.72 1.47 1.35L5.41 20z\"/>\n",
              "  </svg>\n",
              "      </button>\n",
              "      \n",
              "  <style>\n",
              "    .colab-df-container {\n",
              "      display:flex;\n",
              "      flex-wrap:wrap;\n",
              "      gap: 12px;\n",
              "    }\n",
              "\n",
              "    .colab-df-convert {\n",
              "      background-color: #E8F0FE;\n",
              "      border: none;\n",
              "      border-radius: 50%;\n",
              "      cursor: pointer;\n",
              "      display: none;\n",
              "      fill: #1967D2;\n",
              "      height: 32px;\n",
              "      padding: 0 0 0 0;\n",
              "      width: 32px;\n",
              "    }\n",
              "\n",
              "    .colab-df-convert:hover {\n",
              "      background-color: #E2EBFA;\n",
              "      box-shadow: 0px 1px 2px rgba(60, 64, 67, 0.3), 0px 1px 3px 1px rgba(60, 64, 67, 0.15);\n",
              "      fill: #174EA6;\n",
              "    }\n",
              "\n",
              "    [theme=dark] .colab-df-convert {\n",
              "      background-color: #3B4455;\n",
              "      fill: #D2E3FC;\n",
              "    }\n",
              "\n",
              "    [theme=dark] .colab-df-convert:hover {\n",
              "      background-color: #434B5C;\n",
              "      box-shadow: 0px 1px 3px 1px rgba(0, 0, 0, 0.15);\n",
              "      filter: drop-shadow(0px 1px 2px rgba(0, 0, 0, 0.3));\n",
              "      fill: #FFFFFF;\n",
              "    }\n",
              "  </style>\n",
              "\n",
              "      <script>\n",
              "        const buttonEl =\n",
              "          document.querySelector('#df-1fca0690-e62a-4706-8df3-67e568118f44 button.colab-df-convert');\n",
              "        buttonEl.style.display =\n",
              "          google.colab.kernel.accessAllowed ? 'block' : 'none';\n",
              "\n",
              "        async function convertToInteractive(key) {\n",
              "          const element = document.querySelector('#df-1fca0690-e62a-4706-8df3-67e568118f44');\n",
              "          const dataTable =\n",
              "            await google.colab.kernel.invokeFunction('convertToInteractive',\n",
              "                                                     [key], {});\n",
              "          if (!dataTable) return;\n",
              "\n",
              "          const docLinkHtml = 'Like what you see? Visit the ' +\n",
              "            '<a target=\"_blank\" href=https://colab.research.google.com/notebooks/data_table.ipynb>data table notebook</a>'\n",
              "            + ' to learn more about interactive tables.';\n",
              "          element.innerHTML = '';\n",
              "          dataTable['output_type'] = 'display_data';\n",
              "          await google.colab.output.renderOutput(dataTable, element);\n",
              "          const docLink = document.createElement('div');\n",
              "          docLink.innerHTML = docLinkHtml;\n",
              "          element.appendChild(docLink);\n",
              "        }\n",
              "      </script>\n",
              "    </div>\n",
              "  </div>\n",
              "  "
            ]
          },
          "metadata": {},
          "execution_count": 64
        }
      ]
    },
    {
      "cell_type": "markdown",
      "source": [
        "## Compare Classification Model's Performance\n",
        "> This section aims to compare the results of the evaluation of the models that have been made and determine which model has the best performance."
      ],
      "metadata": {
        "id": "itzv1r1oIeBY"
      }
    },
    {
      "cell_type": "code",
      "source": [
        "# Menampilkan perbandingan hasil evaluasi model-model klasifikasi\n",
        "models_result = pd.concat([lgr_evaluation, bayes_evaluation, rfc_evaluation, nn1_evaluation])\n",
        "models_result.sort_values('Recall Macro Average', ascending=False)"
      ],
      "metadata": {
        "colab": {
          "base_uri": "https://localhost:8080/",
          "height": 253
        },
        "id": "ssMwgb2bIkVI",
        "outputId": "8f4acb2d-2fa6-40d0-b726-3fee444c5964"
      },
      "execution_count": 69,
      "outputs": [
        {
          "output_type": "execute_result",
          "data": {
            "text/plain": [
              "                 Model Name  Accuracy  Precision Macro Average  \\\n",
              "0  Random Forest Classifier  0.958999                 0.759841   \n",
              "0        LogisticRegression  0.775085                 0.562141   \n",
              "0               Naive Bayes  0.842334                 0.574648   \n",
              "0             NeuralNetwork  0.954970                 0.477485   \n",
              "\n",
              "   Precision Micro Average  Recall Macro Average  Recall Micro Average  \\\n",
              "0                 0.958999              0.854412              0.958999   \n",
              "0                 0.775085              0.770030              0.775085   \n",
              "0                 0.842334              0.745060              0.842334   \n",
              "0                 0.954970              0.500000              0.954970   \n",
              "\n",
              "   F1 Macro Average  F1 Micro Average  \n",
              "0          0.798638          0.958999  \n",
              "0          0.551275          0.775085  \n",
              "0          0.589405          0.842334  \n",
              "0          0.488483          0.954970  "
            ],
            "text/html": [
              "\n",
              "  <div id=\"df-ce21b37d-14b3-4ec1-80b3-1c8b18b38d67\">\n",
              "    <div class=\"colab-df-container\">\n",
              "      <div>\n",
              "<style scoped>\n",
              "    .dataframe tbody tr th:only-of-type {\n",
              "        vertical-align: middle;\n",
              "    }\n",
              "\n",
              "    .dataframe tbody tr th {\n",
              "        vertical-align: top;\n",
              "    }\n",
              "\n",
              "    .dataframe thead th {\n",
              "        text-align: right;\n",
              "    }\n",
              "</style>\n",
              "<table border=\"1\" class=\"dataframe\">\n",
              "  <thead>\n",
              "    <tr style=\"text-align: right;\">\n",
              "      <th></th>\n",
              "      <th>Model Name</th>\n",
              "      <th>Accuracy</th>\n",
              "      <th>Precision Macro Average</th>\n",
              "      <th>Precision Micro Average</th>\n",
              "      <th>Recall Macro Average</th>\n",
              "      <th>Recall Micro Average</th>\n",
              "      <th>F1 Macro Average</th>\n",
              "      <th>F1 Micro Average</th>\n",
              "    </tr>\n",
              "  </thead>\n",
              "  <tbody>\n",
              "    <tr>\n",
              "      <th>0</th>\n",
              "      <td>Random Forest Classifier</td>\n",
              "      <td>0.958999</td>\n",
              "      <td>0.759841</td>\n",
              "      <td>0.958999</td>\n",
              "      <td>0.854412</td>\n",
              "      <td>0.958999</td>\n",
              "      <td>0.798638</td>\n",
              "      <td>0.958999</td>\n",
              "    </tr>\n",
              "    <tr>\n",
              "      <th>0</th>\n",
              "      <td>LogisticRegression</td>\n",
              "      <td>0.775085</td>\n",
              "      <td>0.562141</td>\n",
              "      <td>0.775085</td>\n",
              "      <td>0.770030</td>\n",
              "      <td>0.775085</td>\n",
              "      <td>0.551275</td>\n",
              "      <td>0.775085</td>\n",
              "    </tr>\n",
              "    <tr>\n",
              "      <th>0</th>\n",
              "      <td>Naive Bayes</td>\n",
              "      <td>0.842334</td>\n",
              "      <td>0.574648</td>\n",
              "      <td>0.842334</td>\n",
              "      <td>0.745060</td>\n",
              "      <td>0.842334</td>\n",
              "      <td>0.589405</td>\n",
              "      <td>0.842334</td>\n",
              "    </tr>\n",
              "    <tr>\n",
              "      <th>0</th>\n",
              "      <td>NeuralNetwork</td>\n",
              "      <td>0.954970</td>\n",
              "      <td>0.477485</td>\n",
              "      <td>0.954970</td>\n",
              "      <td>0.500000</td>\n",
              "      <td>0.954970</td>\n",
              "      <td>0.488483</td>\n",
              "      <td>0.954970</td>\n",
              "    </tr>\n",
              "  </tbody>\n",
              "</table>\n",
              "</div>\n",
              "      <button class=\"colab-df-convert\" onclick=\"convertToInteractive('df-ce21b37d-14b3-4ec1-80b3-1c8b18b38d67')\"\n",
              "              title=\"Convert this dataframe to an interactive table.\"\n",
              "              style=\"display:none;\">\n",
              "        \n",
              "  <svg xmlns=\"http://www.w3.org/2000/svg\" height=\"24px\"viewBox=\"0 0 24 24\"\n",
              "       width=\"24px\">\n",
              "    <path d=\"M0 0h24v24H0V0z\" fill=\"none\"/>\n",
              "    <path d=\"M18.56 5.44l.94 2.06.94-2.06 2.06-.94-2.06-.94-.94-2.06-.94 2.06-2.06.94zm-11 1L8.5 8.5l.94-2.06 2.06-.94-2.06-.94L8.5 2.5l-.94 2.06-2.06.94zm10 10l.94 2.06.94-2.06 2.06-.94-2.06-.94-.94-2.06-.94 2.06-2.06.94z\"/><path d=\"M17.41 7.96l-1.37-1.37c-.4-.4-.92-.59-1.43-.59-.52 0-1.04.2-1.43.59L10.3 9.45l-7.72 7.72c-.78.78-.78 2.05 0 2.83L4 21.41c.39.39.9.59 1.41.59.51 0 1.02-.2 1.41-.59l7.78-7.78 2.81-2.81c.8-.78.8-2.07 0-2.86zM5.41 20L4 18.59l7.72-7.72 1.47 1.35L5.41 20z\"/>\n",
              "  </svg>\n",
              "      </button>\n",
              "      \n",
              "  <style>\n",
              "    .colab-df-container {\n",
              "      display:flex;\n",
              "      flex-wrap:wrap;\n",
              "      gap: 12px;\n",
              "    }\n",
              "\n",
              "    .colab-df-convert {\n",
              "      background-color: #E8F0FE;\n",
              "      border: none;\n",
              "      border-radius: 50%;\n",
              "      cursor: pointer;\n",
              "      display: none;\n",
              "      fill: #1967D2;\n",
              "      height: 32px;\n",
              "      padding: 0 0 0 0;\n",
              "      width: 32px;\n",
              "    }\n",
              "\n",
              "    .colab-df-convert:hover {\n",
              "      background-color: #E2EBFA;\n",
              "      box-shadow: 0px 1px 2px rgba(60, 64, 67, 0.3), 0px 1px 3px 1px rgba(60, 64, 67, 0.15);\n",
              "      fill: #174EA6;\n",
              "    }\n",
              "\n",
              "    [theme=dark] .colab-df-convert {\n",
              "      background-color: #3B4455;\n",
              "      fill: #D2E3FC;\n",
              "    }\n",
              "\n",
              "    [theme=dark] .colab-df-convert:hover {\n",
              "      background-color: #434B5C;\n",
              "      box-shadow: 0px 1px 3px 1px rgba(0, 0, 0, 0.15);\n",
              "      filter: drop-shadow(0px 1px 2px rgba(0, 0, 0, 0.3));\n",
              "      fill: #FFFFFF;\n",
              "    }\n",
              "  </style>\n",
              "\n",
              "      <script>\n",
              "        const buttonEl =\n",
              "          document.querySelector('#df-ce21b37d-14b3-4ec1-80b3-1c8b18b38d67 button.colab-df-convert');\n",
              "        buttonEl.style.display =\n",
              "          google.colab.kernel.accessAllowed ? 'block' : 'none';\n",
              "\n",
              "        async function convertToInteractive(key) {\n",
              "          const element = document.querySelector('#df-ce21b37d-14b3-4ec1-80b3-1c8b18b38d67');\n",
              "          const dataTable =\n",
              "            await google.colab.kernel.invokeFunction('convertToInteractive',\n",
              "                                                     [key], {});\n",
              "          if (!dataTable) return;\n",
              "\n",
              "          const docLinkHtml = 'Like what you see? Visit the ' +\n",
              "            '<a target=\"_blank\" href=https://colab.research.google.com/notebooks/data_table.ipynb>data table notebook</a>'\n",
              "            + ' to learn more about interactive tables.';\n",
              "          element.innerHTML = '';\n",
              "          dataTable['output_type'] = 'display_data';\n",
              "          await google.colab.output.renderOutput(dataTable, element);\n",
              "          const docLink = document.createElement('div');\n",
              "          docLink.innerHTML = docLinkHtml;\n",
              "          element.appendChild(docLink);\n",
              "        }\n",
              "      </script>\n",
              "    </div>\n",
              "  </div>\n",
              "  "
            ]
          },
          "metadata": {},
          "execution_count": 69
        }
      ]
    }
  ]
}